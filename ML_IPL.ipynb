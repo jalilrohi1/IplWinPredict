{
  "cells": [
    {
      "cell_type": "markdown",
      "metadata": {
        "id": "VHwAy6JFP_O6"
      },
      "source": [
        "# **IPL Team performance Evaluation (Mumbai Indians)**"
      ]
    },
    {
      "cell_type": "markdown",
      "metadata": {
        "id": "8ouqyHYx599E"
      },
      "source": [
        "# 1.1 Importing Libraries"
      ]
    },
    {
      "cell_type": "code",
      "execution_count": 3,
      "metadata": {
        "colab": {
          "base_uri": "https://localhost:8080/"
        },
        "collapsed": true,
        "id": "1Ql6NExrP-Aj",
        "outputId": "d7ecffbb-b019-4a11-f868-7af46aad333b"
      },
      "outputs": [
        {
          "output_type": "stream",
          "name": "stdout",
          "text": [
            "Collecting category_encoders\n",
            "  Downloading category_encoders-2.6.3-py2.py3-none-any.whl (81 kB)\n",
            "\u001b[?25l     \u001b[90m━━━━━━━━━━━━━━━━━━━━━━━━━━━━━━━━━━━━━━━━\u001b[0m \u001b[32m0.0/81.9 kB\u001b[0m \u001b[31m?\u001b[0m eta \u001b[36m-:--:--\u001b[0m\r\u001b[2K     \u001b[91m━━━━━━━━━━━━━━━━━━━━━━━━━━━━━━━━━━━\u001b[0m\u001b[90m╺\u001b[0m\u001b[90m━━━━\u001b[0m \u001b[32m71.7/81.9 kB\u001b[0m \u001b[31m2.2 MB/s\u001b[0m eta \u001b[36m0:00:01\u001b[0m\r\u001b[2K     \u001b[90m━━━━━━━━━━━━━━━━━━━━━━━━━━━━━━━━━━━━━━━━\u001b[0m \u001b[32m81.9/81.9 kB\u001b[0m \u001b[31m1.9 MB/s\u001b[0m eta \u001b[36m0:00:00\u001b[0m\n",
            "\u001b[?25hRequirement already satisfied: numpy>=1.14.0 in /usr/local/lib/python3.10/dist-packages (from category_encoders) (1.25.2)\n",
            "Requirement already satisfied: scikit-learn>=0.20.0 in /usr/local/lib/python3.10/dist-packages (from category_encoders) (1.2.2)\n",
            "Requirement already satisfied: scipy>=1.0.0 in /usr/local/lib/python3.10/dist-packages (from category_encoders) (1.11.4)\n",
            "Requirement already satisfied: statsmodels>=0.9.0 in /usr/local/lib/python3.10/dist-packages (from category_encoders) (0.14.2)\n",
            "Requirement already satisfied: pandas>=1.0.5 in /usr/local/lib/python3.10/dist-packages (from category_encoders) (2.0.3)\n",
            "Requirement already satisfied: patsy>=0.5.1 in /usr/local/lib/python3.10/dist-packages (from category_encoders) (0.5.6)\n",
            "Requirement already satisfied: python-dateutil>=2.8.2 in /usr/local/lib/python3.10/dist-packages (from pandas>=1.0.5->category_encoders) (2.8.2)\n",
            "Requirement already satisfied: pytz>=2020.1 in /usr/local/lib/python3.10/dist-packages (from pandas>=1.0.5->category_encoders) (2023.4)\n",
            "Requirement already satisfied: tzdata>=2022.1 in /usr/local/lib/python3.10/dist-packages (from pandas>=1.0.5->category_encoders) (2024.1)\n",
            "Requirement already satisfied: six in /usr/local/lib/python3.10/dist-packages (from patsy>=0.5.1->category_encoders) (1.16.0)\n",
            "Requirement already satisfied: joblib>=1.1.1 in /usr/local/lib/python3.10/dist-packages (from scikit-learn>=0.20.0->category_encoders) (1.4.2)\n",
            "Requirement already satisfied: threadpoolctl>=2.0.0 in /usr/local/lib/python3.10/dist-packages (from scikit-learn>=0.20.0->category_encoders) (3.5.0)\n",
            "Requirement already satisfied: packaging>=21.3 in /usr/local/lib/python3.10/dist-packages (from statsmodels>=0.9.0->category_encoders) (24.1)\n",
            "Installing collected packages: category_encoders\n",
            "Successfully installed category_encoders-2.6.3\n"
          ]
        }
      ],
      "source": [
        "# Install category_encoders if not already installed\n",
        "%pip install category_encoders\n",
        "# Import necessary libraries\n",
        "import pandas as pd\n",
        "import seaborn as sns\n",
        "import matplotlib.pyplot as plt\n",
        "from sklearn.preprocessing import OneHotEncoder, LabelEncoder\n",
        "from sklearn.model_selection import train_test_split\n",
        "from sklearn.ensemble import RandomForestClassifier\n",
        "from sklearn.metrics import accuracy_score, classification_report\n",
        "from sklearn.ensemble import RandomForestRegressor\n",
        "from sklearn.metrics import mean_absolute_error, mean_squared_error\n",
        "from sklearn.model_selection import cross_val_score\n",
        "from sklearn.model_selection import GridSearchCV\n",
        "import category_encoders as ce"
      ]
    },
    {
      "cell_type": "markdown",
      "metadata": {
        "id": "EMmN5OBG5yro"
      },
      "source": [
        "#1.2 Loding The Data Sets"
      ]
    },
    {
      "cell_type": "code",
      "execution_count": 1,
      "metadata": {
        "colab": {
          "base_uri": "https://localhost:8080/"
        },
        "id": "eq9FavtJ5yET",
        "outputId": "70b318da-d79d-418d-9d3b-70968a78df84",
        "collapsed": true
      },
      "outputs": [
        {
          "output_type": "stream",
          "name": "stdout",
          "text": [
            "Mounted at /content/drive\n"
          ]
        }
      ],
      "source": [
        "# Load the datasets\n",
        "from google.colab import drive\n",
        "drive.mount(\"/content/drive\")\n"
      ]
    },
    {
      "cell_type": "code",
      "source": [
        "!apt-get install git\n"
      ],
      "metadata": {
        "id": "OpibKVpa_Jp6",
        "outputId": "dc55dbfc-ed1b-4bc7-dd75-b0dfbdd59110",
        "colab": {
          "base_uri": "https://localhost:8080/"
        }
      },
      "execution_count": 9,
      "outputs": [
        {
          "output_type": "stream",
          "name": "stdout",
          "text": [
            "Reading package lists... Done\n",
            "Building dependency tree... Done\n",
            "Reading state information... Done\n",
            "git is already the newest version (1:2.34.1-1ubuntu1.11).\n",
            "0 upgraded, 0 newly installed, 0 to remove and 45 not upgraded.\n"
          ]
        }
      ]
    },
    {
      "cell_type": "code",
      "source": [
        "!git clone https://github.com/jalilrohi1/IplWinPredict.git\n"
      ],
      "metadata": {
        "collapsed": true,
        "id": "oDOzLtmT-vel",
        "outputId": "80e5dcfe-c7c3-4362-a176-df154fdd81c5",
        "colab": {
          "base_uri": "https://localhost:8080/"
        }
      },
      "execution_count": 37,
      "outputs": [
        {
          "output_type": "stream",
          "name": "stdout",
          "text": [
            "fatal: destination path 'IplWinPredict' already exists and is not an empty directory.\n"
          ]
        }
      ]
    },
    {
      "cell_type": "code",
      "source": [
        "#%cd IplWinPredict"
      ],
      "metadata": {
        "id": "631a-STWD8nA",
        "outputId": "76dab26d-0b14-4442-cd9f-19539fa1f25d",
        "colab": {
          "base_uri": "https://localhost:8080/"
        }
      },
      "execution_count": 25,
      "outputs": [
        {
          "output_type": "stream",
          "name": "stdout",
          "text": [
            "[Errno 2] No such file or directory: 'IplWinPredict'\n",
            "/content/IplWinPredict\n"
          ]
        }
      ]
    },
    {
      "cell_type": "code",
      "execution_count": 49,
      "metadata": {
        "id": "JJoZca8zVUSh"
      },
      "outputs": [],
      "source": [
        "#path_matchDataSet ='/content/drive/MyDrive/Colab Notebooks/iplDataSet/matches.csv'\n",
        "#path_deliveryDataSet='/content/drive/MyDrive/Colab Notebooks/iplDataSet/deliveries.csv'\n",
        "path_matchDataSet = 'data/matches.csv'\n",
        "path_deliveryDataSet='data/deliveries.csv';\n",
        "ipl_matches = pd.read_csv(path_matchDataSet)\n",
        "ipl_delivery =pd.read_csv(path_deliveryDataSet)"
      ]
    },
    {
      "cell_type": "code",
      "execution_count": null,
      "metadata": {
        "collapsed": true,
        "id": "5dFQAmFWuM79"
      },
      "outputs": [],
      "source": [
        "#to Save Data Back in the Drive\n",
        "ipl_matches.to_csv(path_matchDataSet, index=False)\n",
        "ipl_delivery.to_csv(path_deliveryDataSet, index=False)"
      ]
    },
    {
      "cell_type": "markdown",
      "metadata": {
        "id": "NA76pNoW6qAQ"
      },
      "source": [
        "#**2 Exploring and Analyzing the DataSet**"
      ]
    },
    {
      "cell_type": "code",
      "execution_count": 39,
      "metadata": {
        "colab": {
          "base_uri": "https://localhost:8080/",
          "height": 417
        },
        "id": "lra7Fz10X_Mx",
        "outputId": "613e4737-fc37-45bf-b029-873cb4eb03ba"
      },
      "outputs": [
        {
          "output_type": "execute_result",
          "data": {
            "text/plain": [
              "       id   season        city        date match_type player_of_match  \\\n",
              "0  335982  2007/08   Bangalore  2008-04-18     League     BB McCullum   \n",
              "1  335983  2007/08  Chandigarh  2008-04-19     League      MEK Hussey   \n",
              "2  335984  2007/08       Delhi  2008-04-19     League     MF Maharoof   \n",
              "3  335985  2007/08      Mumbai  2008-04-20     League      MV Boucher   \n",
              "4  335986  2007/08     Kolkata  2008-04-20     League       DJ Hussey   \n",
              "\n",
              "                                        venue                        team1  \\\n",
              "0                       M Chinnaswamy Stadium  Royal Challengers Bangalore   \n",
              "1  Punjab Cricket Association Stadium, Mohali              Kings XI Punjab   \n",
              "2                            Feroz Shah Kotla             Delhi Daredevils   \n",
              "3                            Wankhede Stadium               Mumbai Indians   \n",
              "4                                Eden Gardens        Kolkata Knight Riders   \n",
              "\n",
              "                         team2                  toss_winner toss_decision  \\\n",
              "0        Kolkata Knight Riders  Royal Challengers Bangalore         field   \n",
              "1          Chennai Super Kings          Chennai Super Kings           bat   \n",
              "2             Rajasthan Royals             Rajasthan Royals           bat   \n",
              "3  Royal Challengers Bangalore               Mumbai Indians           bat   \n",
              "4              Deccan Chargers              Deccan Chargers           bat   \n",
              "\n",
              "                        winner   result  result_margin  target_runs  \\\n",
              "0        Kolkata Knight Riders     runs          140.0        223.0   \n",
              "1          Chennai Super Kings     runs           33.0        241.0   \n",
              "2             Delhi Daredevils  wickets            9.0        130.0   \n",
              "3  Royal Challengers Bangalore  wickets            5.0        166.0   \n",
              "4        Kolkata Knight Riders  wickets            5.0        111.0   \n",
              "\n",
              "   target_overs super_over method    umpire1         umpire2  \n",
              "0          20.0          N    NaN  Asad Rauf     RE Koertzen  \n",
              "1          20.0          N    NaN  MR Benson      SL Shastri  \n",
              "2          20.0          N    NaN  Aleem Dar  GA Pratapkumar  \n",
              "3          20.0          N    NaN   SJ Davis       DJ Harper  \n",
              "4          20.0          N    NaN  BF Bowden     K Hariharan  "
            ],
            "text/html": [
              "\n",
              "  <div id=\"df-4729a0ca-4ce0-47fe-b26a-8f4d701e9e49\" class=\"colab-df-container\">\n",
              "    <div>\n",
              "<style scoped>\n",
              "    .dataframe tbody tr th:only-of-type {\n",
              "        vertical-align: middle;\n",
              "    }\n",
              "\n",
              "    .dataframe tbody tr th {\n",
              "        vertical-align: top;\n",
              "    }\n",
              "\n",
              "    .dataframe thead th {\n",
              "        text-align: right;\n",
              "    }\n",
              "</style>\n",
              "<table border=\"1\" class=\"dataframe\">\n",
              "  <thead>\n",
              "    <tr style=\"text-align: right;\">\n",
              "      <th></th>\n",
              "      <th>id</th>\n",
              "      <th>season</th>\n",
              "      <th>city</th>\n",
              "      <th>date</th>\n",
              "      <th>match_type</th>\n",
              "      <th>player_of_match</th>\n",
              "      <th>venue</th>\n",
              "      <th>team1</th>\n",
              "      <th>team2</th>\n",
              "      <th>toss_winner</th>\n",
              "      <th>toss_decision</th>\n",
              "      <th>winner</th>\n",
              "      <th>result</th>\n",
              "      <th>result_margin</th>\n",
              "      <th>target_runs</th>\n",
              "      <th>target_overs</th>\n",
              "      <th>super_over</th>\n",
              "      <th>method</th>\n",
              "      <th>umpire1</th>\n",
              "      <th>umpire2</th>\n",
              "    </tr>\n",
              "  </thead>\n",
              "  <tbody>\n",
              "    <tr>\n",
              "      <th>0</th>\n",
              "      <td>335982</td>\n",
              "      <td>2007/08</td>\n",
              "      <td>Bangalore</td>\n",
              "      <td>2008-04-18</td>\n",
              "      <td>League</td>\n",
              "      <td>BB McCullum</td>\n",
              "      <td>M Chinnaswamy Stadium</td>\n",
              "      <td>Royal Challengers Bangalore</td>\n",
              "      <td>Kolkata Knight Riders</td>\n",
              "      <td>Royal Challengers Bangalore</td>\n",
              "      <td>field</td>\n",
              "      <td>Kolkata Knight Riders</td>\n",
              "      <td>runs</td>\n",
              "      <td>140.0</td>\n",
              "      <td>223.0</td>\n",
              "      <td>20.0</td>\n",
              "      <td>N</td>\n",
              "      <td>NaN</td>\n",
              "      <td>Asad Rauf</td>\n",
              "      <td>RE Koertzen</td>\n",
              "    </tr>\n",
              "    <tr>\n",
              "      <th>1</th>\n",
              "      <td>335983</td>\n",
              "      <td>2007/08</td>\n",
              "      <td>Chandigarh</td>\n",
              "      <td>2008-04-19</td>\n",
              "      <td>League</td>\n",
              "      <td>MEK Hussey</td>\n",
              "      <td>Punjab Cricket Association Stadium, Mohali</td>\n",
              "      <td>Kings XI Punjab</td>\n",
              "      <td>Chennai Super Kings</td>\n",
              "      <td>Chennai Super Kings</td>\n",
              "      <td>bat</td>\n",
              "      <td>Chennai Super Kings</td>\n",
              "      <td>runs</td>\n",
              "      <td>33.0</td>\n",
              "      <td>241.0</td>\n",
              "      <td>20.0</td>\n",
              "      <td>N</td>\n",
              "      <td>NaN</td>\n",
              "      <td>MR Benson</td>\n",
              "      <td>SL Shastri</td>\n",
              "    </tr>\n",
              "    <tr>\n",
              "      <th>2</th>\n",
              "      <td>335984</td>\n",
              "      <td>2007/08</td>\n",
              "      <td>Delhi</td>\n",
              "      <td>2008-04-19</td>\n",
              "      <td>League</td>\n",
              "      <td>MF Maharoof</td>\n",
              "      <td>Feroz Shah Kotla</td>\n",
              "      <td>Delhi Daredevils</td>\n",
              "      <td>Rajasthan Royals</td>\n",
              "      <td>Rajasthan Royals</td>\n",
              "      <td>bat</td>\n",
              "      <td>Delhi Daredevils</td>\n",
              "      <td>wickets</td>\n",
              "      <td>9.0</td>\n",
              "      <td>130.0</td>\n",
              "      <td>20.0</td>\n",
              "      <td>N</td>\n",
              "      <td>NaN</td>\n",
              "      <td>Aleem Dar</td>\n",
              "      <td>GA Pratapkumar</td>\n",
              "    </tr>\n",
              "    <tr>\n",
              "      <th>3</th>\n",
              "      <td>335985</td>\n",
              "      <td>2007/08</td>\n",
              "      <td>Mumbai</td>\n",
              "      <td>2008-04-20</td>\n",
              "      <td>League</td>\n",
              "      <td>MV Boucher</td>\n",
              "      <td>Wankhede Stadium</td>\n",
              "      <td>Mumbai Indians</td>\n",
              "      <td>Royal Challengers Bangalore</td>\n",
              "      <td>Mumbai Indians</td>\n",
              "      <td>bat</td>\n",
              "      <td>Royal Challengers Bangalore</td>\n",
              "      <td>wickets</td>\n",
              "      <td>5.0</td>\n",
              "      <td>166.0</td>\n",
              "      <td>20.0</td>\n",
              "      <td>N</td>\n",
              "      <td>NaN</td>\n",
              "      <td>SJ Davis</td>\n",
              "      <td>DJ Harper</td>\n",
              "    </tr>\n",
              "    <tr>\n",
              "      <th>4</th>\n",
              "      <td>335986</td>\n",
              "      <td>2007/08</td>\n",
              "      <td>Kolkata</td>\n",
              "      <td>2008-04-20</td>\n",
              "      <td>League</td>\n",
              "      <td>DJ Hussey</td>\n",
              "      <td>Eden Gardens</td>\n",
              "      <td>Kolkata Knight Riders</td>\n",
              "      <td>Deccan Chargers</td>\n",
              "      <td>Deccan Chargers</td>\n",
              "      <td>bat</td>\n",
              "      <td>Kolkata Knight Riders</td>\n",
              "      <td>wickets</td>\n",
              "      <td>5.0</td>\n",
              "      <td>111.0</td>\n",
              "      <td>20.0</td>\n",
              "      <td>N</td>\n",
              "      <td>NaN</td>\n",
              "      <td>BF Bowden</td>\n",
              "      <td>K Hariharan</td>\n",
              "    </tr>\n",
              "  </tbody>\n",
              "</table>\n",
              "</div>\n",
              "    <div class=\"colab-df-buttons\">\n",
              "\n",
              "  <div class=\"colab-df-container\">\n",
              "    <button class=\"colab-df-convert\" onclick=\"convertToInteractive('df-4729a0ca-4ce0-47fe-b26a-8f4d701e9e49')\"\n",
              "            title=\"Convert this dataframe to an interactive table.\"\n",
              "            style=\"display:none;\">\n",
              "\n",
              "  <svg xmlns=\"http://www.w3.org/2000/svg\" height=\"24px\" viewBox=\"0 -960 960 960\">\n",
              "    <path d=\"M120-120v-720h720v720H120Zm60-500h600v-160H180v160Zm220 220h160v-160H400v160Zm0 220h160v-160H400v160ZM180-400h160v-160H180v160Zm440 0h160v-160H620v160ZM180-180h160v-160H180v160Zm440 0h160v-160H620v160Z\"/>\n",
              "  </svg>\n",
              "    </button>\n",
              "\n",
              "  <style>\n",
              "    .colab-df-container {\n",
              "      display:flex;\n",
              "      gap: 12px;\n",
              "    }\n",
              "\n",
              "    .colab-df-convert {\n",
              "      background-color: #E8F0FE;\n",
              "      border: none;\n",
              "      border-radius: 50%;\n",
              "      cursor: pointer;\n",
              "      display: none;\n",
              "      fill: #1967D2;\n",
              "      height: 32px;\n",
              "      padding: 0 0 0 0;\n",
              "      width: 32px;\n",
              "    }\n",
              "\n",
              "    .colab-df-convert:hover {\n",
              "      background-color: #E2EBFA;\n",
              "      box-shadow: 0px 1px 2px rgba(60, 64, 67, 0.3), 0px 1px 3px 1px rgba(60, 64, 67, 0.15);\n",
              "      fill: #174EA6;\n",
              "    }\n",
              "\n",
              "    .colab-df-buttons div {\n",
              "      margin-bottom: 4px;\n",
              "    }\n",
              "\n",
              "    [theme=dark] .colab-df-convert {\n",
              "      background-color: #3B4455;\n",
              "      fill: #D2E3FC;\n",
              "    }\n",
              "\n",
              "    [theme=dark] .colab-df-convert:hover {\n",
              "      background-color: #434B5C;\n",
              "      box-shadow: 0px 1px 3px 1px rgba(0, 0, 0, 0.15);\n",
              "      filter: drop-shadow(0px 1px 2px rgba(0, 0, 0, 0.3));\n",
              "      fill: #FFFFFF;\n",
              "    }\n",
              "  </style>\n",
              "\n",
              "    <script>\n",
              "      const buttonEl =\n",
              "        document.querySelector('#df-4729a0ca-4ce0-47fe-b26a-8f4d701e9e49 button.colab-df-convert');\n",
              "      buttonEl.style.display =\n",
              "        google.colab.kernel.accessAllowed ? 'block' : 'none';\n",
              "\n",
              "      async function convertToInteractive(key) {\n",
              "        const element = document.querySelector('#df-4729a0ca-4ce0-47fe-b26a-8f4d701e9e49');\n",
              "        const dataTable =\n",
              "          await google.colab.kernel.invokeFunction('convertToInteractive',\n",
              "                                                    [key], {});\n",
              "        if (!dataTable) return;\n",
              "\n",
              "        const docLinkHtml = 'Like what you see? Visit the ' +\n",
              "          '<a target=\"_blank\" href=https://colab.research.google.com/notebooks/data_table.ipynb>data table notebook</a>'\n",
              "          + ' to learn more about interactive tables.';\n",
              "        element.innerHTML = '';\n",
              "        dataTable['output_type'] = 'display_data';\n",
              "        await google.colab.output.renderOutput(dataTable, element);\n",
              "        const docLink = document.createElement('div');\n",
              "        docLink.innerHTML = docLinkHtml;\n",
              "        element.appendChild(docLink);\n",
              "      }\n",
              "    </script>\n",
              "  </div>\n",
              "\n",
              "\n",
              "<div id=\"df-aff30098-5205-418c-b8ab-0e5fccf255f7\">\n",
              "  <button class=\"colab-df-quickchart\" onclick=\"quickchart('df-aff30098-5205-418c-b8ab-0e5fccf255f7')\"\n",
              "            title=\"Suggest charts\"\n",
              "            style=\"display:none;\">\n",
              "\n",
              "<svg xmlns=\"http://www.w3.org/2000/svg\" height=\"24px\"viewBox=\"0 0 24 24\"\n",
              "     width=\"24px\">\n",
              "    <g>\n",
              "        <path d=\"M19 3H5c-1.1 0-2 .9-2 2v14c0 1.1.9 2 2 2h14c1.1 0 2-.9 2-2V5c0-1.1-.9-2-2-2zM9 17H7v-7h2v7zm4 0h-2V7h2v10zm4 0h-2v-4h2v4z\"/>\n",
              "    </g>\n",
              "</svg>\n",
              "  </button>\n",
              "\n",
              "<style>\n",
              "  .colab-df-quickchart {\n",
              "      --bg-color: #E8F0FE;\n",
              "      --fill-color: #1967D2;\n",
              "      --hover-bg-color: #E2EBFA;\n",
              "      --hover-fill-color: #174EA6;\n",
              "      --disabled-fill-color: #AAA;\n",
              "      --disabled-bg-color: #DDD;\n",
              "  }\n",
              "\n",
              "  [theme=dark] .colab-df-quickchart {\n",
              "      --bg-color: #3B4455;\n",
              "      --fill-color: #D2E3FC;\n",
              "      --hover-bg-color: #434B5C;\n",
              "      --hover-fill-color: #FFFFFF;\n",
              "      --disabled-bg-color: #3B4455;\n",
              "      --disabled-fill-color: #666;\n",
              "  }\n",
              "\n",
              "  .colab-df-quickchart {\n",
              "    background-color: var(--bg-color);\n",
              "    border: none;\n",
              "    border-radius: 50%;\n",
              "    cursor: pointer;\n",
              "    display: none;\n",
              "    fill: var(--fill-color);\n",
              "    height: 32px;\n",
              "    padding: 0;\n",
              "    width: 32px;\n",
              "  }\n",
              "\n",
              "  .colab-df-quickchart:hover {\n",
              "    background-color: var(--hover-bg-color);\n",
              "    box-shadow: 0 1px 2px rgba(60, 64, 67, 0.3), 0 1px 3px 1px rgba(60, 64, 67, 0.15);\n",
              "    fill: var(--button-hover-fill-color);\n",
              "  }\n",
              "\n",
              "  .colab-df-quickchart-complete:disabled,\n",
              "  .colab-df-quickchart-complete:disabled:hover {\n",
              "    background-color: var(--disabled-bg-color);\n",
              "    fill: var(--disabled-fill-color);\n",
              "    box-shadow: none;\n",
              "  }\n",
              "\n",
              "  .colab-df-spinner {\n",
              "    border: 2px solid var(--fill-color);\n",
              "    border-color: transparent;\n",
              "    border-bottom-color: var(--fill-color);\n",
              "    animation:\n",
              "      spin 1s steps(1) infinite;\n",
              "  }\n",
              "\n",
              "  @keyframes spin {\n",
              "    0% {\n",
              "      border-color: transparent;\n",
              "      border-bottom-color: var(--fill-color);\n",
              "      border-left-color: var(--fill-color);\n",
              "    }\n",
              "    20% {\n",
              "      border-color: transparent;\n",
              "      border-left-color: var(--fill-color);\n",
              "      border-top-color: var(--fill-color);\n",
              "    }\n",
              "    30% {\n",
              "      border-color: transparent;\n",
              "      border-left-color: var(--fill-color);\n",
              "      border-top-color: var(--fill-color);\n",
              "      border-right-color: var(--fill-color);\n",
              "    }\n",
              "    40% {\n",
              "      border-color: transparent;\n",
              "      border-right-color: var(--fill-color);\n",
              "      border-top-color: var(--fill-color);\n",
              "    }\n",
              "    60% {\n",
              "      border-color: transparent;\n",
              "      border-right-color: var(--fill-color);\n",
              "    }\n",
              "    80% {\n",
              "      border-color: transparent;\n",
              "      border-right-color: var(--fill-color);\n",
              "      border-bottom-color: var(--fill-color);\n",
              "    }\n",
              "    90% {\n",
              "      border-color: transparent;\n",
              "      border-bottom-color: var(--fill-color);\n",
              "    }\n",
              "  }\n",
              "</style>\n",
              "\n",
              "  <script>\n",
              "    async function quickchart(key) {\n",
              "      const quickchartButtonEl =\n",
              "        document.querySelector('#' + key + ' button');\n",
              "      quickchartButtonEl.disabled = true;  // To prevent multiple clicks.\n",
              "      quickchartButtonEl.classList.add('colab-df-spinner');\n",
              "      try {\n",
              "        const charts = await google.colab.kernel.invokeFunction(\n",
              "            'suggestCharts', [key], {});\n",
              "      } catch (error) {\n",
              "        console.error('Error during call to suggestCharts:', error);\n",
              "      }\n",
              "      quickchartButtonEl.classList.remove('colab-df-spinner');\n",
              "      quickchartButtonEl.classList.add('colab-df-quickchart-complete');\n",
              "    }\n",
              "    (() => {\n",
              "      let quickchartButtonEl =\n",
              "        document.querySelector('#df-aff30098-5205-418c-b8ab-0e5fccf255f7 button');\n",
              "      quickchartButtonEl.style.display =\n",
              "        google.colab.kernel.accessAllowed ? 'block' : 'none';\n",
              "    })();\n",
              "  </script>\n",
              "</div>\n",
              "\n",
              "    </div>\n",
              "  </div>\n"
            ],
            "application/vnd.google.colaboratory.intrinsic+json": {
              "type": "dataframe",
              "variable_name": "ipl_matches",
              "summary": "{\n  \"name\": \"ipl_matches\",\n  \"rows\": 1024,\n  \"fields\": [\n    {\n      \"column\": \"id\",\n      \"properties\": {\n        \"dtype\": \"number\",\n        \"std\": 352892,\n        \"min\": 335982,\n        \"max\": 1370353,\n        \"num_unique_values\": 1024,\n        \"samples\": [\n          980917,\n          598032,\n          734023\n        ],\n        \"semantic_type\": \"\",\n        \"description\": \"\"\n      }\n    },\n    {\n      \"column\": \"season\",\n      \"properties\": {\n        \"dtype\": \"category\",\n        \"num_unique_values\": 16,\n        \"samples\": [\n          \"2007/08\",\n          \"2009\",\n          \"2013\"\n        ],\n        \"semantic_type\": \"\",\n        \"description\": \"\"\n      }\n    },\n    {\n      \"column\": \"city\",\n      \"properties\": {\n        \"dtype\": \"category\",\n        \"num_unique_values\": 35,\n        \"samples\": [\n          \"Abu Dhabi\",\n          \"Johannesburg\",\n          \"Raipur\"\n        ],\n        \"semantic_type\": \"\",\n        \"description\": \"\"\n      }\n    },\n    {\n      \"column\": \"date\",\n      \"properties\": {\n        \"dtype\": \"object\",\n        \"num_unique_values\": 762,\n        \"samples\": [\n          \"2012-04-28\",\n          \"2013-05-10\",\n          \"2008-05-28\"\n        ],\n        \"semantic_type\": \"\",\n        \"description\": \"\"\n      }\n    },\n    {\n      \"column\": \"match_type\",\n      \"properties\": {\n        \"dtype\": \"category\",\n        \"num_unique_values\": 8,\n        \"samples\": [\n          \"Semi Final\",\n          \"Elimination Final\",\n          \"League\"\n        ],\n        \"semantic_type\": \"\",\n        \"description\": \"\"\n      }\n    },\n    {\n      \"column\": \"player_of_match\",\n      \"properties\": {\n        \"dtype\": \"category\",\n        \"num_unique_values\": 280,\n        \"samples\": [\n          \"A Kumble\",\n          \"P Parameswaran\",\n          \"KS Bharat\"\n        ],\n        \"semantic_type\": \"\",\n        \"description\": \"\"\n      }\n    },\n    {\n      \"column\": \"venue\",\n      \"properties\": {\n        \"dtype\": \"category\",\n        \"num_unique_values\": 56,\n        \"samples\": [\n          \"M Chinnaswamy Stadium\",\n          \"Sawai Mansingh Stadium\",\n          \"Punjab Cricket Association IS Bindra Stadium, Mohali\"\n        ],\n        \"semantic_type\": \"\",\n        \"description\": \"\"\n      }\n    },\n    {\n      \"column\": \"team1\",\n      \"properties\": {\n        \"dtype\": \"category\",\n        \"num_unique_values\": 18,\n        \"samples\": [\n          \"Royal Challengers Bangalore\",\n          \"Kings XI Punjab\",\n          \"Kochi Tuskers Kerala\"\n        ],\n        \"semantic_type\": \"\",\n        \"description\": \"\"\n      }\n    },\n    {\n      \"column\": \"team2\",\n      \"properties\": {\n        \"dtype\": \"category\",\n        \"num_unique_values\": 18,\n        \"samples\": [\n          \"Kolkata Knight Riders\",\n          \"Chennai Super Kings\",\n          \"Kochi Tuskers Kerala\"\n        ],\n        \"semantic_type\": \"\",\n        \"description\": \"\"\n      }\n    },\n    {\n      \"column\": \"toss_winner\",\n      \"properties\": {\n        \"dtype\": \"category\",\n        \"num_unique_values\": 18,\n        \"samples\": [\n          \"Royal Challengers Bangalore\",\n          \"Chennai Super Kings\",\n          \"Kochi Tuskers Kerala\"\n        ],\n        \"semantic_type\": \"\",\n        \"description\": \"\"\n      }\n    },\n    {\n      \"column\": \"toss_decision\",\n      \"properties\": {\n        \"dtype\": \"category\",\n        \"num_unique_values\": 2,\n        \"samples\": [\n          \"bat\",\n          \"field\"\n        ],\n        \"semantic_type\": \"\",\n        \"description\": \"\"\n      }\n    },\n    {\n      \"column\": \"winner\",\n      \"properties\": {\n        \"dtype\": \"category\",\n        \"num_unique_values\": 18,\n        \"samples\": [\n          \"Kolkata Knight Riders\",\n          \"Chennai Super Kings\"\n        ],\n        \"semantic_type\": \"\",\n        \"description\": \"\"\n      }\n    },\n    {\n      \"column\": \"result\",\n      \"properties\": {\n        \"dtype\": \"category\",\n        \"num_unique_values\": 4,\n        \"samples\": [\n          \"wickets\",\n          \"no result\"\n        ],\n        \"semantic_type\": \"\",\n        \"description\": \"\"\n      }\n    },\n    {\n      \"column\": \"result_margin\",\n      \"properties\": {\n        \"dtype\": \"number\",\n        \"std\": 21.79129877872764,\n        \"min\": 1.0,\n        \"max\": 146.0,\n        \"num_unique_values\": 97,\n        \"samples\": [\n          59.0,\n          39.0\n        ],\n        \"semantic_type\": \"\",\n        \"description\": \"\"\n      }\n    },\n    {\n      \"column\": \"target_runs\",\n      \"properties\": {\n        \"dtype\": \"number\",\n        \"std\": 32.35754069134574,\n        \"min\": 43.0,\n        \"max\": 264.0,\n        \"num_unique_values\": 161,\n        \"samples\": [\n          98.0,\n          199.0\n        ],\n        \"semantic_type\": \"\",\n        \"description\": \"\"\n      }\n    },\n    {\n      \"column\": \"target_overs\",\n      \"properties\": {\n        \"dtype\": \"number\",\n        \"std\": 1.6296998871767254,\n        \"min\": 5.0,\n        \"max\": 20.0,\n        \"num_unique_values\": 15,\n        \"samples\": [\n          12.0,\n          11.0\n        ],\n        \"semantic_type\": \"\",\n        \"description\": \"\"\n      }\n    },\n    {\n      \"column\": \"super_over\",\n      \"properties\": {\n        \"dtype\": \"category\",\n        \"num_unique_values\": 2,\n        \"samples\": [\n          \"Y\",\n          \"N\"\n        ],\n        \"semantic_type\": \"\",\n        \"description\": \"\"\n      }\n    },\n    {\n      \"column\": \"method\",\n      \"properties\": {\n        \"dtype\": \"category\",\n        \"num_unique_values\": 1,\n        \"samples\": [\n          \"D/L\"\n        ],\n        \"semantic_type\": \"\",\n        \"description\": \"\"\n      }\n    },\n    {\n      \"column\": \"umpire1\",\n      \"properties\": {\n        \"dtype\": \"category\",\n        \"num_unique_values\": 60,\n        \"samples\": [\n          \"Asad Rauf\"\n        ],\n        \"semantic_type\": \"\",\n        \"description\": \"\"\n      }\n    },\n    {\n      \"column\": \"umpire2\",\n      \"properties\": {\n        \"dtype\": \"category\",\n        \"num_unique_values\": 62,\n        \"samples\": [\n          \"AY Dandekar\"\n        ],\n        \"semantic_type\": \"\",\n        \"description\": \"\"\n      }\n    }\n  ]\n}"
            }
          },
          "metadata": {},
          "execution_count": 39
        }
      ],
      "source": [
        "# Display the first few rows of each dataset to understand their structure\n",
        "ipl_matches.head()"
      ]
    },
    {
      "cell_type": "code",
      "execution_count": null,
      "metadata": {
        "cellView": "form",
        "colab": {
          "base_uri": "https://localhost:8080/",
          "height": 450
        },
        "id": "4iGc5ppVt1so",
        "outputId": "0e9ebdf0-c025-459b-87de-80d445d75690"
      },
      "outputs": [
        {
          "data": {
            "image/png": "[encoded data removed]",
            "text/plain": [
              "<Figure size 640x480 with 1 Axes>"
            ]
          },
          "metadata": {},
          "output_type": "display_data"
        }
      ],
      "source": [
        "# @title result_margin vs target_runs\n",
        "\n",
        "from matplotlib import pyplot as plt\n",
        "ipl_matches.plot(kind='scatter', x='result_margin', y='target_runs', s=32, alpha=.8)\n",
        "plt.gca().spines[['top', 'right',]].set_visible(False)"
      ]
    },
    {
      "cell_type": "code",
      "execution_count": null,
      "metadata": {
        "colab": {
          "base_uri": "https://localhost:8080/",
          "height": 399
        },
        "id": "z1-X7GbyZMog",
        "outputId": "cb49e99f-5dc2-4f58-c9fc-90a5d5f14b2f"
      },
      "outputs": [
        {
          "data": {
            "application/vnd.google.colaboratory.intrinsic+json": {
              "summary": "{\n  \"name\": \"ipl_delivery\",\n  \"rows\": 30525,\n  \"fields\": [\n    {\n      \"column\": \"match_id\",\n      \"properties\": {\n        \"dtype\": \"number\",\n        \"std\": 31643,\n        \"min\": 335982,\n        \"max\": 419120,\n        \"num_unique_values\": 130,\n        \"samples\": [\n          336038,\n          336022,\n          336001\n        ],\n        \"semantic_type\": \"\",\n        \"description\": \"\"\n      }\n    },\n    {\n      \"column\": \"inning\",\n      \"properties\": {\n        \"dtype\": \"number\",\n        \"std\": 0,\n        \"min\": 1,\n        \"max\": 4,\n        \"num_unique_values\": 4,\n        \"samples\": [\n          2,\n          4,\n          1\n        ],\n        \"semantic_type\": \"\",\n        \"description\": \"\"\n      }\n    },\n    {\n      \"column\": \"batting_team\",\n      \"properties\": {\n        \"dtype\": \"category\",\n        \"num_unique_values\": 8,\n        \"samples\": [\n          \"Royal Challengers Bangalore\",\n          \"Delhi Daredevils\",\n          \"Kolkata Knight Riders\"\n        ],\n        \"semantic_type\": \"\",\n        \"description\": \"\"\n      }\n    },\n    {\n      \"column\": \"bowling_team\",\n      \"properties\": {\n        \"dtype\": \"category\",\n        \"num_unique_values\": 9,\n        \"samples\": [\n          \"Deccan Chargers\",\n          \"Kolkata Knight Riders\",\n          \"Rajasthan Royals\"\n        ],\n        \"semantic_type\": \"\",\n        \"description\": \"\"\n      }\n    },\n    {\n      \"column\": \"over\",\n      \"properties\": {\n        \"dtype\": \"number\",\n        \"std\": 5.666866599459232,\n        \"min\": 0.0,\n        \"max\": 19.0,\n        \"num_unique_values\": 20,\n        \"samples\": [\n          0.0,\n          17.0,\n          15.0\n        ],\n        \"semantic_type\": \"\",\n        \"description\": \"\"\n      }\n    },\n    {\n      \"column\": \"ball\",\n      \"properties\": {\n        \"dtype\": \"number\",\n        \"std\": 1.820224636102217,\n        \"min\": 1.0,\n        \"max\": 10.0,\n        \"num_unique_values\": 10,\n        \"samples\": [\n          9.0,\n          2.0,\n          6.0\n        ],\n        \"semantic_type\": \"\",\n        \"description\": \"\"\n      }\n    },\n    {\n      \"column\": \"batter\",\n      \"properties\": {\n        \"dtype\": \"category\",\n        \"num_unique_values\": 232,\n        \"samples\": [\n          \"RS Gavaskar\",\n          \"B Lee\",\n          \"CL White\"\n        ],\n        \"semantic_type\": \"\",\n        \"description\": \"\"\n      }\n    },\n    {\n      \"column\": \"bowler\",\n      \"properties\": {\n        \"dtype\": \"category\",\n        \"num_unique_values\": 164,\n        \"samples\": [\n          \"A Mithun\",\n          \"MK Tiwary\",\n          \"TL Suman\"\n        ],\n        \"semantic_type\": \"\",\n        \"description\": \"\"\n      }\n    },\n    {\n      \"column\": \"non_striker\",\n      \"properties\": {\n        \"dtype\": \"category\",\n        \"num_unique_values\": 228,\n        \"samples\": [\n          \"A Uniyal\",\n          \"PP Chawla\",\n          \"CL White\"\n        ],\n        \"semantic_type\": \"\",\n        \"description\": \"\"\n      }\n    },\n    {\n      \"column\": \"batsman_runs\",\n      \"properties\": {\n        \"dtype\": \"number\",\n        \"std\": 1.5919406537952316,\n        \"min\": 0.0,\n        \"max\": 6.0,\n        \"num_unique_values\": 7,\n        \"samples\": [\n          0.0,\n          4.0,\n          5.0\n        ],\n        \"semantic_type\": \"\",\n        \"description\": \"\"\n      }\n    },\n    {\n      \"column\": \"extra_runs\",\n      \"properties\": {\n        \"dtype\": \"number\",\n        \"std\": 0.3696633104441177,\n        \"min\": 0.0,\n        \"max\": 5.0,\n        \"num_unique_values\": 6,\n        \"samples\": [\n          1.0,\n          0.0,\n          3.0\n        ],\n        \"semantic_type\": \"\",\n        \"description\": \"\"\n      }\n    },\n    {\n      \"column\": \"total_runs\",\n      \"properties\": {\n        \"dtype\": \"number\",\n        \"std\": 1.581474996683163,\n        \"min\": 0.0,\n        \"max\": 7.0,\n        \"num_unique_values\": 8,\n        \"samples\": [\n          0.0,\n          2.0,\n          1.0\n        ],\n        \"semantic_type\": \"\",\n        \"description\": \"\"\n      }\n    },\n    {\n      \"column\": \"extras_type\",\n      \"properties\": {\n        \"dtype\": \"category\",\n        \"num_unique_values\": 5,\n        \"samples\": [\n          \"wides\",\n          \"penalty\",\n          \"byes\"\n        ],\n        \"semantic_type\": \"\",\n        \"description\": \"\"\n      }\n    },\n    {\n      \"column\": \"is_wicket\",\n      \"properties\": {\n        \"dtype\": \"number\",\n        \"std\": 0.2200866292777189,\n        \"min\": 0.0,\n        \"max\": 1.0,\n        \"num_unique_values\": 2,\n        \"samples\": [\n          1.0,\n          0.0\n        ],\n        \"semantic_type\": \"\",\n        \"description\": \"\"\n      }\n    },\n    {\n      \"column\": \"player_dismissed\",\n      \"properties\": {\n        \"dtype\": \"category\",\n        \"num_unique_values\": 218,\n        \"samples\": [\n          \"DB Ravi Teja\",\n          \"AB Barath\"\n        ],\n        \"semantic_type\": \"\",\n        \"description\": \"\"\n      }\n    },\n    {\n      \"column\": \"dismissal_kind\",\n      \"properties\": {\n        \"dtype\": \"category\",\n        \"num_unique_values\": 8,\n        \"samples\": [\n          \"bowled\",\n          \"stumped\"\n        ],\n        \"semantic_type\": \"\",\n        \"description\": \"\"\n      }\n    },\n    {\n      \"column\": \"fielder\",\n      \"properties\": {\n        \"dtype\": \"category\",\n        \"num_unique_values\": 195,\n        \"samples\": [\n          \"DL Vettori\",\n          \"Z Khan\"\n        ],\n        \"semantic_type\": \"\",\n        \"description\": \"\"\n      }\n    }\n  ]\n}",
              "type": "dataframe",
              "variable_name": "ipl_delivery"
            },
            "text/html": [
              "\n",
              "  <div id=\"df-3162e649-bc79-4e81-a771-ba64949b2634\" class=\"colab-df-container\">\n",
              "    <div>\n",
              "<style scoped>\n",
              "    .dataframe tbody tr th:only-of-type {\n",
              "        vertical-align: middle;\n",
              "    }\n",
              "\n",
              "    .dataframe tbody tr th {\n",
              "        vertical-align: top;\n",
              "    }\n",
              "\n",
              "    .dataframe thead th {\n",
              "        text-align: right;\n",
              "    }\n",
              "</style>\n",
              "<table border=\"1\" class=\"dataframe\">\n",
              "  <thead>\n",
              "    <tr style=\"text-align: right;\">\n",
              "      <th></th>\n",
              "      <th>match_id</th>\n",
              "      <th>inning</th>\n",
              "      <th>batting_team</th>\n",
              "      <th>bowling_team</th>\n",
              "      <th>over</th>\n",
              "      <th>ball</th>\n",
              "      <th>batter</th>\n",
              "      <th>bowler</th>\n",
              "      <th>non_striker</th>\n",
              "      <th>batsman_runs</th>\n",
              "      <th>extra_runs</th>\n",
              "      <th>total_runs</th>\n",
              "      <th>extras_type</th>\n",
              "      <th>is_wicket</th>\n",
              "      <th>player_dismissed</th>\n",
              "      <th>dismissal_kind</th>\n",
              "      <th>fielder</th>\n",
              "    </tr>\n",
              "  </thead>\n",
              "  <tbody>\n",
              "    <tr>\n",
              "      <th>0</th>\n",
              "      <td>335982</td>\n",
              "      <td>1</td>\n",
              "      <td>Kolkata Knight Riders</td>\n",
              "      <td>Royal Challengers Bangalore</td>\n",
              "      <td>0.0</td>\n",
              "      <td>1.0</td>\n",
              "      <td>SC Ganguly</td>\n",
              "      <td>P Kumar</td>\n",
              "      <td>BB McCullum</td>\n",
              "      <td>0.0</td>\n",
              "      <td>1.0</td>\n",
              "      <td>1.0</td>\n",
              "      <td>legbyes</td>\n",
              "      <td>0.0</td>\n",
              "      <td>NaN</td>\n",
              "      <td>NaN</td>\n",
              "      <td>NaN</td>\n",
              "    </tr>\n",
              "    <tr>\n",
              "      <th>1</th>\n",
              "      <td>335982</td>\n",
              "      <td>1</td>\n",
              "      <td>Kolkata Knight Riders</td>\n",
              "      <td>Royal Challengers Bangalore</td>\n",
              "      <td>0.0</td>\n",
              "      <td>2.0</td>\n",
              "      <td>BB McCullum</td>\n",
              "      <td>P Kumar</td>\n",
              "      <td>SC Ganguly</td>\n",
              "      <td>0.0</td>\n",
              "      <td>0.0</td>\n",
              "      <td>0.0</td>\n",
              "      <td>NaN</td>\n",
              "      <td>0.0</td>\n",
              "      <td>NaN</td>\n",
              "      <td>NaN</td>\n",
              "      <td>NaN</td>\n",
              "    </tr>\n",
              "    <tr>\n",
              "      <th>2</th>\n",
              "      <td>335982</td>\n",
              "      <td>1</td>\n",
              "      <td>Kolkata Knight Riders</td>\n",
              "      <td>Royal Challengers Bangalore</td>\n",
              "      <td>0.0</td>\n",
              "      <td>3.0</td>\n",
              "      <td>BB McCullum</td>\n",
              "      <td>P Kumar</td>\n",
              "      <td>SC Ganguly</td>\n",
              "      <td>0.0</td>\n",
              "      <td>1.0</td>\n",
              "      <td>1.0</td>\n",
              "      <td>wides</td>\n",
              "      <td>0.0</td>\n",
              "      <td>NaN</td>\n",
              "      <td>NaN</td>\n",
              "      <td>NaN</td>\n",
              "    </tr>\n",
              "    <tr>\n",
              "      <th>3</th>\n",
              "      <td>335982</td>\n",
              "      <td>1</td>\n",
              "      <td>Kolkata Knight Riders</td>\n",
              "      <td>Royal Challengers Bangalore</td>\n",
              "      <td>0.0</td>\n",
              "      <td>4.0</td>\n",
              "      <td>BB McCullum</td>\n",
              "      <td>P Kumar</td>\n",
              "      <td>SC Ganguly</td>\n",
              "      <td>0.0</td>\n",
              "      <td>0.0</td>\n",
              "      <td>0.0</td>\n",
              "      <td>NaN</td>\n",
              "      <td>0.0</td>\n",
              "      <td>NaN</td>\n",
              "      <td>NaN</td>\n",
              "      <td>NaN</td>\n",
              "    </tr>\n",
              "    <tr>\n",
              "      <th>4</th>\n",
              "      <td>335982</td>\n",
              "      <td>1</td>\n",
              "      <td>Kolkata Knight Riders</td>\n",
              "      <td>Royal Challengers Bangalore</td>\n",
              "      <td>0.0</td>\n",
              "      <td>5.0</td>\n",
              "      <td>BB McCullum</td>\n",
              "      <td>P Kumar</td>\n",
              "      <td>SC Ganguly</td>\n",
              "      <td>0.0</td>\n",
              "      <td>0.0</td>\n",
              "      <td>0.0</td>\n",
              "      <td>NaN</td>\n",
              "      <td>0.0</td>\n",
              "      <td>NaN</td>\n",
              "      <td>NaN</td>\n",
              "      <td>NaN</td>\n",
              "    </tr>\n",
              "  </tbody>\n",
              "</table>\n",
              "</div>\n",
              "    <div class=\"colab-df-buttons\">\n",
              "\n",
              "  <div class=\"colab-df-container\">\n",
              "    <button class=\"colab-df-convert\" onclick=\"convertToInteractive('df-3162e649-bc79-4e81-a771-ba64949b2634')\"\n",
              "            title=\"Convert this dataframe to an interactive table.\"\n",
              "            style=\"display:none;\">\n",
              "\n",
              "  <svg xmlns=\"http://www.w3.org/2000/svg\" height=\"24px\" viewBox=\"0 -960 960 960\">\n",
              "    <path d=\"M120-120v-720h720v720H120Zm60-500h600v-160H180v160Zm220 220h160v-160H400v160Zm0 220h160v-160H400v160ZM180-400h160v-160H180v160Zm440 0h160v-160H620v160ZM180-180h160v-160H180v160Zm440 0h160v-160H620v160Z\"/>\n",
              "  </svg>\n",
              "    </button>\n",
              "\n",
              "  <style>\n",
              "    .colab-df-container {\n",
              "      display:flex;\n",
              "      gap: 12px;\n",
              "    }\n",
              "\n",
              "    .colab-df-convert {\n",
              "      background-color: #E8F0FE;\n",
              "      border: none;\n",
              "      border-radius: 50%;\n",
              "      cursor: pointer;\n",
              "      display: none;\n",
              "      fill: #1967D2;\n",
              "      height: 32px;\n",
              "      padding: 0 0 0 0;\n",
              "      width: 32px;\n",
              "    }\n",
              "\n",
              "    .colab-df-convert:hover {\n",
              "      background-color: #E2EBFA;\n",
              "      box-shadow: 0px 1px 2px rgba(60, 64, 67, 0.3), 0px 1px 3px 1px rgba(60, 64, 67, 0.15);\n",
              "      fill: #174EA6;\n",
              "    }\n",
              "\n",
              "    .colab-df-buttons div {\n",
              "      margin-bottom: 4px;\n",
              "    }\n",
              "\n",
              "    [theme=dark] .colab-df-convert {\n",
              "      background-color: #3B4455;\n",
              "      fill: #D2E3FC;\n",
              "    }\n",
              "\n",
              "    [theme=dark] .colab-df-convert:hover {\n",
              "      background-color: #434B5C;\n",
              "      box-shadow: 0px 1px 3px 1px rgba(0, 0, 0, 0.15);\n",
              "      filter: drop-shadow(0px 1px 2px rgba(0, 0, 0, 0.3));\n",
              "      fill: #FFFFFF;\n",
              "    }\n",
              "  </style>\n",
              "\n",
              "    <script>\n",
              "      const buttonEl =\n",
              "        document.querySelector('#df-3162e649-bc79-4e81-a771-ba64949b2634 button.colab-df-convert');\n",
              "      buttonEl.style.display =\n",
              "        google.colab.kernel.accessAllowed ? 'block' : 'none';\n",
              "\n",
              "      async function convertToInteractive(key) {\n",
              "        const element = document.querySelector('#df-3162e649-bc79-4e81-a771-ba64949b2634');\n",
              "        const dataTable =\n",
              "          await google.colab.kernel.invokeFunction('convertToInteractive',\n",
              "                                                    [key], {});\n",
              "        if (!dataTable) return;\n",
              "\n",
              "        const docLinkHtml = 'Like what you see? Visit the ' +\n",
              "          '<a target=\"_blank\" href=https://colab.research.google.com/notebooks/data_table.ipynb>data table notebook</a>'\n",
              "          + ' to learn more about interactive tables.';\n",
              "        element.innerHTML = '';\n",
              "        dataTable['output_type'] = 'display_data';\n",
              "        await google.colab.output.renderOutput(dataTable, element);\n",
              "        const docLink = document.createElement('div');\n",
              "        docLink.innerHTML = docLinkHtml;\n",
              "        element.appendChild(docLink);\n",
              "      }\n",
              "    </script>\n",
              "  </div>\n",
              "\n",
              "\n",
              "<div id=\"df-9c8618fb-e33b-4a67-a6aa-9834daca1063\">\n",
              "  <button class=\"colab-df-quickchart\" onclick=\"quickchart('df-9c8618fb-e33b-4a67-a6aa-9834daca1063')\"\n",
              "            title=\"Suggest charts\"\n",
              "            style=\"display:none;\">\n",
              "\n",
              "<svg xmlns=\"http://www.w3.org/2000/svg\" height=\"24px\"viewBox=\"0 0 24 24\"\n",
              "     width=\"24px\">\n",
              "    <g>\n",
              "        <path d=\"M19 3H5c-1.1 0-2 .9-2 2v14c0 1.1.9 2 2 2h14c1.1 0 2-.9 2-2V5c0-1.1-.9-2-2-2zM9 17H7v-7h2v7zm4 0h-2V7h2v10zm4 0h-2v-4h2v4z\"/>\n",
              "    </g>\n",
              "</svg>\n",
              "  </button>\n",
              "\n",
              "<style>\n",
              "  .colab-df-quickchart {\n",
              "      --bg-color: #E8F0FE;\n",
              "      --fill-color: #1967D2;\n",
              "      --hover-bg-color: #E2EBFA;\n",
              "      --hover-fill-color: #174EA6;\n",
              "      --disabled-fill-color: #AAA;\n",
              "      --disabled-bg-color: #DDD;\n",
              "  }\n",
              "\n",
              "  [theme=dark] .colab-df-quickchart {\n",
              "      --bg-color: #3B4455;\n",
              "      --fill-color: #D2E3FC;\n",
              "      --hover-bg-color: #434B5C;\n",
              "      --hover-fill-color: #FFFFFF;\n",
              "      --disabled-bg-color: #3B4455;\n",
              "      --disabled-fill-color: #666;\n",
              "  }\n",
              "\n",
              "  .colab-df-quickchart {\n",
              "    background-color: var(--bg-color);\n",
              "    border: none;\n",
              "    border-radius: 50%;\n",
              "    cursor: pointer;\n",
              "    display: none;\n",
              "    fill: var(--fill-color);\n",
              "    height: 32px;\n",
              "    padding: 0;\n",
              "    width: 32px;\n",
              "  }\n",
              "\n",
              "  .colab-df-quickchart:hover {\n",
              "    background-color: var(--hover-bg-color);\n",
              "    box-shadow: 0 1px 2px rgba(60, 64, 67, 0.3), 0 1px 3px 1px rgba(60, 64, 67, 0.15);\n",
              "    fill: var(--button-hover-fill-color);\n",
              "  }\n",
              "\n",
              "  .colab-df-quickchart-complete:disabled,\n",
              "  .colab-df-quickchart-complete:disabled:hover {\n",
              "    background-color: var(--disabled-bg-color);\n",
              "    fill: var(--disabled-fill-color);\n",
              "    box-shadow: none;\n",
              "  }\n",
              "\n",
              "  .colab-df-spinner {\n",
              "    border: 2px solid var(--fill-color);\n",
              "    border-color: transparent;\n",
              "    border-bottom-color: var(--fill-color);\n",
              "    animation:\n",
              "      spin 1s steps(1) infinite;\n",
              "  }\n",
              "\n",
              "  @keyframes spin {\n",
              "    0% {\n",
              "      border-color: transparent;\n",
              "      border-bottom-color: var(--fill-color);\n",
              "      border-left-color: var(--fill-color);\n",
              "    }\n",
              "    20% {\n",
              "      border-color: transparent;\n",
              "      border-left-color: var(--fill-color);\n",
              "      border-top-color: var(--fill-color);\n",
              "    }\n",
              "    30% {\n",
              "      border-color: transparent;\n",
              "      border-left-color: var(--fill-color);\n",
              "      border-top-color: var(--fill-color);\n",
              "      border-right-color: var(--fill-color);\n",
              "    }\n",
              "    40% {\n",
              "      border-color: transparent;\n",
              "      border-right-color: var(--fill-color);\n",
              "      border-top-color: var(--fill-color);\n",
              "    }\n",
              "    60% {\n",
              "      border-color: transparent;\n",
              "      border-right-color: var(--fill-color);\n",
              "    }\n",
              "    80% {\n",
              "      border-color: transparent;\n",
              "      border-right-color: var(--fill-color);\n",
              "      border-bottom-color: var(--fill-color);\n",
              "    }\n",
              "    90% {\n",
              "      border-color: transparent;\n",
              "      border-bottom-color: var(--fill-color);\n",
              "    }\n",
              "  }\n",
              "</style>\n",
              "\n",
              "  <script>\n",
              "    async function quickchart(key) {\n",
              "      const quickchartButtonEl =\n",
              "        document.querySelector('#' + key + ' button');\n",
              "      quickchartButtonEl.disabled = true;  // To prevent multiple clicks.\n",
              "      quickchartButtonEl.classList.add('colab-df-spinner');\n",
              "      try {\n",
              "        const charts = await google.colab.kernel.invokeFunction(\n",
              "            'suggestCharts', [key], {});\n",
              "      } catch (error) {\n",
              "        console.error('Error during call to suggestCharts:', error);\n",
              "      }\n",
              "      quickchartButtonEl.classList.remove('colab-df-spinner');\n",
              "      quickchartButtonEl.classList.add('colab-df-quickchart-complete');\n",
              "    }\n",
              "    (() => {\n",
              "      let quickchartButtonEl =\n",
              "        document.querySelector('#df-9c8618fb-e33b-4a67-a6aa-9834daca1063 button');\n",
              "      quickchartButtonEl.style.display =\n",
              "        google.colab.kernel.accessAllowed ? 'block' : 'none';\n",
              "    })();\n",
              "  </script>\n",
              "</div>\n",
              "    </div>\n",
              "  </div>\n"
            ],
            "text/plain": [
              "   match_id  inning           batting_team                 bowling_team  over  \\\n",
              "0    335982       1  Kolkata Knight Riders  Royal Challengers Bangalore   0.0   \n",
              "1    335982       1  Kolkata Knight Riders  Royal Challengers Bangalore   0.0   \n",
              "2    335982       1  Kolkata Knight Riders  Royal Challengers Bangalore   0.0   \n",
              "3    335982       1  Kolkata Knight Riders  Royal Challengers Bangalore   0.0   \n",
              "4    335982       1  Kolkata Knight Riders  Royal Challengers Bangalore   0.0   \n",
              "\n",
              "   ball       batter   bowler  non_striker  batsman_runs  extra_runs  \\\n",
              "0   1.0   SC Ganguly  P Kumar  BB McCullum           0.0         1.0   \n",
              "1   2.0  BB McCullum  P Kumar   SC Ganguly           0.0         0.0   \n",
              "2   3.0  BB McCullum  P Kumar   SC Ganguly           0.0         1.0   \n",
              "3   4.0  BB McCullum  P Kumar   SC Ganguly           0.0         0.0   \n",
              "4   5.0  BB McCullum  P Kumar   SC Ganguly           0.0         0.0   \n",
              "\n",
              "   total_runs extras_type  is_wicket player_dismissed dismissal_kind fielder  \n",
              "0         1.0     legbyes        0.0              NaN            NaN     NaN  \n",
              "1         0.0         NaN        0.0              NaN            NaN     NaN  \n",
              "2         1.0       wides        0.0              NaN            NaN     NaN  \n",
              "3         0.0         NaN        0.0              NaN            NaN     NaN  \n",
              "4         0.0         NaN        0.0              NaN            NaN     NaN  "
            ]
          },
          "execution_count": 8,
          "metadata": {},
          "output_type": "execute_result"
        }
      ],
      "source": [
        "ipl_delivery.head()\n"
      ]
    },
    {
      "cell_type": "code",
      "execution_count": null,
      "metadata": {
        "colab": {
          "base_uri": "https://localhost:8080/"
        },
        "id": "fQTmLishqIy-",
        "outputId": "c7e1c1ad-bace-4d98-9969-9639ba6da69e"
      },
      "outputs": [
        {
          "data": {
            "text/plain": [
              "(1024, 20)"
            ]
          },
          "execution_count": 10,
          "metadata": {},
          "output_type": "execute_result"
        }
      ],
      "source": [
        "ipl_matches.shape"
      ]
    },
    {
      "cell_type": "code",
      "execution_count": null,
      "metadata": {
        "colab": {
          "base_uri": "https://localhost:8080/"
        },
        "id": "7JPQUoXUqOmJ",
        "outputId": "5f8573ff-d9f6-4a5c-d4f8-6b2e616e7b5f"
      },
      "outputs": [
        {
          "data": {
            "text/plain": [
              "(30525, 17)"
            ]
          },
          "execution_count": 10,
          "metadata": {},
          "output_type": "execute_result"
        }
      ],
      "source": [
        "ipl_delivery.shape"
      ]
    },
    {
      "cell_type": "code",
      "execution_count": 40,
      "metadata": {
        "colab": {
          "base_uri": "https://localhost:8080/"
        },
        "id": "ElS4EFW1JJSI",
        "outputId": "59a37afc-fb9e-455d-c042-05589d9de2bb"
      },
      "outputs": [
        {
          "output_type": "stream",
          "name": "stdout",
          "text": [
            "<class 'pandas.core.frame.DataFrame'>\n",
            "RangeIndex: 1024 entries, 0 to 1023\n",
            "Data columns (total 20 columns):\n",
            " #   Column           Non-Null Count  Dtype  \n",
            "---  ------           --------------  -----  \n",
            " 0   id               1024 non-null   int64  \n",
            " 1   season           1024 non-null   object \n",
            " 2   city             973 non-null    object \n",
            " 3   date             1024 non-null   object \n",
            " 4   match_type       1024 non-null   object \n",
            " 5   player_of_match  1019 non-null   object \n",
            " 6   venue            1024 non-null   object \n",
            " 7   team1            1024 non-null   object \n",
            " 8   team2            1024 non-null   object \n",
            " 9   toss_winner      1024 non-null   object \n",
            " 10  toss_decision    1024 non-null   object \n",
            " 11  winner           1019 non-null   object \n",
            " 12  result           1024 non-null   object \n",
            " 13  result_margin    1005 non-null   float64\n",
            " 14  target_runs      1021 non-null   float64\n",
            " 15  target_overs     1021 non-null   float64\n",
            " 16  super_over       1024 non-null   object \n",
            " 17  method           21 non-null     object \n",
            " 18  umpire1          1024 non-null   object \n",
            " 19  umpire2          1024 non-null   object \n",
            "dtypes: float64(3), int64(1), object(16)\n",
            "memory usage: 160.1+ KB\n"
          ]
        }
      ],
      "source": [
        "ipl_matches.info()"
      ]
    },
    {
      "cell_type": "markdown",
      "metadata": {
        "id": "P7pH3FEKWkJn"
      },
      "source": [
        "**Things observed from Match info.**\n",
        "\n",
        "**Date column** - wrong Datatype. it should be Datetime but it is object\n",
        "\n",
        "**Season Column** - Wrong Datatype and error in values. it should be int / categorical but it is object.\n",
        "\n",
        "Additional points that can be done on the dataframe\n",
        "The Following columns are in object format but it can be converted to Categorical.\n",
        "\n",
        "**1.City 2.Season 3.Team1 4.Team2 5.Toss_Winner 6Toss_Decision 7.Winner 8.Result 9.Venue**"
      ]
    },
    {
      "cell_type": "code",
      "execution_count": null,
      "metadata": {
        "colab": {
          "base_uri": "https://localhost:8080/"
        },
        "id": "91F5KGOgVxCl",
        "outputId": "de71b88a-9a14-4647-8b6a-197d80def7c0"
      },
      "outputs": [
        {
          "name": "stdout",
          "output_type": "stream",
          "text": [
            "<class 'pandas.core.frame.DataFrame'>\n",
            "RangeIndex: 243817 entries, 0 to 243816\n",
            "Data columns (total 17 columns):\n",
            " #   Column            Non-Null Count   Dtype \n",
            "---  ------            --------------   ----- \n",
            " 0   match_id          243817 non-null  int64 \n",
            " 1   inning            243817 non-null  int64 \n",
            " 2   batting_team      243817 non-null  object\n",
            " 3   bowling_team      243817 non-null  object\n",
            " 4   over              243817 non-null  int64 \n",
            " 5   ball              243817 non-null  int64 \n",
            " 6   batter            243817 non-null  object\n",
            " 7   bowler            243817 non-null  object\n",
            " 8   non_striker       243817 non-null  object\n",
            " 9   batsman_runs      243817 non-null  int64 \n",
            " 10  extra_runs        243817 non-null  int64 \n",
            " 11  total_runs        243817 non-null  int64 \n",
            " 12  extras_type       13059 non-null   object\n",
            " 13  is_wicket         243817 non-null  int64 \n",
            " 14  player_dismissed  12067 non-null   object\n",
            " 15  dismissal_kind    12067 non-null   object\n",
            " 16  fielder           8663 non-null    object\n",
            "dtypes: int64(8), object(9)\n",
            "memory usage: 31.6+ MB\n"
          ]
        }
      ],
      "source": [
        "ipl_delivery.info()"
      ]
    },
    {
      "cell_type": "markdown",
      "metadata": {
        "id": "YV9bf2lvZc_k"
      },
      "source": [
        "\n",
        "**Things observed from the deliveries.**\n",
        "All the columns appear to be in correct Datatype format.\n",
        "Additional Things that can be done on dataframe Following is the list of column in int64 / object. we can convert them into Categorical columns\n",
        "\n",
        "**1.Innings 2.Over 3.Ball 4.batsman_runs 5.Extras_type 6.is_wicket 7.dismissal_kind**\n"
      ]
    },
    {
      "cell_type": "markdown",
      "metadata": {
        "id": "uK0LrUhr6HPv"
      },
      "source": [
        "#**2.1 Data Cleaning**\n",
        "\n"
      ]
    },
    {
      "cell_type": "markdown",
      "metadata": {
        "id": "vJh3dc2yZ8Qo"
      },
      "source": [
        "#**2.1.1 Checking for null values**\n"
      ]
    },
    {
      "cell_type": "markdown",
      "metadata": {
        "id": "GZCCTB4405Cp"
      },
      "source": [
        "**2.1.1.1 Handling Missing Values (Match Dataset)**"
      ]
    },
    {
      "cell_type": "code",
      "execution_count": 41,
      "metadata": {
        "colab": {
          "base_uri": "https://localhost:8080/",
          "height": 800
        },
        "id": "noqqxWhUwQoX",
        "outputId": "d625a5ae-2759-4452-fa73-5afd78395990"
      },
      "outputs": [
        {
          "output_type": "display_data",
          "data": {
            "text/plain": [
              "<Figure size 1200x800 with 1 Axes>"
            ],
            "image/png": "[encoded data removed]"
          },
          "metadata": {}
        }
      ],
      "source": [
        "# Assuming data is your IPL DataFrame\n",
        "plt.figure(figsize=(12, 8))\n",
        "sns.heatmap(ipl_matches.isnull(), cbar=False, cmap='viridis')\n",
        "plt.title('Missing Values Heatmap')\n",
        "plt.show()"
      ]
    },
    {
      "cell_type": "code",
      "execution_count": null,
      "metadata": {
        "colab": {
          "base_uri": "https://localhost:8080/"
        },
        "id": "YxwPUIibZ6Gr",
        "outputId": "4fd219cc-743a-4800-d0fc-8226bc85cacf"
      },
      "outputs": [
        {
          "data": {
            "text/plain": [
              "id                    0\n",
              "season                0\n",
              "city                 51\n",
              "date                  0\n",
              "match_type            0\n",
              "player_of_match       5\n",
              "venue                 0\n",
              "team1                 0\n",
              "team2                 0\n",
              "toss_winner           0\n",
              "toss_decision         0\n",
              "winner                5\n",
              "result                0\n",
              "result_margin        19\n",
              "target_runs           3\n",
              "target_overs          3\n",
              "super_over            0\n",
              "method             1003\n",
              "umpire1               0\n",
              "umpire2               0\n",
              "dtype: int64"
            ]
          },
          "execution_count": 14,
          "metadata": {},
          "output_type": "execute_result"
        }
      ],
      "source": [
        "ipl_matches.isnull().sum()"
      ]
    },
    {
      "cell_type": "markdown",
      "metadata": {
        "id": "5DM74cezaKzy"
      },
      "source": [
        "**city:** This column has **51** missing values. We can fill these missing values with 'Unknown' but I decided to analyze the data in excel aftwer looking at data I found That The city where we have nan values, then staiums are Dubai International Cricket Stadium - Dubai\n",
        "Sharjah Cricket Stadium - Sharjahso we will fill it whit respect to the **venue.**\n",
        "\n",
        "**player_of_match**, **winner:** These columns have **5** missing values each. These can be left as is or filled with 'Unknown' for simplicity, but after analysis the data I found that if there is no winner then the match doesn't played between the teams and no player of the match exits, so **I decided to delete these five rows.**\n",
        "\n",
        "**result_margin:** This column has **19** missing values. Since result margin is important, after analysis I found that the match has **Tied** between the teams, **So we can fill missing values with 0.**\n",
        "\n",
        "**target_runs**, **target_overs:** These columns have **3** missing values each. It might be due to incomplete matches or no results. **Fill these with 0.** but when** I delete the Plyer of the match the it will be deleted because these** are related with them\n",
        "\n",
        "**method:** This column has **1003** missing values. Since this is not relevant for most analyses, **we can drop this column.**"
      ]
    },
    {
      "cell_type": "code",
      "execution_count": 51,
      "metadata": {
        "id": "m8_kX4BhklQJ"
      },
      "outputs": [],
      "source": [
        "#Replacing the City with respect to the Venue\n",
        "for index, row in ipl_matches.iterrows():\n",
        "  if row['venue'] == 'Dubai International Cricket Stadium':\n",
        "    ipl_matches.at[index, 'city'] = 'Dubai'\n",
        "  elif row['venue'] == 'Sharjah Cricket Stadium':\n",
        "    ipl_matches.at[index,'city'] = 'Sharjah'"
      ]
    },
    {
      "cell_type": "code",
      "execution_count": 52,
      "metadata": {
        "id": "8gCSY6wCsiQk"
      },
      "outputs": [],
      "source": [
        "#Drop rows with null 'winner', player of the match and target runs and target overs\n",
        "ipl_matches = ipl_matches.dropna(subset=['winner'])"
      ]
    },
    {
      "cell_type": "code",
      "execution_count": 53,
      "metadata": {
        "id": "D1keN914u0FK"
      },
      "outputs": [],
      "source": [
        "ipl_matches['result_margin'].fillna(0, inplace=True)"
      ]
    },
    {
      "cell_type": "code",
      "execution_count": 54,
      "metadata": {
        "id": "1xorNRbvuo9s"
      },
      "outputs": [],
      "source": [
        "# Drop 'method' column as it has too many missing values\n",
        "ipl_matches.drop(columns=['method'], inplace=True)"
      ]
    },
    {
      "cell_type": "code",
      "execution_count": 55,
      "metadata": {
        "colab": {
          "base_uri": "https://localhost:8080/",
          "height": 73
        },
        "collapsed": true,
        "id": "skFBMw2gpMkE",
        "outputId": "4fb8bcba-b38f-45c8-9070-167ebba33e2c"
      },
      "outputs": [
        {
          "output_type": "execute_result",
          "data": {
            "text/plain": [
              "Empty DataFrame\n",
              "Columns: [id, season, city, date, match_type, player_of_match, venue, team1, team2, toss_winner, toss_decision, winner, result, result_margin, target_runs, target_overs, super_over, umpire1, umpire2]\n",
              "Index: []"
            ],
            "text/html": [
              "\n",
              "  <div id=\"df-533df372-55da-495c-9df8-7c442bc9c4bb\" class=\"colab-df-container\">\n",
              "    <div>\n",
              "<style scoped>\n",
              "    .dataframe tbody tr th:only-of-type {\n",
              "        vertical-align: middle;\n",
              "    }\n",
              "\n",
              "    .dataframe tbody tr th {\n",
              "        vertical-align: top;\n",
              "    }\n",
              "\n",
              "    .dataframe thead th {\n",
              "        text-align: right;\n",
              "    }\n",
              "</style>\n",
              "<table border=\"1\" class=\"dataframe\">\n",
              "  <thead>\n",
              "    <tr style=\"text-align: right;\">\n",
              "      <th></th>\n",
              "      <th>id</th>\n",
              "      <th>season</th>\n",
              "      <th>city</th>\n",
              "      <th>date</th>\n",
              "      <th>match_type</th>\n",
              "      <th>player_of_match</th>\n",
              "      <th>venue</th>\n",
              "      <th>team1</th>\n",
              "      <th>team2</th>\n",
              "      <th>toss_winner</th>\n",
              "      <th>toss_decision</th>\n",
              "      <th>winner</th>\n",
              "      <th>result</th>\n",
              "      <th>result_margin</th>\n",
              "      <th>target_runs</th>\n",
              "      <th>target_overs</th>\n",
              "      <th>super_over</th>\n",
              "      <th>umpire1</th>\n",
              "      <th>umpire2</th>\n",
              "    </tr>\n",
              "  </thead>\n",
              "  <tbody>\n",
              "  </tbody>\n",
              "</table>\n",
              "</div>\n",
              "    <div class=\"colab-df-buttons\">\n",
              "\n",
              "  <div class=\"colab-df-container\">\n",
              "    <button class=\"colab-df-convert\" onclick=\"convertToInteractive('df-533df372-55da-495c-9df8-7c442bc9c4bb')\"\n",
              "            title=\"Convert this dataframe to an interactive table.\"\n",
              "            style=\"display:none;\">\n",
              "\n",
              "  <svg xmlns=\"http://www.w3.org/2000/svg\" height=\"24px\" viewBox=\"0 -960 960 960\">\n",
              "    <path d=\"M120-120v-720h720v720H120Zm60-500h600v-160H180v160Zm220 220h160v-160H400v160Zm0 220h160v-160H400v160ZM180-400h160v-160H180v160Zm440 0h160v-160H620v160ZM180-180h160v-160H180v160Zm440 0h160v-160H620v160Z\"/>\n",
              "  </svg>\n",
              "    </button>\n",
              "\n",
              "  <style>\n",
              "    .colab-df-container {\n",
              "      display:flex;\n",
              "      gap: 12px;\n",
              "    }\n",
              "\n",
              "    .colab-df-convert {\n",
              "      background-color: #E8F0FE;\n",
              "      border: none;\n",
              "      border-radius: 50%;\n",
              "      cursor: pointer;\n",
              "      display: none;\n",
              "      fill: #1967D2;\n",
              "      height: 32px;\n",
              "      padding: 0 0 0 0;\n",
              "      width: 32px;\n",
              "    }\n",
              "\n",
              "    .colab-df-convert:hover {\n",
              "      background-color: #E2EBFA;\n",
              "      box-shadow: 0px 1px 2px rgba(60, 64, 67, 0.3), 0px 1px 3px 1px rgba(60, 64, 67, 0.15);\n",
              "      fill: #174EA6;\n",
              "    }\n",
              "\n",
              "    .colab-df-buttons div {\n",
              "      margin-bottom: 4px;\n",
              "    }\n",
              "\n",
              "    [theme=dark] .colab-df-convert {\n",
              "      background-color: #3B4455;\n",
              "      fill: #D2E3FC;\n",
              "    }\n",
              "\n",
              "    [theme=dark] .colab-df-convert:hover {\n",
              "      background-color: #434B5C;\n",
              "      box-shadow: 0px 1px 3px 1px rgba(0, 0, 0, 0.15);\n",
              "      filter: drop-shadow(0px 1px 2px rgba(0, 0, 0, 0.3));\n",
              "      fill: #FFFFFF;\n",
              "    }\n",
              "  </style>\n",
              "\n",
              "    <script>\n",
              "      const buttonEl =\n",
              "        document.querySelector('#df-533df372-55da-495c-9df8-7c442bc9c4bb button.colab-df-convert');\n",
              "      buttonEl.style.display =\n",
              "        google.colab.kernel.accessAllowed ? 'block' : 'none';\n",
              "\n",
              "      async function convertToInteractive(key) {\n",
              "        const element = document.querySelector('#df-533df372-55da-495c-9df8-7c442bc9c4bb');\n",
              "        const dataTable =\n",
              "          await google.colab.kernel.invokeFunction('convertToInteractive',\n",
              "                                                    [key], {});\n",
              "        if (!dataTable) return;\n",
              "\n",
              "        const docLinkHtml = 'Like what you see? Visit the ' +\n",
              "          '<a target=\"_blank\" href=https://colab.research.google.com/notebooks/data_table.ipynb>data table notebook</a>'\n",
              "          + ' to learn more about interactive tables.';\n",
              "        element.innerHTML = '';\n",
              "        dataTable['output_type'] = 'display_data';\n",
              "        await google.colab.output.renderOutput(dataTable, element);\n",
              "        const docLink = document.createElement('div');\n",
              "        docLink.innerHTML = docLinkHtml;\n",
              "        element.appendChild(docLink);\n",
              "      }\n",
              "    </script>\n",
              "  </div>\n",
              "\n",
              "\n",
              "    </div>\n",
              "  </div>\n"
            ],
            "application/vnd.google.colaboratory.intrinsic+json": {
              "type": "dataframe",
              "repr_error": "Out of range float values are not JSON compliant: nan"
            }
          },
          "metadata": {},
          "execution_count": 55
        }
      ],
      "source": [
        "ipl_matches[ipl_matches['target_overs'].isna()]"
      ]
    },
    {
      "cell_type": "code",
      "execution_count": 56,
      "metadata": {
        "colab": {
          "base_uri": "https://localhost:8080/"
        },
        "id": "dmxY5lXWvMlx",
        "outputId": "caf73873-0a74-46b3-c76e-b04402cde205"
      },
      "outputs": [
        {
          "output_type": "execute_result",
          "data": {
            "text/plain": [
              "id                 0\n",
              "season             0\n",
              "city               0\n",
              "date               0\n",
              "match_type         0\n",
              "player_of_match    0\n",
              "venue              0\n",
              "team1              0\n",
              "team2              0\n",
              "toss_winner        0\n",
              "toss_decision      0\n",
              "winner             0\n",
              "result             0\n",
              "result_margin      0\n",
              "target_runs        0\n",
              "target_overs       0\n",
              "super_over         0\n",
              "umpire1            0\n",
              "umpire2            0\n",
              "dtype: int64"
            ]
          },
          "metadata": {},
          "execution_count": 56
        }
      ],
      "source": [
        "ipl_matches.isnull().sum()"
      ]
    },
    {
      "cell_type": "markdown",
      "metadata": {
        "id": "CCqOLCOJ0st_"
      },
      "source": [
        "**2.1.1.2 Handling Missing Values (Delivery Dataset)**"
      ]
    },
    {
      "cell_type": "code",
      "execution_count": 48,
      "metadata": {
        "colab": {
          "base_uri": "https://localhost:8080/",
          "height": 237
        },
        "id": "xpo1wZNI31fh",
        "outputId": "3cd998b7-7c44-4b65-84f5-65f480e7c15e"
      },
      "outputs": [
        {
          "output_type": "error",
          "ename": "NameError",
          "evalue": "name 'ipl_delivery' is not defined",
          "traceback": [
            "\u001b[0;31m---------------------------------------------------------------------------\u001b[0m",
            "\u001b[0;31mNameError\u001b[0m                                 Traceback (most recent call last)",
            "\u001b[0;32m<ipython-input-48-a6dca8c8e08d>\u001b[0m in \u001b[0;36m<cell line: 3>\u001b[0;34m()\u001b[0m\n\u001b[1;32m      1\u001b[0m \u001b[0;31m# Assuming data is your IPL DataFrame\u001b[0m\u001b[0;34m\u001b[0m\u001b[0;34m\u001b[0m\u001b[0m\n\u001b[1;32m      2\u001b[0m \u001b[0mplt\u001b[0m\u001b[0;34m.\u001b[0m\u001b[0mfigure\u001b[0m\u001b[0;34m(\u001b[0m\u001b[0mfigsize\u001b[0m\u001b[0;34m=\u001b[0m\u001b[0;34m(\u001b[0m\u001b[0;36m12\u001b[0m\u001b[0;34m,\u001b[0m \u001b[0;36m8\u001b[0m\u001b[0;34m)\u001b[0m\u001b[0;34m)\u001b[0m\u001b[0;34m\u001b[0m\u001b[0;34m\u001b[0m\u001b[0m\n\u001b[0;32m----> 3\u001b[0;31m \u001b[0msns\u001b[0m\u001b[0;34m.\u001b[0m\u001b[0mheatmap\u001b[0m\u001b[0;34m(\u001b[0m\u001b[0mipl_delivery\u001b[0m\u001b[0;34m.\u001b[0m\u001b[0misnull\u001b[0m\u001b[0;34m(\u001b[0m\u001b[0;34m)\u001b[0m\u001b[0;34m,\u001b[0m \u001b[0mcbar\u001b[0m\u001b[0;34m=\u001b[0m\u001b[0;32mFalse\u001b[0m\u001b[0;34m,\u001b[0m \u001b[0mcmap\u001b[0m\u001b[0;34m=\u001b[0m\u001b[0;34m'viridis'\u001b[0m\u001b[0;34m)\u001b[0m\u001b[0;34m\u001b[0m\u001b[0;34m\u001b[0m\u001b[0m\n\u001b[0m\u001b[1;32m      4\u001b[0m \u001b[0mplt\u001b[0m\u001b[0;34m.\u001b[0m\u001b[0mtitle\u001b[0m\u001b[0;34m(\u001b[0m\u001b[0;34m'Missing Values Heatmap'\u001b[0m\u001b[0;34m)\u001b[0m\u001b[0;34m\u001b[0m\u001b[0;34m\u001b[0m\u001b[0m\n\u001b[1;32m      5\u001b[0m \u001b[0mplt\u001b[0m\u001b[0;34m.\u001b[0m\u001b[0mshow\u001b[0m\u001b[0;34m(\u001b[0m\u001b[0;34m)\u001b[0m\u001b[0;34m\u001b[0m\u001b[0;34m\u001b[0m\u001b[0m\n",
            "\u001b[0;31mNameError\u001b[0m: name 'ipl_delivery' is not defined"
          ]
        },
        {
          "output_type": "display_data",
          "data": {
            "text/plain": [
              "<Figure size 1200x800 with 0 Axes>"
            ]
          },
          "metadata": {}
        }
      ],
      "source": [
        "# Assuming data is your IPL DataFrame\n",
        "plt.figure(figsize=(12, 8))\n",
        "sns.heatmap(ipl_delivery.isnull(), cbar=False, cmap='viridis')\n",
        "plt.title('Missing Values Heatmap')\n",
        "plt.show()"
      ]
    },
    {
      "cell_type": "code",
      "execution_count": null,
      "metadata": {
        "colab": {
          "base_uri": "https://localhost:8080/"
        },
        "collapsed": true,
        "id": "sLGlcK25g-R-",
        "outputId": "784b19aa-04cc-4720-d305-e9f6462c4266"
      },
      "outputs": [
        {
          "data": {
            "text/plain": [
              "match_id                 0\n",
              "inning                   0\n",
              "batting_team             0\n",
              "bowling_team             0\n",
              "over                     0\n",
              "ball                     0\n",
              "batter                   0\n",
              "bowler                   0\n",
              "non_striker              0\n",
              "batsman_runs             0\n",
              "extra_runs               0\n",
              "total_runs               0\n",
              "extras_type         230758\n",
              "is_wicket                0\n",
              "player_dismissed    231750\n",
              "dismissal_kind      231750\n",
              "fielder             235154\n",
              "dtype: int64"
            ]
          },
          "execution_count": 15,
          "metadata": {},
          "output_type": "execute_result"
        }
      ],
      "source": [
        "ipl_delivery.isnull().sum()"
      ]
    },
    {
      "cell_type": "markdown",
      "metadata": {
        "id": "KyNxQ0eYhRq8"
      },
      "source": [
        "\n",
        "**extras_type, player_dismissed, dismissal_kind, fielder:** These columns have many missing values because they are relevant only when specific events occur. We can fill these with **'None'**."
      ]
    },
    {
      "cell_type": "code",
      "execution_count": null,
      "metadata": {
        "colab": {
          "base_uri": "https://localhost:8080/"
        },
        "id": "ZZAh4hs_x-qd",
        "outputId": "1b7b0ad7-36eb-4b1b-ce8f-2a7175597edc"
      },
      "outputs": [
        {
          "data": {
            "text/plain": [
              "array(['legbyes', nan, 'wides', 'byes', 'noballs', 'penalty'],\n",
              "      dtype=object)"
            ]
          },
          "execution_count": 16,
          "metadata": {},
          "output_type": "execute_result"
        }
      ],
      "source": [
        "# extra_type\n",
        "ipl_delivery['extras_type'].unique()"
      ]
    },
    {
      "cell_type": "code",
      "execution_count": null,
      "metadata": {
        "colab": {
          "base_uri": "https://localhost:8080/"
        },
        "collapsed": true,
        "id": "mU63YoTjyHup",
        "outputId": "c4309d35-fdce-422a-e50b-598ae0f6fc55"
      },
      "outputs": [
        {
          "data": {
            "text/plain": [
              "match_id            0\n",
              "inning              0\n",
              "batting_team        0\n",
              "bowling_team        0\n",
              "over                0\n",
              "ball                0\n",
              "batter              0\n",
              "bowler              0\n",
              "non_striker         0\n",
              "batsman_runs        0\n",
              "extra_runs          0\n",
              "total_runs          0\n",
              "extras_type         0\n",
              "is_wicket           0\n",
              "player_dismissed    0\n",
              "dismissal_kind      0\n",
              "fielder             0\n",
              "runs_in_over        0\n",
              "wickets_in_over     0\n",
              "dtype: int64"
            ]
          },
          "execution_count": 17,
          "metadata": {},
          "output_type": "execute_result"
        }
      ],
      "source": [
        "# Fill 'extras_type', 'player_dismissed', 'dismissal_kind', and 'fielder' with 'None' where they are missing\n",
        "ipl_delivery['extras_type'].fillna('None', inplace=True)\n",
        "ipl_delivery['player_dismissed'].fillna('None', inplace=True)\n",
        "ipl_delivery['dismissal_kind'].fillna('None', inplace=True)\n",
        "ipl_delivery['fielder'].fillna('None', inplace=True)\n",
        "\n",
        "ipl_delivery.isnull().sum()"
      ]
    },
    {
      "cell_type": "markdown",
      "metadata": {
        "id": "6QqP3BpR7bcp"
      },
      "source": [
        "#**2.2 Handeling Duplicates and Searching for anomalies in data**"
      ]
    },
    {
      "cell_type": "markdown",
      "metadata": {
        "id": "5JVcw20V4XeA"
      },
      "source": [
        "**2.2.1 Matche data Set**"
      ]
    },
    {
      "cell_type": "code",
      "execution_count": null,
      "metadata": {
        "colab": {
          "base_uri": "https://localhost:8080/"
        },
        "id": "o43ZH44YtN7H",
        "outputId": "636b2c21-aeda-4d63-dbb9-fb7543cafa0e"
      },
      "outputs": [
        {
          "data": {
            "text/plain": [
              "0"
            ]
          },
          "execution_count": 29,
          "metadata": {},
          "output_type": "execute_result"
        }
      ],
      "source": [
        "ipl_matches.duplicated().sum()"
      ]
    },
    {
      "cell_type": "code",
      "execution_count": null,
      "metadata": {
        "colab": {
          "base_uri": "https://localhost:8080/"
        },
        "id": "TKjJiVdS3AVT",
        "outputId": "6afe9d9e-6b10-4e81-d87f-b0735f66eeaf"
      },
      "outputs": [
        {
          "data": {
            "text/plain": [
              "Index(['id', 'season', 'city', 'date', 'match_type', 'player_of_match',\n",
              "       'venue', 'team1', 'team2', 'toss_winner', 'toss_decision', 'winner',\n",
              "       'result', 'result_margin', 'target_runs', 'target_overs', 'super_over',\n",
              "       'umpire1', 'umpire2'],\n",
              "      dtype='object')"
            ]
          },
          "execution_count": 18,
          "metadata": {},
          "output_type": "execute_result"
        }
      ],
      "source": [
        "ipl_matches.columns"
      ]
    },
    {
      "cell_type": "code",
      "execution_count": null,
      "metadata": {
        "colab": {
          "base_uri": "https://localhost:8080/"
        },
        "id": "E7_xoJHo9WVm",
        "outputId": "178a2748-6045-491f-b760-d7756824d0de"
      },
      "outputs": [
        {
          "data": {
            "text/plain": [
              "array(['Royal Challengers Bangalore', 'Kings XI Punjab',\n",
              "       'Delhi Daredevils', 'Mumbai Indians', 'Kolkata Knight Riders',\n",
              "       'Rajasthan Royals', 'Deccan Chargers', 'Chennai Super Kings',\n",
              "       'Kochi Tuskers Kerala', 'Pune Warriors', 'Sunrisers Hyderabad',\n",
              "       'Gujarat Lions', 'Rising Pune Supergiants',\n",
              "       'Rising Pune Supergiant', 'Delhi Capitals', 'Punjab Kings',\n",
              "       'Lucknow Super Giants', 'Gujarat Titans'], dtype=object)"
            ]
          },
          "execution_count": 19,
          "metadata": {},
          "output_type": "execute_result"
        }
      ],
      "source": [
        "ipl_matches['team1'].unique()"
      ]
    },
    {
      "cell_type": "code",
      "execution_count": null,
      "metadata": {
        "colab": {
          "base_uri": "https://localhost:8080/"
        },
        "id": "jAc3s6Lq9sp8",
        "outputId": "ed4fdf03-fa41-4f54-8706-72d22bc8cd10"
      },
      "outputs": [
        {
          "data": {
            "text/plain": [
              "array(['Kolkata Knight Riders', 'Chennai Super Kings', 'Rajasthan Royals',\n",
              "       'Royal Challengers Bangalore', 'Deccan Chargers',\n",
              "       'Kings XI Punjab', 'Delhi Daredevils', 'Mumbai Indians',\n",
              "       'Kochi Tuskers Kerala', 'Pune Warriors', 'Sunrisers Hyderabad',\n",
              "       'Rising Pune Supergiants', 'Gujarat Lions',\n",
              "       'Rising Pune Supergiant', 'Delhi Capitals', 'Punjab Kings',\n",
              "       'Gujarat Titans', 'Lucknow Super Giants'], dtype=object)"
            ]
          },
          "execution_count": 69,
          "metadata": {},
          "output_type": "execute_result"
        }
      ],
      "source": [
        "ipl_matches['team2'].unique()"
      ]
    },
    {
      "cell_type": "markdown",
      "metadata": {
        "id": "1aUiK0it8uTn"
      },
      "source": [
        "There is a team repreated Twice.\n",
        "\n",
        "Rising Pune Supergiants - Rising Pune Supergiant\n",
        "Teams name has been replaced\n",
        "\n",
        "Delhi Daredevils - Delhi Capitals\n",
        "\n",
        "Punjab Kings - Kings XI Punjab"
      ]
    },
    {
      "cell_type": "code",
      "execution_count": null,
      "metadata": {
        "id": "RQa4TfKt3NVn"
      },
      "outputs": [],
      "source": [
        "# Changing the Names.\n",
        "team_names = {'Rising Pune Supergiant':'Rising Pune Supergiants','Delhi Daredevils':'Delhi Capitals','Kings XI Punjab':'Punjab Kings'}\n"
      ]
    },
    {
      "cell_type": "code",
      "execution_count": null,
      "metadata": {
        "id": "HYKFkkkZbIM3"
      },
      "outputs": [],
      "source": [
        "ipl_matches['team1'] = ipl_matches['team1'].replace(team_names)\n",
        "\n",
        "ipl_matches['team2'] = ipl_matches['team2'].replace(team_names)"
      ]
    },
    {
      "cell_type": "code",
      "execution_count": null,
      "metadata": {
        "colab": {
          "base_uri": "https://localhost:8080/"
        },
        "collapsed": true,
        "id": "EsA1nCdI-oYm",
        "outputId": "db4f2d7a-8583-4ff7-c6eb-513a53123716"
      },
      "outputs": [
        {
          "data": {
            "text/plain": [
              "array(['Kolkata Knight Riders', 'Chennai Super Kings', 'Rajasthan Royals',\n",
              "       'Royal Challengers Bangalore', 'Deccan Chargers', 'Punjab Kings',\n",
              "       'Delhi Capitals', 'Mumbai Indians', 'Kochi Tuskers Kerala',\n",
              "       'Pune Warriors', 'Sunrisers Hyderabad', 'Rising Pune Supergiants',\n",
              "       'Gujarat Lions', 'Gujarat Titans', 'Lucknow Super Giants'],\n",
              "      dtype=object)"
            ]
          },
          "execution_count": 22,
          "metadata": {},
          "output_type": "execute_result"
        }
      ],
      "source": [
        "ipl_matches['team2'].unique()"
      ]
    },
    {
      "cell_type": "code",
      "execution_count": null,
      "metadata": {
        "colab": {
          "base_uri": "https://localhost:8080/"
        },
        "collapsed": true,
        "id": "9t1g3fBa_g3A",
        "outputId": "85253958-cd3e-425c-bd12-f0e6b70a80fc"
      },
      "outputs": [
        {
          "data": {
            "text/plain": [
              "array(['M Chinnaswamy Stadium',\n",
              "       'Punjab Cricket Association Stadium, Mohali', 'Feroz Shah Kotla',\n",
              "       'Wankhede Stadium', 'Eden Gardens', 'Sawai Mansingh Stadium',\n",
              "       'Rajiv Gandhi International Stadium, Uppal',\n",
              "       'MA Chidambaram Stadium, Chepauk', 'Dr DY Patil Sports Academy',\n",
              "       'Newlands', \"St George's Park\", 'Kingsmead', 'SuperSport Park',\n",
              "       'Buffalo Park', 'New Wanderers Stadium', 'De Beers Diamond Oval',\n",
              "       'OUTsurance Oval', 'Brabourne Stadium',\n",
              "       'Sardar Patel Stadium, Motera', 'Barabati Stadium',\n",
              "       'Brabourne Stadium, Mumbai',\n",
              "       'Vidarbha Cricket Association Stadium, Jamtha',\n",
              "       'Himachal Pradesh Cricket Association Stadium', 'Nehru Stadium',\n",
              "       'Holkar Cricket Stadium',\n",
              "       'Dr. Y.S. Rajasekhara Reddy ACA-VDCA Cricket Stadium',\n",
              "       'Subrata Roy Sahara Stadium',\n",
              "       'Maharashtra Cricket Association Stadium',\n",
              "       'Shaheed Veer Narayan Singh International Stadium',\n",
              "       'JSCA International Stadium Complex', 'Sheikh Zayed Stadium',\n",
              "       'Sharjah Cricket Stadium', 'Dubai International Cricket Stadium',\n",
              "       'Punjab Cricket Association IS Bindra Stadium, Mohali',\n",
              "       'Saurashtra Cricket Association Stadium', 'Green Park',\n",
              "       'M.Chinnaswamy Stadium',\n",
              "       'Punjab Cricket Association IS Bindra Stadium',\n",
              "       'Rajiv Gandhi International Stadium', 'MA Chidambaram Stadium',\n",
              "       'Arun Jaitley Stadium', 'MA Chidambaram Stadium, Chepauk, Chennai',\n",
              "       'Wankhede Stadium, Mumbai', 'Narendra Modi Stadium, Ahmedabad',\n",
              "       'Arun Jaitley Stadium, Delhi', 'Zayed Cricket Stadium, Abu Dhabi',\n",
              "       'Dr DY Patil Sports Academy, Mumbai',\n",
              "       'Maharashtra Cricket Association Stadium, Pune',\n",
              "       'Eden Gardens, Kolkata',\n",
              "       'Punjab Cricket Association IS Bindra Stadium, Mohali, Chandigarh',\n",
              "       'Bharat Ratna Shri Atal Bihari Vajpayee Ekana Cricket Stadium, Lucknow',\n",
              "       'Rajiv Gandhi International Stadium, Uppal, Hyderabad',\n",
              "       'M Chinnaswamy Stadium, Bengaluru',\n",
              "       'Barsapara Cricket Stadium, Guwahati',\n",
              "       'Sawai Mansingh Stadium, Jaipur',\n",
              "       'Himachal Pradesh Cricket Association Stadium, Dharamsala'],\n",
              "      dtype=object)"
            ]
          },
          "execution_count": 23,
          "metadata": {},
          "output_type": "execute_result"
        }
      ],
      "source": [
        "ipl_matches['venue'].unique()"
      ]
    },
    {
      "cell_type": "markdown",
      "metadata": {
        "id": "X6jqvYgz_TQy"
      },
      "source": [
        "**The Following values are Duplicate**\n",
        "\n",
        "Wankhede Stadium - Wankhede Stadium, Mumbai\n",
        "\n",
        "Brabourne Stadium - Brabourne Stadium, Mumbai\n",
        "\n",
        "Eden Gardens - Eden Gardens, Kolkata\n",
        "\n",
        "Arun Jaitley Stadium - Arun Jaitley Stadium, Delhi\n",
        "\n",
        "Punjab Cricket Association IS Bindra Stadium - Punjab Cricket Association IS Bindra Stadium, Mohali\n",
        "\n",
        "Maharashtra Cricket Association Stadium - Maharashtra Cricket Association Stadium, Pune\n",
        "\n",
        "Rajiv Gandhi International Stadium - Rajiv Gandhi International Stadium, Uppal\n",
        "\n",
        "Dr DY Patil Sports Academy - Dr DY Patil Sports Academy, Mumbai\n",
        "\n",
        "MA Chidambaram Stadium - MA Chidambaram Stadium, Chepauk -MA Chidambaram Stadium, Chepauk, Chennail\n",
        "\n",
        "Arun Jaitley Stadium - Arun Jaitley Stadium, Delhi\n",
        "\n",
        "Zayed Cricket Stadium, Abu Dhabi - Sheikh Zayed Stadium"
      ]
    },
    {
      "cell_type": "code",
      "execution_count": null,
      "metadata": {
        "id": "k7UGwiHCAEfl"
      },
      "outputs": [],
      "source": [
        "venue_dict = {'Wankhede Stadium, Mumbai':'Wankhede Stadium','Brabourne Stadium, Mumbai':'Brabourne Stadium',\n",
        "              'Eden Gardens, Kolkata':'Eden Gardens','Arun Jaitley Stadium, Delhi':'Arun Jaitley Stadium',\n",
        "              'Punjab Cricket Association IS Bindra Stadium, Mohali':'Punjab Cricket Association IS Bindra Stadium',\n",
        "              'Maharashtra Cricket Association Stadium, Pune':'Maharashtra Cricket Association Stadium',\n",
        "              'Rajiv Gandhi International Stadium, Uppal':'Rajiv Gandhi International Stadium','Dr DY Patil Sports Academy, Mumbai':\n",
        "              'Dr DY Patil Sports Academy','Arun Jaitley Stadium, Delhi':'Arun Jaitley Stadium','Zayed Cricket Stadium, Abu Dhabi':\n",
        "              'Sheikh Zayed Stadium','MA Chidambaram Stadium, Chepauk':'MA Chidambaram Stadium','MA Chidambaram Stadium, Chepauk, Chennail':\n",
        "              'MA Chidambaram Stadium','Narendra Modi Stadium, Ahmedabad':'Narendra Modi Stadium'}\n",
        "\n",
        "ipl_matches['venue'] = ipl_matches['venue'].replace(venue_dict)"
      ]
    },
    {
      "cell_type": "code",
      "execution_count": null,
      "metadata": {
        "colab": {
          "base_uri": "https://localhost:8080/"
        },
        "collapsed": true,
        "id": "4BwALp1rAaos",
        "outputId": "2b0d5ced-1a20-4cd2-d02f-988e4bae18e1"
      },
      "outputs": [
        {
          "data": {
            "text/plain": [
              "array(['Royal Challengers Bangalore', 'Chennai Super Kings',\n",
              "       'Rajasthan Royals', 'Mumbai Indians', 'Deccan Chargers',\n",
              "       'Kings XI Punjab', 'Kolkata Knight Riders', 'Delhi Daredevils',\n",
              "       'Kochi Tuskers Kerala', 'Pune Warriors', 'Sunrisers Hyderabad',\n",
              "       'Gujarat Lions', 'Rising Pune Supergiants',\n",
              "       'Rising Pune Supergiant', 'Delhi Capitals', 'Punjab Kings',\n",
              "       'Gujarat Titans', 'Lucknow Super Giants'], dtype=object)"
            ]
          },
          "execution_count": 25,
          "metadata": {},
          "output_type": "execute_result"
        }
      ],
      "source": [
        "ipl_matches['toss_winner'].unique()"
      ]
    },
    {
      "cell_type": "markdown",
      "metadata": {
        "id": "Dul3yGbVAicE"
      },
      "source": [
        "**There is a team repreated Twice.**\n",
        "\n",
        "Rising Pune Supergiants - Rising Pune Supergiant\n",
        "\n",
        "**Teams name has been replaced**\n",
        "\n",
        "Delhi Daredevils - Delhi Capitals\n",
        "\n",
        "Punjab Kings - Kings XI Punjab"
      ]
    },
    {
      "cell_type": "code",
      "execution_count": null,
      "metadata": {
        "id": "RDyO7QtTBCzX"
      },
      "outputs": [],
      "source": [
        "ipl_matches['toss_winner'] = ipl_matches['toss_winner'].replace(team_names)"
      ]
    },
    {
      "cell_type": "code",
      "execution_count": null,
      "metadata": {
        "colab": {
          "base_uri": "https://localhost:8080/"
        },
        "collapsed": true,
        "id": "J9Upcl--Bf6B",
        "outputId": "950864de-bb27-46f0-84be-fa539ca48c46"
      },
      "outputs": [
        {
          "data": {
            "text/plain": [
              "array(['Kolkata Knight Riders', 'Chennai Super Kings', 'Delhi Daredevils',\n",
              "       'Royal Challengers Bangalore', 'Rajasthan Royals',\n",
              "       'Kings XI Punjab', 'Deccan Chargers', 'Mumbai Indians',\n",
              "       'Pune Warriors', 'Kochi Tuskers Kerala', 'Sunrisers Hyderabad',\n",
              "       'Rising Pune Supergiants', 'Gujarat Lions',\n",
              "       'Rising Pune Supergiant', 'Delhi Capitals', 'Punjab Kings',\n",
              "       'Gujarat Titans', 'Lucknow Super Giants'], dtype=object)"
            ]
          },
          "execution_count": 27,
          "metadata": {},
          "output_type": "execute_result"
        }
      ],
      "source": [
        "ipl_matches['winner'].unique()"
      ]
    },
    {
      "cell_type": "markdown",
      "metadata": {
        "id": "ZhYnCnKOBkaq"
      },
      "source": [
        "**There is a team repreated Twice.** Rising Pune Supergiants - Rising Pune Supergiant\n",
        "\n",
        "**Teams name has been replaced**\n",
        "\n",
        "Delhi Daredevils - Delhi Capitals\n",
        "\n",
        "Punjab Kings - Kings XI Punjab"
      ]
    },
    {
      "cell_type": "code",
      "execution_count": null,
      "metadata": {
        "id": "kCLSvZw3of-G"
      },
      "outputs": [],
      "source": [
        "ipl_matches['winner'] = ipl_matches['winner'].replace(team_names)"
      ]
    },
    {
      "cell_type": "code",
      "execution_count": null,
      "metadata": {
        "colab": {
          "base_uri": "https://localhost:8080/"
        },
        "id": "Xpi9RicIvg2_",
        "outputId": "b5eaf321-29f3-4c5f-e154-7310ab9ef6f6"
      },
      "outputs": [
        {
          "data": {
            "text/plain": [
              "0"
            ]
          },
          "execution_count": 26,
          "metadata": {},
          "output_type": "execute_result"
        }
      ],
      "source": [
        "ipl_delivery.duplicated().sum()"
      ]
    },
    {
      "cell_type": "markdown",
      "metadata": {
        "id": "kVyAUlQf71uI"
      },
      "source": [
        "#**2.3 Data Transfermation**"
      ]
    },
    {
      "cell_type": "markdown",
      "metadata": {
        "id": "9zE1_dZxzKZf"
      },
      "source": [
        "**Matches Data Set**\n",
        "\n",
        "date: Should be converted **from object to datetime**.\n",
        "\n",
        "**The following Should be converted from object to categorical:**\n",
        "\n",
        "season, match_type, player_of_match, venue, team1, team2, toss_winner, toss_decision, winner, result, super_over, umpire1, umpire2\n"
      ]
    },
    {
      "cell_type": "code",
      "execution_count": null,
      "metadata": {
        "colab": {
          "base_uri": "https://localhost:8080/"
        },
        "collapsed": true,
        "id": "RzA817Wmvqt6",
        "outputId": "11a1e4cf-16ac-4235-da34-8e1d6547cb94"
      },
      "outputs": [
        {
          "name": "stdout",
          "output_type": "stream",
          "text": [
            "<class 'pandas.core.frame.DataFrame'>\n",
            "Index: 1019 entries, 0 to 1023\n",
            "Data columns (total 19 columns):\n",
            " #   Column           Non-Null Count  Dtype         \n",
            "---  ------           --------------  -----         \n",
            " 0   id               1019 non-null   int64         \n",
            " 1   season           1019 non-null   category      \n",
            " 2   city             1019 non-null   category      \n",
            " 3   date             1019 non-null   datetime64[ns]\n",
            " 4   match_type       1019 non-null   category      \n",
            " 5   player_of_match  1019 non-null   category      \n",
            " 6   venue            1019 non-null   category      \n",
            " 7   team1            1019 non-null   category      \n",
            " 8   team2            1019 non-null   category      \n",
            " 9   toss_winner      1019 non-null   category      \n",
            " 10  toss_decision    1019 non-null   category      \n",
            " 11  winner           1019 non-null   category      \n",
            " 12  result           1019 non-null   category      \n",
            " 13  result_margin    1019 non-null   float64       \n",
            " 14  target_runs      1019 non-null   float64       \n",
            " 15  target_overs     1019 non-null   float64       \n",
            " 16  super_over       1019 non-null   category      \n",
            " 17  umpire1          1019 non-null   category      \n",
            " 18  umpire2          1019 non-null   category      \n",
            "dtypes: category(14), datetime64[ns](1), float64(3), int64(1)\n",
            "memory usage: 84.8 KB\n",
            "None\n"
          ]
        }
      ],
      "source": [
        "# Convert 'date' to datetime\n",
        "ipl_matches['date'] = pd.to_datetime(ipl_matches['date'])\n",
        "\n",
        "# Convert columns to categorical type\n",
        "categorical_columns_matches = ['season','city', 'match_type', 'player_of_match', 'venue', 'team1', 'team2', 'toss_winner', 'toss_decision', 'winner', 'result', 'super_over', 'umpire1', 'umpire2']\n",
        "ipl_matches[categorical_columns_matches] = ipl_matches[categorical_columns_matches].astype('category')\n",
        "\n",
        "# Verify the changes\n",
        "print(ipl_matches.info())"
      ]
    },
    {
      "cell_type": "markdown",
      "metadata": {
        "id": "FS2Qokgq0ihx"
      },
      "source": [
        "**Delivery Data Set**\n",
        "\n",
        "**The following Should be converted from object to categorical:**\n",
        "\n",
        "extras_type, player_dismissed, dismissal_kind, fielder"
      ]
    },
    {
      "cell_type": "code",
      "execution_count": null,
      "metadata": {
        "colab": {
          "base_uri": "https://localhost:8080/"
        },
        "collapsed": true,
        "id": "QjbWFxN51IKo",
        "outputId": "09ddcc9f-638b-4ed4-b7de-f6ba6ce7dbca"
      },
      "outputs": [
        {
          "name": "stdout",
          "output_type": "stream",
          "text": [
            "<class 'pandas.core.frame.DataFrame'>\n",
            "RangeIndex: 243817 entries, 0 to 243816\n",
            "Data columns (total 19 columns):\n",
            " #   Column            Non-Null Count   Dtype   \n",
            "---  ------            --------------   -----   \n",
            " 0   match_id          243817 non-null  int64   \n",
            " 1   inning            243817 non-null  int64   \n",
            " 2   batting_team      243817 non-null  object  \n",
            " 3   bowling_team      243817 non-null  object  \n",
            " 4   over              243817 non-null  int64   \n",
            " 5   ball              243817 non-null  int64   \n",
            " 6   batter            243817 non-null  object  \n",
            " 7   bowler            243817 non-null  object  \n",
            " 8   non_striker       243817 non-null  object  \n",
            " 9   batsman_runs      243817 non-null  int64   \n",
            " 10  extra_runs        243817 non-null  int64   \n",
            " 11  total_runs        243817 non-null  int64   \n",
            " 12  extras_type       243817 non-null  category\n",
            " 13  is_wicket         243817 non-null  int64   \n",
            " 14  player_dismissed  243817 non-null  category\n",
            " 15  dismissal_kind    243817 non-null  category\n",
            " 16  fielder           243817 non-null  category\n",
            " 17  runs_in_over      243817 non-null  int64   \n",
            " 18  wickets_in_over   243817 non-null  int64   \n",
            "dtypes: category(4), int64(10), object(5)\n",
            "memory usage: 29.3+ MB\n",
            "None\n"
          ]
        }
      ],
      "source": [
        "# Convert columns in df_ipl_delivery to categorical type\n",
        "categorical_columns_delivery = ['extras_type', 'player_dismissed', 'dismissal_kind', 'fielder']\n",
        "ipl_delivery[categorical_columns_delivery] = ipl_delivery[categorical_columns_delivery].astype('category')\n",
        "\n",
        "# Verify the changes\n",
        "print(ipl_delivery.info())"
      ]
    },
    {
      "cell_type": "markdown",
      "metadata": {
        "id": "ATpFerxoVwCG"
      },
      "source": [
        "#**2.4 Encoding of Variables**\n"
      ]
    },
    {
      "cell_type": "markdown",
      "metadata": {
        "id": "DjMN8Q3sYDHg"
      },
      "source": [
        "**Matches Data Set**\n",
        "\n",
        "**1.Teams** (team1, team2, toss_winner, winner):\n",
        "\n",
        "\n",
        "*   **One-Hot Encoding:** Since these are nominal categorical variables,\n",
        "\n",
        "one-hot encoding is suitable. This will create separate binary columns for each team.\n",
        "\n",
        "\n",
        "**2.Venue and City** (venue, city):\n",
        "\n",
        "\n",
        "*   **One-Hot Encoding:** These are also nominal categorical variables. One-hot encoding is suitable to avoid introducing any artificial ordering.\n",
        "\n",
        "\n",
        "\n",
        "**3.Player of the Match** (player_of_match):\n",
        "\n",
        "*  **Target Encoding:** Since there are many unique players (high cardinality), target encoding can be used. This replaces each player's name with the mean number of times they have won the Player of the Match award.\n",
        "\n",
        "**4.Season (season):**\n",
        "\n",
        "* **Label Encoding:** If treating seasons as ordinal makes sense (e.g., the performance trend over the years), label encoding can be used.\n",
        "\n",
        "**5.Toss Decision** (toss_decision):\n",
        "\n",
        "* **Label Encoding:** Since this feature has only two possible values (bat or field), label encoding is straightforward and efficient."
      ]
    },
    {
      "cell_type": "code",
      "execution_count": null,
      "metadata": {
        "colab": {
          "base_uri": "https://localhost:8080/"
        },
        "id": "db54U5vjXlHn",
        "outputId": "76346a01-de05-4eac-ead4-ac574ae993e5"
      },
      "outputs": [
        {
          "name": "stderr",
          "output_type": "stream",
          "text": [
            "/usr/local/lib/python3.10/dist-packages/sklearn/preprocessing/_encoders.py:868: FutureWarning: `sparse` was renamed to `sparse_output` in version 1.2 and will be removed in 1.4. `sparse_output` is ignored unless you leave `sparse` to its default value.\n",
            "  warnings.warn(\n"
          ]
        }
      ],
      "source": [
        "# One-Hot Encoding for teams and venue\n",
        "one_hot_encoder = OneHotEncoder(sparse=False, drop='first')\n",
        "teams_venues_encoded = one_hot_encoder.fit_transform(ipl_matches[['team1', 'team2', 'venue','city','toss_winner','winner']])\n",
        "teams_venues_encoded_df = pd.DataFrame(teams_venues_encoded, columns=one_hot_encoder.get_feature_names_out(['team1', 'team2', 'venue','city','toss_winner','winner']))\n"
      ]
    },
    {
      "cell_type": "code",
      "execution_count": null,
      "metadata": {
        "id": "K7NNjZCJ4O63"
      },
      "outputs": [],
      "source": [
        "# Label Encoding for season and toss_decision\n",
        "label_encoder_season = LabelEncoder()\n",
        "ipl_matches['season'] = label_encoder_season.fit_transform(ipl_matches['season'])\n",
        "\n",
        "label_encoder_toss_decision = LabelEncoder()\n",
        "ipl_matches['toss_decision'] = label_encoder_toss_decision.fit_transform(ipl_matches['toss_decision'])\n"
      ]
    },
    {
      "cell_type": "code",
      "execution_count": null,
      "metadata": {
        "id": "OTvIn9p2UQV6"
      },
      "outputs": [],
      "source": []
    },
    {
      "cell_type": "code",
      "execution_count": null,
      "metadata": {
        "collapsed": true,
        "id": "6oxXwJLd4him"
      },
      "outputs": [],
      "source": [
        "# Target Encoding for player_of_match\n",
        "target_encoder = ce.TargetEncoder()\n",
        "# Convert 'winner' to numeric codes\n",
        "ipl_matches['winner_codes'] = ipl_matches['winner'].cat.codes\n",
        "ipl_matches['player_of_match'] = target_encoder.fit_transform(ipl_matches['player_of_match'], ipl_matches['winner_codes'])\n",
        "\n"
      ]
    },
    {
      "cell_type": "code",
      "execution_count": null,
      "metadata": {
        "colab": {
          "base_uri": "https://localhost:8080/"
        },
        "collapsed": true,
        "id": "WFvcUyatfhqJ",
        "outputId": "773ed7ef-fc17-4bdd-cd6e-81f603721d32"
      },
      "outputs": [
        {
          "name": "stdout",
          "output_type": "stream",
          "text": [
            "       id season       date match_type  player_of_match toss_decision  \\\n",
            "0  335982      0 2008-04-18     League         6.577168             1   \n",
            "1  335983      0 2008-04-19     League         5.471375             0   \n",
            "2  335984      0 2008-04-19     League         6.637145             0   \n",
            "3  335985      0 2008-04-20     League         8.134910             0   \n",
            "4  335986      0 2008-04-20     League         7.425655             0   \n",
            "\n",
            "    result  result_margin  target_runs  target_overs  ...  \\\n",
            "0     runs          140.0        223.0          20.0  ...   \n",
            "1     runs           33.0        241.0          20.0  ...   \n",
            "2  wickets            9.0        130.0          20.0  ...   \n",
            "3  wickets            5.0        166.0          20.0  ...   \n",
            "4  wickets            5.0        111.0          20.0  ...   \n",
            "\n",
            "  winner_Kochi Tuskers Kerala winner_Kolkata Knight Riders  \\\n",
            "0                         0.0                          1.0   \n",
            "1                         0.0                          0.0   \n",
            "2                         0.0                          0.0   \n",
            "3                         0.0                          0.0   \n",
            "4                         0.0                          1.0   \n",
            "\n",
            "  winner_Lucknow Super Giants  winner_Mumbai Indians  winner_Pune Warriors  \\\n",
            "0                         0.0                    0.0                   0.0   \n",
            "1                         0.0                    0.0                   0.0   \n",
            "2                         0.0                    0.0                   0.0   \n",
            "3                         0.0                    0.0                   0.0   \n",
            "4                         0.0                    0.0                   0.0   \n",
            "\n",
            "   winner_Punjab Kings  winner_Rajasthan Royals  \\\n",
            "0                  0.0                      0.0   \n",
            "1                  0.0                      0.0   \n",
            "2                  0.0                      0.0   \n",
            "3                  0.0                      0.0   \n",
            "4                  0.0                      0.0   \n",
            "\n",
            "   winner_Rising Pune Supergiants  winner_Royal Challengers Bangalore  \\\n",
            "0                             0.0                                 0.0   \n",
            "1                             0.0                                 0.0   \n",
            "2                             0.0                                 0.0   \n",
            "3                             0.0                                 1.0   \n",
            "4                             0.0                                 0.0   \n",
            "\n",
            "   winner_Sunrisers Hyderabad  \n",
            "0                         0.0  \n",
            "1                         0.0  \n",
            "2                         0.0  \n",
            "3                         0.0  \n",
            "4                         0.0  \n",
            "\n",
            "[5 rows x 148 columns]\n"
          ]
        }
      ],
      "source": [
        "# Combine all encoded features with the original dataset\n",
        "#matches_encoded\n",
        "ipl_matches= pd.concat([ipl_matches.drop(columns=['team1', 'team2', 'venue','city','toss_winner','winner','winner_codes']),teams_venues_encoded_df], axis=1)\n",
        "# Display the encoded dataset\n",
        "print(ipl_matches.head())"
      ]
    },
    {
      "cell_type": "code",
      "execution_count": null,
      "metadata": {
        "colab": {
          "base_uri": "https://localhost:8080/",
          "height": 417
        },
        "id": "xbMTDhCITPQ3",
        "outputId": "7510c412-d94f-4b2d-c06d-96435009f053"
      },
      "outputs": [
        {
          "data": {
            "application/vnd.google.colaboratory.intrinsic+json": {
              "summary": "{\n  \"name\": \"ipl_matches\",\n  \"rows\": 1019,\n  \"fields\": [\n    {\n      \"column\": \"id\",\n      \"properties\": {\n        \"dtype\": \"number\",\n        \"std\": 353097,\n        \"min\": 335982,\n        \"max\": 1370353,\n        \"num_unique_values\": 1019,\n        \"samples\": [\n          980917,\n          734043,\n          734015\n        ],\n        \"semantic_type\": \"\",\n        \"description\": \"\"\n      }\n    },\n    {\n      \"column\": \"season\",\n      \"properties\": {\n        \"dtype\": \"number\",\n        \"std\": 4,\n        \"min\": 0,\n        \"max\": 15,\n        \"num_unique_values\": 16,\n        \"samples\": [\n          0,\n          1,\n          5\n        ],\n        \"semantic_type\": \"\",\n        \"description\": \"\"\n      }\n    },\n    {\n      \"column\": \"city\",\n      \"properties\": {\n        \"dtype\": \"category\",\n        \"num_unique_values\": 35,\n        \"samples\": [\n          \"Abu Dhabi\",\n          \"Johannesburg\",\n          \"Raipur\"\n        ],\n        \"semantic_type\": \"\",\n        \"description\": \"\"\n      }\n    },\n    {\n      \"column\": \"date\",\n      \"properties\": {\n        \"dtype\": \"object\",\n        \"num_unique_values\": 760,\n        \"samples\": [\n          \"2016-05-16\",\n          \"2015-04-17\",\n          \"2010-03-29\"\n        ],\n        \"semantic_type\": \"\",\n        \"description\": \"\"\n      }\n    },\n    {\n      \"column\": \"match_type\",\n      \"properties\": {\n        \"dtype\": \"category\",\n        \"num_unique_values\": 8,\n        \"samples\": [\n          \"Semi Final\",\n          \"Elimination Final\",\n          \"League\"\n        ],\n        \"semantic_type\": \"\",\n        \"description\": \"\"\n      }\n    },\n    {\n      \"column\": \"player_of_match\",\n      \"properties\": {\n        \"dtype\": \"category\",\n        \"num_unique_values\": 280,\n        \"samples\": [\n          \"A Kumble\",\n          \"P Parameswaran\",\n          \"KS Bharat\"\n        ],\n        \"semantic_type\": \"\",\n        \"description\": \"\"\n      }\n    },\n    {\n      \"column\": \"venue\",\n      \"properties\": {\n        \"dtype\": \"category\",\n        \"num_unique_values\": 46,\n        \"samples\": [\n          \"Punjab Cricket Association IS Bindra Stadium, Mohali, Chandigarh\",\n          \"Subrata Roy Sahara Stadium\",\n          \"Maharashtra Cricket Association Stadium\"\n        ],\n        \"semantic_type\": \"\",\n        \"description\": \"\"\n      }\n    },\n    {\n      \"column\": \"team1\",\n      \"properties\": {\n        \"dtype\": \"category\",\n        \"num_unique_values\": 15,\n        \"samples\": [\n          \"Pune Warriors\",\n          \"Gujarat Lions\",\n          \"Royal Challengers Bangalore\"\n        ],\n        \"semantic_type\": \"\",\n        \"description\": \"\"\n      }\n    },\n    {\n      \"column\": \"team2\",\n      \"properties\": {\n        \"dtype\": \"category\",\n        \"num_unique_values\": 15,\n        \"samples\": [\n          \"Pune Warriors\",\n          \"Rising Pune Supergiants\",\n          \"Kolkata Knight Riders\"\n        ],\n        \"semantic_type\": \"\",\n        \"description\": \"\"\n      }\n    },\n    {\n      \"column\": \"toss_winner\",\n      \"properties\": {\n        \"dtype\": \"category\",\n        \"num_unique_values\": 15,\n        \"samples\": [\n          \"Pune Warriors\",\n          \"Gujarat Lions\",\n          \"Royal Challengers Bangalore\"\n        ],\n        \"semantic_type\": \"\",\n        \"description\": \"\"\n      }\n    },\n    {\n      \"column\": \"toss_decision\",\n      \"properties\": {\n        \"dtype\": \"number\",\n        \"std\": 0,\n        \"min\": 0,\n        \"max\": 1,\n        \"num_unique_values\": 2,\n        \"samples\": [\n          0,\n          1\n        ],\n        \"semantic_type\": \"\",\n        \"description\": \"\"\n      }\n    },\n    {\n      \"column\": \"winner\",\n      \"properties\": {\n        \"dtype\": \"category\",\n        \"num_unique_values\": 15,\n        \"samples\": [\n          \"Kochi Tuskers Kerala\",\n          \"Rising Pune Supergiants\"\n        ],\n        \"semantic_type\": \"\",\n        \"description\": \"\"\n      }\n    },\n    {\n      \"column\": \"result\",\n      \"properties\": {\n        \"dtype\": \"category\",\n        \"num_unique_values\": 3,\n        \"samples\": [\n          \"runs\",\n          \"wickets\"\n        ],\n        \"semantic_type\": \"\",\n        \"description\": \"\"\n      }\n    },\n    {\n      \"column\": \"result_margin\",\n      \"properties\": {\n        \"dtype\": \"number\",\n        \"std\": 21.733620556589436,\n        \"min\": 0.0,\n        \"max\": 146.0,\n        \"num_unique_values\": 98,\n        \"samples\": [\n          42.0,\n          17.0\n        ],\n        \"semantic_type\": \"\",\n        \"description\": \"\"\n      }\n    },\n    {\n      \"column\": \"target_runs\",\n      \"properties\": {\n        \"dtype\": \"number\",\n        \"std\": 32.22549526092103,\n        \"min\": 43.0,\n        \"max\": 264.0,\n        \"num_unique_values\": 160,\n        \"samples\": [\n          98.0,\n          199.0\n        ],\n        \"semantic_type\": \"\",\n        \"description\": \"\"\n      }\n    },\n    {\n      \"column\": \"target_overs\",\n      \"properties\": {\n        \"dtype\": \"number\",\n        \"std\": 1.564371812627419,\n        \"min\": 5.0,\n        \"max\": 20.0,\n        \"num_unique_values\": 15,\n        \"samples\": [\n          12.0,\n          11.0\n        ],\n        \"semantic_type\": \"\",\n        \"description\": \"\"\n      }\n    },\n    {\n      \"column\": \"super_over\",\n      \"properties\": {\n        \"dtype\": \"category\",\n        \"num_unique_values\": 2,\n        \"samples\": [\n          \"Y\",\n          \"N\"\n        ],\n        \"semantic_type\": \"\",\n        \"description\": \"\"\n      }\n    },\n    {\n      \"column\": \"umpire1\",\n      \"properties\": {\n        \"dtype\": \"category\",\n        \"num_unique_values\": 60,\n        \"samples\": [\n          \"Asad Rauf\",\n          \"IL Howell\"\n        ],\n        \"semantic_type\": \"\",\n        \"description\": \"\"\n      }\n    },\n    {\n      \"column\": \"umpire2\",\n      \"properties\": {\n        \"dtype\": \"category\",\n        \"num_unique_values\": 62,\n        \"samples\": [\n          \"AY Dandekar\",\n          \"N Pandit\"\n        ],\n        \"semantic_type\": \"\",\n        \"description\": \"\"\n      }\n    }\n  ]\n}",
              "type": "dataframe",
              "variable_name": "ipl_matches"
            },
            "text/html": [
              "\n",
              "  <div id=\"df-3ecbb097-41cf-401e-8446-90482889637d\" class=\"colab-df-container\">\n",
              "    <div>\n",
              "<style scoped>\n",
              "    .dataframe tbody tr th:only-of-type {\n",
              "        vertical-align: middle;\n",
              "    }\n",
              "\n",
              "    .dataframe tbody tr th {\n",
              "        vertical-align: top;\n",
              "    }\n",
              "\n",
              "    .dataframe thead th {\n",
              "        text-align: right;\n",
              "    }\n",
              "</style>\n",
              "<table border=\"1\" class=\"dataframe\">\n",
              "  <thead>\n",
              "    <tr style=\"text-align: right;\">\n",
              "      <th></th>\n",
              "      <th>id</th>\n",
              "      <th>season</th>\n",
              "      <th>city</th>\n",
              "      <th>date</th>\n",
              "      <th>match_type</th>\n",
              "      <th>player_of_match</th>\n",
              "      <th>venue</th>\n",
              "      <th>team1</th>\n",
              "      <th>team2</th>\n",
              "      <th>toss_winner</th>\n",
              "      <th>toss_decision</th>\n",
              "      <th>winner</th>\n",
              "      <th>result</th>\n",
              "      <th>result_margin</th>\n",
              "      <th>target_runs</th>\n",
              "      <th>target_overs</th>\n",
              "      <th>super_over</th>\n",
              "      <th>umpire1</th>\n",
              "      <th>umpire2</th>\n",
              "    </tr>\n",
              "  </thead>\n",
              "  <tbody>\n",
              "    <tr>\n",
              "      <th>0</th>\n",
              "      <td>335982</td>\n",
              "      <td>0</td>\n",
              "      <td>Bangalore</td>\n",
              "      <td>2008-04-18</td>\n",
              "      <td>League</td>\n",
              "      <td>BB McCullum</td>\n",
              "      <td>M Chinnaswamy Stadium</td>\n",
              "      <td>Royal Challengers Bangalore</td>\n",
              "      <td>Kolkata Knight Riders</td>\n",
              "      <td>Royal Challengers Bangalore</td>\n",
              "      <td>1</td>\n",
              "      <td>Kolkata Knight Riders</td>\n",
              "      <td>runs</td>\n",
              "      <td>140.0</td>\n",
              "      <td>223.0</td>\n",
              "      <td>20.0</td>\n",
              "      <td>N</td>\n",
              "      <td>Asad Rauf</td>\n",
              "      <td>RE Koertzen</td>\n",
              "    </tr>\n",
              "    <tr>\n",
              "      <th>1</th>\n",
              "      <td>335983</td>\n",
              "      <td>0</td>\n",
              "      <td>Chandigarh</td>\n",
              "      <td>2008-04-19</td>\n",
              "      <td>League</td>\n",
              "      <td>MEK Hussey</td>\n",
              "      <td>Punjab Cricket Association Stadium, Mohali</td>\n",
              "      <td>Punjab Kings</td>\n",
              "      <td>Chennai Super Kings</td>\n",
              "      <td>Chennai Super Kings</td>\n",
              "      <td>0</td>\n",
              "      <td>Chennai Super Kings</td>\n",
              "      <td>runs</td>\n",
              "      <td>33.0</td>\n",
              "      <td>241.0</td>\n",
              "      <td>20.0</td>\n",
              "      <td>N</td>\n",
              "      <td>MR Benson</td>\n",
              "      <td>SL Shastri</td>\n",
              "    </tr>\n",
              "    <tr>\n",
              "      <th>2</th>\n",
              "      <td>335984</td>\n",
              "      <td>0</td>\n",
              "      <td>Delhi</td>\n",
              "      <td>2008-04-19</td>\n",
              "      <td>League</td>\n",
              "      <td>MF Maharoof</td>\n",
              "      <td>Feroz Shah Kotla</td>\n",
              "      <td>Delhi Capitals</td>\n",
              "      <td>Rajasthan Royals</td>\n",
              "      <td>Rajasthan Royals</td>\n",
              "      <td>0</td>\n",
              "      <td>Delhi Capitals</td>\n",
              "      <td>wickets</td>\n",
              "      <td>9.0</td>\n",
              "      <td>130.0</td>\n",
              "      <td>20.0</td>\n",
              "      <td>N</td>\n",
              "      <td>Aleem Dar</td>\n",
              "      <td>GA Pratapkumar</td>\n",
              "    </tr>\n",
              "    <tr>\n",
              "      <th>3</th>\n",
              "      <td>335985</td>\n",
              "      <td>0</td>\n",
              "      <td>Mumbai</td>\n",
              "      <td>2008-04-20</td>\n",
              "      <td>League</td>\n",
              "      <td>MV Boucher</td>\n",
              "      <td>Wankhede Stadium</td>\n",
              "      <td>Mumbai Indians</td>\n",
              "      <td>Royal Challengers Bangalore</td>\n",
              "      <td>Mumbai Indians</td>\n",
              "      <td>0</td>\n",
              "      <td>Royal Challengers Bangalore</td>\n",
              "      <td>wickets</td>\n",
              "      <td>5.0</td>\n",
              "      <td>166.0</td>\n",
              "      <td>20.0</td>\n",
              "      <td>N</td>\n",
              "      <td>SJ Davis</td>\n",
              "      <td>DJ Harper</td>\n",
              "    </tr>\n",
              "    <tr>\n",
              "      <th>4</th>\n",
              "      <td>335986</td>\n",
              "      <td>0</td>\n",
              "      <td>Kolkata</td>\n",
              "      <td>2008-04-20</td>\n",
              "      <td>League</td>\n",
              "      <td>DJ Hussey</td>\n",
              "      <td>Eden Gardens</td>\n",
              "      <td>Kolkata Knight Riders</td>\n",
              "      <td>Deccan Chargers</td>\n",
              "      <td>Deccan Chargers</td>\n",
              "      <td>0</td>\n",
              "      <td>Kolkata Knight Riders</td>\n",
              "      <td>wickets</td>\n",
              "      <td>5.0</td>\n",
              "      <td>111.0</td>\n",
              "      <td>20.0</td>\n",
              "      <td>N</td>\n",
              "      <td>BF Bowden</td>\n",
              "      <td>K Hariharan</td>\n",
              "    </tr>\n",
              "  </tbody>\n",
              "</table>\n",
              "</div>\n",
              "    <div class=\"colab-df-buttons\">\n",
              "\n",
              "  <div class=\"colab-df-container\">\n",
              "    <button class=\"colab-df-convert\" onclick=\"convertToInteractive('df-3ecbb097-41cf-401e-8446-90482889637d')\"\n",
              "            title=\"Convert this dataframe to an interactive table.\"\n",
              "            style=\"display:none;\">\n",
              "\n",
              "  <svg xmlns=\"http://www.w3.org/2000/svg\" height=\"24px\" viewBox=\"0 -960 960 960\">\n",
              "    <path d=\"M120-120v-720h720v720H120Zm60-500h600v-160H180v160Zm220 220h160v-160H400v160Zm0 220h160v-160H400v160ZM180-400h160v-160H180v160Zm440 0h160v-160H620v160ZM180-180h160v-160H180v160Zm440 0h160v-160H620v160Z\"/>\n",
              "  </svg>\n",
              "    </button>\n",
              "\n",
              "  <style>\n",
              "    .colab-df-container {\n",
              "      display:flex;\n",
              "      gap: 12px;\n",
              "    }\n",
              "\n",
              "    .colab-df-convert {\n",
              "      background-color: #E8F0FE;\n",
              "      border: none;\n",
              "      border-radius: 50%;\n",
              "      cursor: pointer;\n",
              "      display: none;\n",
              "      fill: #1967D2;\n",
              "      height: 32px;\n",
              "      padding: 0 0 0 0;\n",
              "      width: 32px;\n",
              "    }\n",
              "\n",
              "    .colab-df-convert:hover {\n",
              "      background-color: #E2EBFA;\n",
              "      box-shadow: 0px 1px 2px rgba(60, 64, 67, 0.3), 0px 1px 3px 1px rgba(60, 64, 67, 0.15);\n",
              "      fill: #174EA6;\n",
              "    }\n",
              "\n",
              "    .colab-df-buttons div {\n",
              "      margin-bottom: 4px;\n",
              "    }\n",
              "\n",
              "    [theme=dark] .colab-df-convert {\n",
              "      background-color: #3B4455;\n",
              "      fill: #D2E3FC;\n",
              "    }\n",
              "\n",
              "    [theme=dark] .colab-df-convert:hover {\n",
              "      background-color: #434B5C;\n",
              "      box-shadow: 0px 1px 3px 1px rgba(0, 0, 0, 0.15);\n",
              "      filter: drop-shadow(0px 1px 2px rgba(0, 0, 0, 0.3));\n",
              "      fill: #FFFFFF;\n",
              "    }\n",
              "  </style>\n",
              "\n",
              "    <script>\n",
              "      const buttonEl =\n",
              "        document.querySelector('#df-3ecbb097-41cf-401e-8446-90482889637d button.colab-df-convert');\n",
              "      buttonEl.style.display =\n",
              "        google.colab.kernel.accessAllowed ? 'block' : 'none';\n",
              "\n",
              "      async function convertToInteractive(key) {\n",
              "        const element = document.querySelector('#df-3ecbb097-41cf-401e-8446-90482889637d');\n",
              "        const dataTable =\n",
              "          await google.colab.kernel.invokeFunction('convertToInteractive',\n",
              "                                                    [key], {});\n",
              "        if (!dataTable) return;\n",
              "\n",
              "        const docLinkHtml = 'Like what you see? Visit the ' +\n",
              "          '<a target=\"_blank\" href=https://colab.research.google.com/notebooks/data_table.ipynb>data table notebook</a>'\n",
              "          + ' to learn more about interactive tables.';\n",
              "        element.innerHTML = '';\n",
              "        dataTable['output_type'] = 'display_data';\n",
              "        await google.colab.output.renderOutput(dataTable, element);\n",
              "        const docLink = document.createElement('div');\n",
              "        docLink.innerHTML = docLinkHtml;\n",
              "        element.appendChild(docLink);\n",
              "      }\n",
              "    </script>\n",
              "  </div>\n",
              "\n",
              "\n",
              "<div id=\"df-d35a0545-a73b-480e-92f0-89bc10143215\">\n",
              "  <button class=\"colab-df-quickchart\" onclick=\"quickchart('df-d35a0545-a73b-480e-92f0-89bc10143215')\"\n",
              "            title=\"Suggest charts\"\n",
              "            style=\"display:none;\">\n",
              "\n",
              "<svg xmlns=\"http://www.w3.org/2000/svg\" height=\"24px\"viewBox=\"0 0 24 24\"\n",
              "     width=\"24px\">\n",
              "    <g>\n",
              "        <path d=\"M19 3H5c-1.1 0-2 .9-2 2v14c0 1.1.9 2 2 2h14c1.1 0 2-.9 2-2V5c0-1.1-.9-2-2-2zM9 17H7v-7h2v7zm4 0h-2V7h2v10zm4 0h-2v-4h2v4z\"/>\n",
              "    </g>\n",
              "</svg>\n",
              "  </button>\n",
              "\n",
              "<style>\n",
              "  .colab-df-quickchart {\n",
              "      --bg-color: #E8F0FE;\n",
              "      --fill-color: #1967D2;\n",
              "      --hover-bg-color: #E2EBFA;\n",
              "      --hover-fill-color: #174EA6;\n",
              "      --disabled-fill-color: #AAA;\n",
              "      --disabled-bg-color: #DDD;\n",
              "  }\n",
              "\n",
              "  [theme=dark] .colab-df-quickchart {\n",
              "      --bg-color: #3B4455;\n",
              "      --fill-color: #D2E3FC;\n",
              "      --hover-bg-color: #434B5C;\n",
              "      --hover-fill-color: #FFFFFF;\n",
              "      --disabled-bg-color: #3B4455;\n",
              "      --disabled-fill-color: #666;\n",
              "  }\n",
              "\n",
              "  .colab-df-quickchart {\n",
              "    background-color: var(--bg-color);\n",
              "    border: none;\n",
              "    border-radius: 50%;\n",
              "    cursor: pointer;\n",
              "    display: none;\n",
              "    fill: var(--fill-color);\n",
              "    height: 32px;\n",
              "    padding: 0;\n",
              "    width: 32px;\n",
              "  }\n",
              "\n",
              "  .colab-df-quickchart:hover {\n",
              "    background-color: var(--hover-bg-color);\n",
              "    box-shadow: 0 1px 2px rgba(60, 64, 67, 0.3), 0 1px 3px 1px rgba(60, 64, 67, 0.15);\n",
              "    fill: var(--button-hover-fill-color);\n",
              "  }\n",
              "\n",
              "  .colab-df-quickchart-complete:disabled,\n",
              "  .colab-df-quickchart-complete:disabled:hover {\n",
              "    background-color: var(--disabled-bg-color);\n",
              "    fill: var(--disabled-fill-color);\n",
              "    box-shadow: none;\n",
              "  }\n",
              "\n",
              "  .colab-df-spinner {\n",
              "    border: 2px solid var(--fill-color);\n",
              "    border-color: transparent;\n",
              "    border-bottom-color: var(--fill-color);\n",
              "    animation:\n",
              "      spin 1s steps(1) infinite;\n",
              "  }\n",
              "\n",
              "  @keyframes spin {\n",
              "    0% {\n",
              "      border-color: transparent;\n",
              "      border-bottom-color: var(--fill-color);\n",
              "      border-left-color: var(--fill-color);\n",
              "    }\n",
              "    20% {\n",
              "      border-color: transparent;\n",
              "      border-left-color: var(--fill-color);\n",
              "      border-top-color: var(--fill-color);\n",
              "    }\n",
              "    30% {\n",
              "      border-color: transparent;\n",
              "      border-left-color: var(--fill-color);\n",
              "      border-top-color: var(--fill-color);\n",
              "      border-right-color: var(--fill-color);\n",
              "    }\n",
              "    40% {\n",
              "      border-color: transparent;\n",
              "      border-right-color: var(--fill-color);\n",
              "      border-top-color: var(--fill-color);\n",
              "    }\n",
              "    60% {\n",
              "      border-color: transparent;\n",
              "      border-right-color: var(--fill-color);\n",
              "    }\n",
              "    80% {\n",
              "      border-color: transparent;\n",
              "      border-right-color: var(--fill-color);\n",
              "      border-bottom-color: var(--fill-color);\n",
              "    }\n",
              "    90% {\n",
              "      border-color: transparent;\n",
              "      border-bottom-color: var(--fill-color);\n",
              "    }\n",
              "  }\n",
              "</style>\n",
              "\n",
              "  <script>\n",
              "    async function quickchart(key) {\n",
              "      const quickchartButtonEl =\n",
              "        document.querySelector('#' + key + ' button');\n",
              "      quickchartButtonEl.disabled = true;  // To prevent multiple clicks.\n",
              "      quickchartButtonEl.classList.add('colab-df-spinner');\n",
              "      try {\n",
              "        const charts = await google.colab.kernel.invokeFunction(\n",
              "            'suggestCharts', [key], {});\n",
              "      } catch (error) {\n",
              "        console.error('Error during call to suggestCharts:', error);\n",
              "      }\n",
              "      quickchartButtonEl.classList.remove('colab-df-spinner');\n",
              "      quickchartButtonEl.classList.add('colab-df-quickchart-complete');\n",
              "    }\n",
              "    (() => {\n",
              "      let quickchartButtonEl =\n",
              "        document.querySelector('#df-d35a0545-a73b-480e-92f0-89bc10143215 button');\n",
              "      quickchartButtonEl.style.display =\n",
              "        google.colab.kernel.accessAllowed ? 'block' : 'none';\n",
              "    })();\n",
              "  </script>\n",
              "</div>\n",
              "    </div>\n",
              "  </div>\n"
            ],
            "text/plain": [
              "       id  season        city        date match_type player_of_match  \\\n",
              "0  335982       0   Bangalore  2008-04-18     League     BB McCullum   \n",
              "1  335983       0  Chandigarh  2008-04-19     League      MEK Hussey   \n",
              "2  335984       0       Delhi  2008-04-19     League     MF Maharoof   \n",
              "3  335985       0      Mumbai  2008-04-20     League      MV Boucher   \n",
              "4  335986       0     Kolkata  2008-04-20     League       DJ Hussey   \n",
              "\n",
              "                                        venue                        team1  \\\n",
              "0                       M Chinnaswamy Stadium  Royal Challengers Bangalore   \n",
              "1  Punjab Cricket Association Stadium, Mohali                 Punjab Kings   \n",
              "2                            Feroz Shah Kotla               Delhi Capitals   \n",
              "3                            Wankhede Stadium               Mumbai Indians   \n",
              "4                                Eden Gardens        Kolkata Knight Riders   \n",
              "\n",
              "                         team2                  toss_winner  toss_decision  \\\n",
              "0        Kolkata Knight Riders  Royal Challengers Bangalore              1   \n",
              "1          Chennai Super Kings          Chennai Super Kings              0   \n",
              "2             Rajasthan Royals             Rajasthan Royals              0   \n",
              "3  Royal Challengers Bangalore               Mumbai Indians              0   \n",
              "4              Deccan Chargers              Deccan Chargers              0   \n",
              "\n",
              "                        winner   result  result_margin  target_runs  \\\n",
              "0        Kolkata Knight Riders     runs          140.0        223.0   \n",
              "1          Chennai Super Kings     runs           33.0        241.0   \n",
              "2               Delhi Capitals  wickets            9.0        130.0   \n",
              "3  Royal Challengers Bangalore  wickets            5.0        166.0   \n",
              "4        Kolkata Knight Riders  wickets            5.0        111.0   \n",
              "\n",
              "   target_overs super_over    umpire1         umpire2  \n",
              "0          20.0          N  Asad Rauf     RE Koertzen  \n",
              "1          20.0          N  MR Benson      SL Shastri  \n",
              "2          20.0          N  Aleem Dar  GA Pratapkumar  \n",
              "3          20.0          N   SJ Davis       DJ Harper  \n",
              "4          20.0          N  BF Bowden     K Hariharan  "
            ]
          },
          "execution_count": 21,
          "metadata": {},
          "output_type": "execute_result"
        }
      ],
      "source": [
        "ipl_matches.head()"
      ]
    },
    {
      "cell_type": "markdown",
      "metadata": {
        "id": "osIydUDAn0jR"
      },
      "source": [
        "**Delivery Data Set**"
      ]
    },
    {
      "cell_type": "markdown",
      "metadata": {
        "id": "EyzQq_aPnspE"
      },
      "source": []
    },
    {
      "cell_type": "markdown",
      "metadata": {
        "id": "0615KlS78Fa_"
      },
      "source": [
        "#**2.5 Feature Engineering**"
      ]
    },
    {
      "cell_type": "markdown",
      "metadata": {
        "id": "dqJrDinjvplw"
      },
      "source": [
        "**2.4.1.   Creating New Features for ipl_matches**\n",
        "\n",
        "\n",
        "1.   Home Team: Whether a team is playing at their home ground.\n",
        "2.   Win by Runs or Wickets: Separate result_margin into two columns: win_by_runs and win_by_wickets.\n",
        "3.  Match Day: Extract day of the week from the date column.\n",
        "4.  Total Matches Played: Cumulative count of matches played by each team till that point in time.\n",
        "\n",
        "\n"
      ]
    },
    {
      "cell_type": "code",
      "execution_count": null,
      "metadata": {
        "colab": {
          "base_uri": "https://localhost:8080/"
        },
        "id": "InpfdvnOxDRD",
        "outputId": "4ec01421-a00b-4ddb-a60f-8d608ed989e8"
      },
      "outputs": [
        {
          "name": "stdout",
          "output_type": "stream",
          "text": [
            "               home_team  win_by_runs  win_by_wickets  total_matches_played\n",
            "0                   None        140.0             0.0                     1\n",
            "1                   None         33.0             0.0                     2\n",
            "2                   None          0.0             9.0                     3\n",
            "3         Mumbai Indians          0.0             5.0                     4\n",
            "4  Kolkata Knight Riders          0.0             5.0                     5\n"
          ]
        }
      ],
      "source": [
        "# Creating new features for ipl_matches\n",
        "\n",
        "# Create 'home_team' feature\n",
        "home_venues = {\n",
        "    'Mumbai Indians': 'Wankhede Stadium',\n",
        "    'Chennai Super Kings': 'M. A. Chidambaram Stadium',\n",
        "    'Kolkata Knight Riders': 'Eden Gardens',\n",
        "    'Royal Challengers Bangalore': 'M. Chinnaswamy Stadium',\n",
        "    'Delhi Capitals': 'Feroz Shah Kotla Ground',\n",
        "    'Sunrisers Hyderabad': 'Rajiv Gandhi International Stadium',\n",
        "    'Kings XI Punjab': 'Punjab Cricket Association Stadium',\n",
        "    'Rajasthan Royals': 'Sawai Mansingh Stadium'\n",
        "}\n",
        "\n",
        "ipl_matches['home_team'] = ipl_matches.apply(\n",
        "    lambda row: row['team1'] if home_venues.get(row['team1']) == row['venue'] else (\n",
        "        row['team2'] if home_venues.get(row['team2']) == row['venue'] else 'None'\n",
        "    ),\n",
        "    axis=1\n",
        ")\n",
        "\n",
        "# Create 'win_by_runs' and 'win_by_wickets' features\n",
        "ipl_matches['win_by_runs'] = ipl_matches.apply(\n",
        "    lambda row: row['result_margin'] if row['result'] == 'runs' else 0, axis=1\n",
        ")\n",
        "ipl_matches['win_by_wickets'] = ipl_matches.apply(\n",
        "    lambda row: row['result_margin'] if row['result'] == 'wickets' else 0, axis=1\n",
        ")\n",
        "\n",
        "# Create 'match_day' feature\n",
        "#ipl_matches['match_day'] = ipl_matches['date'].dt.day_name()\n",
        "\n",
        "# Create 'total_matches_played' feature (cumulative count of matches played by each team)\n",
        "teams = ipl_matches['team1'].unique()\n",
        "ipl_matches['total_matches_played'] = 0\n",
        "\n",
        "for team in teams:\n",
        "    ipl_matches.loc[ipl_matches['team1'] == team, 'total_matches_played'] = ipl_matches.loc[ipl_matches['team1'] == team].index + 1\n",
        "    ipl_matches.loc[ipl_matches['team2'] == team, 'total_matches_played'] = ipl_matches.loc[ipl_matches['team2'] == team].index + 1\n",
        "\n",
        "# Verify the changes\n",
        "print(ipl_matches[['home_team', 'win_by_runs', 'win_by_wickets', 'total_matches_played']].head())\n"
      ]
    },
    {
      "cell_type": "markdown",
      "metadata": {
        "id": "_tS0V6RvxEwz"
      },
      "source": [
        "**2.4.2 Creating New Features for ipl_delivery**\n",
        "\n",
        "1.  Runs in Over: Total runs scored in each over.\n",
        "\n",
        "2.  Wickets in Over: Total wickets taken in each over.\n",
        "\n",
        "3.  Runs in Power Play: Total runs scored in power play"
      ]
    },
    {
      "cell_type": "code",
      "execution_count": null,
      "metadata": {
        "colab": {
          "base_uri": "https://localhost:8080/"
        },
        "id": "VhvPw5XKwzHv",
        "outputId": "8c62ae03-53fd-4a89-8d7f-451c57a4b406"
      },
      "outputs": [
        {
          "name": "stdout",
          "output_type": "stream",
          "text": [
            "   match_id  over  runs_in_over  wickets_in_over\n",
            "0    335982     0             7                0\n",
            "1    335982     0             7                0\n",
            "2    335982     0             7                0\n",
            "3    335982     0             7                0\n",
            "4    335982     0             7                0\n"
          ]
        }
      ],
      "source": [
        "# Create 'runs_in_over' feature\n",
        "ipl_delivery['runs_in_over'] = ipl_delivery.groupby(['match_id', 'over'])['total_runs'].transform('sum')\n",
        "\n",
        "# Create 'wickets_in_over' feature\n",
        "ipl_delivery['wickets_in_over'] = ipl_delivery.groupby(['match_id', 'over'])['is_wicket'].transform('sum')\n",
        "\n",
        "# Verify the changes\n",
        "print(ipl_delivery[['match_id', 'over', 'runs_in_over', 'wickets_in_over']].head())\n"
      ]
    },
    {
      "cell_type": "code",
      "execution_count": null,
      "metadata": {
        "colab": {
          "base_uri": "https://localhost:8080/"
        },
        "id": "plM4yDb6JgYt",
        "outputId": "faa06397-38d4-4d03-d08e-e2e1dd630be8"
      },
      "outputs": [
        {
          "name": "stdout",
          "output_type": "stream",
          "text": [
            "      match_id  inning  powerplay_runs\n",
            "0       335982       1              68\n",
            "1       335982       2              33\n",
            "2       335983       1              62\n",
            "3       335983       2              69\n",
            "4       335984       1              44\n",
            "...        ...     ...             ...\n",
            "2070   1370351       2              65\n",
            "2071   1370352       1              59\n",
            "2072   1370352       2              77\n",
            "2073   1370353       1              67\n",
            "2074   1370353       2              78\n",
            "\n",
            "[2075 rows x 3 columns]\n"
          ]
        }
      ],
      "source": [
        "# Creating a feature for powerplay runs\n",
        "ipl_delivery['powerplay'] = ipl_delivery['over'].apply(lambda x: 1 if x <= 6 else 0)\n",
        "powerplay_runs = ipl_delivery[ipl_delivery['powerplay'] == 1].groupby(['match_id', 'inning'])['total_runs'].sum().reset_index()\n",
        "powerplay_runs.rename(columns={'total_runs': 'powerplay_runs'}, inplace=True)\n",
        "ipl_delivery\n",
        "print(powerplay_runs)"
      ]
    },
    {
      "cell_type": "markdown",
      "metadata": {
        "id": "NTtS3qB3bs-U"
      },
      "source": [
        "#**2.5 Data Visualization**"
      ]
    },
    {
      "cell_type": "code",
      "execution_count": null,
      "metadata": {
        "colab": {
          "base_uri": "https://localhost:8080/",
          "height": 601
        },
        "id": "pqmchJk4G-27",
        "outputId": "74c0aa28-5211-49cd-fbd2-705ff878b890"
      },
      "outputs": [
        {
          "data": {
            "image/png": "[encoded data removed]",
            "text/plain": [
              "<Figure size 1000x600 with 1 Axes>"
            ]
          },
          "metadata": {},
          "output_type": "display_data"
        }
      ],
      "source": [
        "# Number of Matches per Season\n",
        "plt.figure(figsize=(10, 6))\n",
        "sns.countplot(data=ipl_matches, x='season')\n",
        "plt.title('Number of Matches per Season')\n",
        "plt.xlabel('Season')\n",
        "plt.ylabel('Number of Matches')\n",
        "plt.xticks(rotation=45)\n",
        "plt.show()\n"
      ]
    },
    {
      "cell_type": "code",
      "execution_count": null,
      "metadata": {
        "colab": {
          "base_uri": "https://localhost:8080/",
          "height": 718
        },
        "id": "jEHOQPWsHWiH",
        "outputId": "e62de04a-685e-47a7-e348-6ee049d32fac"
      },
      "outputs": [
        {
          "data": {
            "image/png": "[encoded data removed]",
            "text/plain": [
              "<Figure size 1200x800 with 1 Axes>"
            ]
          },
          "metadata": {},
          "output_type": "display_data"
        }
      ],
      "source": [
        "# Wins by Teams\n",
        "plt.figure(figsize=(12, 8))\n",
        "sns.countplot(data=ipl_matches, y='winner', order=ipl_matches['winner'].value_counts().index)\n",
        "plt.title('Wins by Teams')\n",
        "plt.xlabel('Number of Wins')\n",
        "plt.ylabel('Team')\n",
        "plt.show()"
      ]
    },
    {
      "cell_type": "code",
      "execution_count": null,
      "metadata": {
        "colab": {
          "base_uri": "https://localhost:8080/",
          "height": 675
        },
        "id": "daF8B2Teq3Se",
        "outputId": "4d04a5e2-eb5a-4def-dd94-d449669543e0"
      },
      "outputs": [
        {
          "name": "stderr",
          "output_type": "stream",
          "text": [
            "<ipython-input-7-b671972161d3>:10: FutureWarning: \n",
            "\n",
            "Passing `palette` without assigning `hue` is deprecated and will be removed in v0.14.0. Assign the `y` variable to `hue` and set `legend=False` for the same effect.\n",
            "\n",
            "  sns.barplot(x='wickets', y='bowler', data=bowler_wickets, palette='viridis')\n"
          ]
        },
        {
          "data": {
            "image/png": "[encoded data removed]",
            "text/plain": [
              "<Figure size 1200x600 with 1 Axes>"
            ]
          },
          "metadata": {},
          "output_type": "display_data"
        }
      ],
      "source": [
        "# Filter data for deliveries that resulted in a wicket\n",
        "wickets = ipl_delivery[ipl_delivery['is_wicket'] == 1]\n",
        "\n",
        "# Calculate total wickets taken by each bowler\n",
        "bowler_wickets = wickets.groupby('bowler').size().reset_index(name='wickets')\n",
        "bowler_wickets = bowler_wickets.sort_values(by='wickets', ascending=False).head(10)\n",
        "\n",
        "# Plot top 10 bowlers\n",
        "plt.figure(figsize=(12, 6))\n",
        "sns.barplot(x='wickets', y='bowler', data=bowler_wickets, palette='viridis')\n",
        "plt.title('Top 10 Bowlers in IPL')\n",
        "plt.xlabel('Total Wickets Taken')\n",
        "plt.ylabel('Bowler')\n",
        "plt.show()\n"
      ]
    },
    {
      "cell_type": "code",
      "execution_count": null,
      "metadata": {
        "colab": {
          "base_uri": "https://localhost:8080/",
          "height": 675
        },
        "id": "ozVpeTgPV5by",
        "outputId": "63113268-783f-4063-a9db-996012cec204"
      },
      "outputs": [
        {
          "name": "stderr",
          "output_type": "stream",
          "text": [
            "<ipython-input-5-7e2e2ab6e1e7>:10: FutureWarning: \n",
            "\n",
            "Passing `palette` without assigning `hue` is deprecated and will be removed in v0.14.0. Assign the `y` variable to `hue` and set `legend=False` for the same effect.\n",
            "\n",
            "  sns.barplot(x='wickets', y='bowler', data=bowler_wickets, palette='viridis')\n"
          ]
        },
        {
          "data": {
            "image/png": "[encoded data removed]",
            "text/plain": [
              "<Figure size 1200x600 with 1 Axes>"
            ]
          },
          "metadata": {},
          "output_type": "display_data"
        }
      ],
      "source": [
        "# Filter data for deliveries that resulted in a wicket\n",
        "wickets = ipl_delivery[ipl_delivery['is_wicket'] == 1]\n",
        "\n",
        "# Calculate total wickets taken by each bowler\n",
        "bowler_wickets = wickets.groupby('bowler').size().reset_index(name='wickets')\n",
        "bowler_wickets = bowler_wickets.sort_values(by='wickets', ascending=False).head(10)\n",
        "bowler_wickets\n",
        "# Plot top 10 bowlers\n",
        "plt.figure(figsize=(12, 6))\n",
        "sns.barplot(x='wickets', y='bowler', data=bowler_wickets, palette='viridis')\n",
        "plt.title('Top 10 Bowlers in IPL')\n",
        "plt.xlabel('Total Wickets Taken')\n",
        "plt.ylabel('Bowler')\n",
        "plt.show()\n"
      ]
    },
    {
      "cell_type": "code",
      "execution_count": null,
      "metadata": {
        "colab": {
          "base_uri": "https://localhost:8080/",
          "height": 564
        },
        "id": "dme4yUsrNf9Y",
        "outputId": "00fc7dbf-1ef5-4b77-a7b6-9dfb076d1e4b"
      },
      "outputs": [
        {
          "data": {
            "image/png": "[encoded data removed]",
            "text/plain": [
              "<Figure size 1000x600 with 1 Axes>"
            ]
          },
          "metadata": {},
          "output_type": "display_data"
        }
      ],
      "source": [
        "# Bar chart for toss decisions\n",
        "plt.figure(figsize=(10, 6))\n",
        "sns.countplot(x='toss_decision', data=ipl_matches)\n",
        "plt.title('Count of Toss Decisions')\n",
        "plt.show()"
      ]
    },
    {
      "cell_type": "code",
      "execution_count": null,
      "metadata": {
        "colab": {
          "base_uri": "https://localhost:8080/",
          "height": 565
        },
        "id": "y3eN4AWDFtw3",
        "outputId": "f58d48af-9858-4f61-da43-a153ee3174bf"
      },
      "outputs": [
        {
          "data": {
            "image/png": "[encoded data removed]",
            "text/plain": [
              "<Figure size 1500x600 with 2 Axes>"
            ]
          },
          "metadata": {},
          "output_type": "display_data"
        }
      ],
      "source": [
        "# Plotting histograms for numerical features\n",
        "numerical_features = ['result_margin', 'target_runs']\n",
        "ipl_matches[numerical_features].hist(bins=15, figsize=(15, 6), layout=(1, 2))\n",
        "plt.suptitle('Distribution of Numerical Features')\n",
        "plt.show()"
      ]
    },
    {
      "cell_type": "code",
      "execution_count": null,
      "metadata": {
        "colab": {
          "base_uri": "https://localhost:8080/",
          "height": 684
        },
        "id": "1CnIaowoU3lB",
        "outputId": "56ec08ee-b25a-4c17-866f-c2b4fc11e59e"
      },
      "outputs": [
        {
          "name": "stderr",
          "output_type": "stream",
          "text": [
            "<ipython-input-43-662910d988e4>:7: FutureWarning: \n",
            "\n",
            "Passing `palette` without assigning `hue` is deprecated and will be removed in v0.14.0. Assign the `y` variable to `hue` and set `legend=False` for the same effect.\n",
            "\n",
            "  sns.barplot(x='batsman_runs', y='batter', data=batsman_runs, palette='viridis')\n"
          ]
        },
        {
          "data": {
            "image/png": "[encoded data removed]",
            "text/plain": [
              "<Figure size 1200x600 with 1 Axes>"
            ]
          },
          "metadata": {},
          "output_type": "display_data"
        }
      ],
      "source": [
        "# Calculate total runs scored by each batsman\n",
        "batsman_runs = ipl_delivery.groupby('batter')['batsman_runs'].sum().reset_index()\n",
        "batsman_runs = batsman_runs.sort_values(by='batsman_runs', ascending=False).head(10)\n",
        "\n",
        "# Plot top 10 batsmen\n",
        "plt.figure(figsize=(12, 6))\n",
        "sns.barplot(x='batsman_runs', y='batter', data=batsman_runs, palette='viridis')\n",
        "plt.title('Top 10 Batsmen in IPL')\n",
        "plt.xlabel('Total Runs Scored')\n",
        "plt.ylabel('Batsman')\n",
        "plt.show()"
      ]
    },
    {
      "cell_type": "code",
      "execution_count": null,
      "metadata": {
        "colab": {
          "base_uri": "https://localhost:8080/",
          "height": 564
        },
        "id": "d-8NZJ80FxBo",
        "outputId": "9b0a2108-6f24-4b03-8c07-6405c2bbac03"
      },
      "outputs": [
        {
          "data": {
            "image/png": "[encoded data removed]",
            "text/plain": [
              "<Figure size 1000x600 with 1 Axes>"
            ]
          },
          "metadata": {},
          "output_type": "display_data"
        }
      ],
      "source": [
        "# Scatter plot to explore the relationship between result_margin and target_runs\n",
        "plt.figure(figsize=(10, 6))\n",
        "sns.scatterplot(data=ipl_matches, x='target_runs', y='result_margin', hue='season')\n",
        "plt.title('Scatter Plot of Target Runs vs Result Margin')\n",
        "plt.show()"
      ]
    },
    {
      "cell_type": "code",
      "execution_count": null,
      "metadata": {
        "colab": {
          "base_uri": "https://localhost:8080/",
          "height": 467
        },
        "id": "wK9b5_4lI5b7",
        "outputId": "47bc3ece-3ddb-4473-8229-a501cb491fac"
      },
      "outputs": [
        {
          "data": {
            "text/plain": [
              "<Axes: xlabel='over'>"
            ]
          },
          "execution_count": 35,
          "metadata": {},
          "output_type": "execute_result"
        },
        {
          "data": {
            "image/png": "[encoded data removed]",
            "text/plain": [
              "<Figure size 640x480 with 1 Axes>"
            ]
          },
          "metadata": {},
          "output_type": "display_data"
        }
      ],
      "source": [
        "# Average runs in an over (All seasons combined)\n",
        "(ipl_delivery.groupby('over')['total_runs'].mean()*6).plot(kind = 'line')"
      ]
    },
    {
      "cell_type": "code",
      "execution_count": null,
      "metadata": {
        "colab": {
          "base_uri": "https://localhost:8080/",
          "height": 545
        },
        "id": "_QU5eHYrIbvI",
        "outputId": "fc76dab4-3bdf-4fed-b34f-c8ee2fcdc24a"
      },
      "outputs": [
        {
          "data": {
            "image/png": "[encoded data removed]",
            "text/plain": [
              "<Figure size 800x600 with 2 Axes>"
            ]
          },
          "metadata": {},
          "output_type": "display_data"
        }
      ],
      "source": [
        "# Compute the correlation matrix\n",
        "correlation_matrix = ipl_matches[numerical_features].corr()\n",
        "\n",
        "# Plot the heatmap\n",
        "plt.figure(figsize=(8, 6))\n",
        "sns.heatmap(correlation_matrix, annot=True, cmap='coolwarm', linewidths=0.5)\n",
        "plt.title('Correlation Matrix')\n",
        "plt.show()\n"
      ]
    },
    {
      "cell_type": "code",
      "execution_count": null,
      "metadata": {
        "colab": {
          "base_uri": "https://localhost:8080/",
          "height": 564
        },
        "id": "U7h26ylZHz3x",
        "outputId": "29339725-ef70-478d-dd2e-45a9952675c1"
      },
      "outputs": [
        {
          "data": {
            "image/png": "[encoded data removed]",
            "text/plain": [
              "<Figure size 1000x600 with 1 Axes>"
            ]
          },
          "metadata": {},
          "output_type": "display_data"
        }
      ],
      "source": [
        "# Distribution of Result Margins\n",
        "plt.figure(figsize=(10, 6))\n",
        "sns.histplot(data=ipl_matches, x='result_margin', bins=30, kde=True)\n",
        "plt.title('Distribution of Result Margins')\n",
        "plt.xlabel('Result Margin')\n",
        "plt.ylabel('Frequency')\n",
        "plt.show()"
      ]
    },
    {
      "cell_type": "markdown",
      "metadata": {
        "id": "eopUzXJANPtd"
      },
      "source": [
        "#**3 Model Building**\n",
        "\n",
        "**Predicting Match Winner:**\n",
        "\n",
        "Based on pre-match information\n",
        "For this task, we'll use the df_ipl_matches dataset. We'll build a classification model to predict the winner of a match using pre-match information.\n",
        "\n",
        "**Features to Use:**\n",
        "\n",
        "* Season\n",
        "* City\n",
        "* Venue\n",
        "* Team1\n",
        "* Team2\n",
        "* Toss Winner\n",
        "* Toss Decision\n",
        "* Match Type\n",
        "\n",
        "**Target:**\n",
        "\n",
        "* Winner\n",
        "\n",
        "**Preprocessing:**\n",
        "Encode categorical variables\n",
        "Split data into training and testing sets"
      ]
    },
    {
      "cell_type": "code",
      "execution_count": null,
      "metadata": {
        "colab": {
          "base_uri": "https://localhost:8080/"
        },
        "id": "TC_KH1kOwquv",
        "outputId": "649a8c11-e598-4bc7-f8db-8ec55a31bd19"
      },
      "outputs": [
        {
          "name": "stdout",
          "output_type": "stream",
          "text": [
            "(819, 8) (205, 8)\n",
            "(819,) (205,)\n"
          ]
        }
      ],
      "source": [
        "# Select features and target\n",
        "features = ['season', 'city', 'venue', 'team1', 'team2', 'toss_winner', 'toss_decision', 'match_type']\n",
        "target = 'winner'\n",
        "\n",
        "# Filter out matches with no result\n",
        "df_ipl_matches_filtered = ipl_matches[ipl_matches['winner'] != 'No Result']\n",
        "\n",
        "# Encode categorical variables\n",
        "le = LabelEncoder()\n",
        "df_ipl_matches_encoded = df_ipl_matches_filtered.copy()\n",
        "for col in features + [target]:\n",
        "    df_ipl_matches_encoded[col] = le.fit_transform(df_ipl_matches_filtered[col])\n",
        "\n",
        "# Split data into training and testing sets\n",
        "X = df_ipl_matches_encoded[features]\n",
        "y = df_ipl_matches_encoded[target]\n",
        "\n",
        "X_train, X_test, y_train, y_test = train_test_split(X, y, test_size=0.2, random_state=42)\n",
        "\n",
        "# Verify the splits\n",
        "print(X_train.shape, X_test.shape)\n",
        "print(y_train.shape, y_test.shape)"
      ]
    },
    {
      "cell_type": "markdown",
      "metadata": {
        "id": "fxAlWhShHzGa"
      },
      "source": [
        "Now, let's build and evaluate a simple classification model using Random Forest."
      ]
    },
    {
      "cell_type": "code",
      "execution_count": null,
      "metadata": {
        "colab": {
          "base_uri": "https://localhost:8080/"
        },
        "id": "TtVRQ5O8xh45",
        "outputId": "1c473138-f55f-481f-cd28-66c63ddcb5f4"
      },
      "outputs": [
        {
          "name": "stdout",
          "output_type": "stream",
          "text": [
            "Accuracy: 0.43\n",
            "Classification Report:\n",
            "               precision    recall  f1-score   support\n",
            "\n",
            "           0       0.47      0.72      0.57        25\n",
            "           1       0.40      1.00      0.57         2\n",
            "           2       0.25      0.20      0.22         5\n",
            "           3       0.62      0.31      0.42        16\n",
            "           4       0.33      0.25      0.29         4\n",
            "           5       0.50      0.17      0.25         6\n",
            "           6       0.42      0.25      0.31        20\n",
            "           7       0.00      0.00      0.00         1\n",
            "           8       0.44      0.40      0.42        30\n",
            "           9       0.20      0.33      0.25         3\n",
            "          10       0.35      0.53      0.42        17\n",
            "          11       0.50      1.00      0.67         1\n",
            "          12       0.00      0.00      0.00         5\n",
            "          13       0.41      0.30      0.35        23\n",
            "          14       1.00      1.00      1.00         1\n",
            "          16       0.48      0.55      0.52        29\n",
            "          17       0.44      0.50      0.47        16\n",
            "          18       0.00      0.00      0.00         1\n",
            "\n",
            "    accuracy                           0.43       205\n",
            "   macro avg       0.38      0.42      0.37       205\n",
            "weighted avg       0.43      0.43      0.41       205\n",
            "\n"
          ]
        },
        {
          "name": "stderr",
          "output_type": "stream",
          "text": [
            "/usr/local/lib/python3.10/dist-packages/sklearn/metrics/_classification.py:1344: UndefinedMetricWarning: Precision and F-score are ill-defined and being set to 0.0 in labels with no predicted samples. Use `zero_division` parameter to control this behavior.\n",
            "  _warn_prf(average, modifier, msg_start, len(result))\n",
            "/usr/local/lib/python3.10/dist-packages/sklearn/metrics/_classification.py:1344: UndefinedMetricWarning: Precision and F-score are ill-defined and being set to 0.0 in labels with no predicted samples. Use `zero_division` parameter to control this behavior.\n",
            "  _warn_prf(average, modifier, msg_start, len(result))\n",
            "/usr/local/lib/python3.10/dist-packages/sklearn/metrics/_classification.py:1344: UndefinedMetricWarning: Precision and F-score are ill-defined and being set to 0.0 in labels with no predicted samples. Use `zero_division` parameter to control this behavior.\n",
            "  _warn_prf(average, modifier, msg_start, len(result))\n"
          ]
        }
      ],
      "source": [
        "# Initialize and train the model\n",
        "rf_model = RandomForestClassifier(n_estimators=100, random_state=42)\n",
        "rf_model.fit(X_train, y_train)\n",
        "\n",
        "# Make predictions\n",
        "y_pred = rf_model.predict(X_test)\n",
        "\n",
        "# Evaluate the model\n",
        "accuracy = accuracy_score(y_test, y_pred)\n",
        "report = classification_report(y_test, y_pred)\n",
        "\n",
        "print(f\"Accuracy: {accuracy:.2f}\")\n",
        "print(\"Classification Report:\\n\", report)\n"
      ]
    },
    {
      "cell_type": "markdown",
      "metadata": {
        "id": "AEknmH46yXK7"
      },
      "source": [
        "**5.2 Predicting Runs Scored in an Over**\n",
        "For this task, we'll use the df_ipl_delivery dataset. We'll build a regression model to predict the total runs scored in an over based on deliveries data.\n",
        "\n",
        "**Features to Use:**\n",
        "\n",
        "* Match ID\n",
        "* Inning\n",
        "* Batting Team\n",
        "* Bowling Team\n",
        "* Over\n",
        "* Ball\n",
        "* Batter\n",
        "* Bowler\n",
        "\n",
        "**Target:**\n",
        "\n",
        "Total Runs (runs_in_over)\n",
        "\n",
        "**Preprocessing:**\n",
        "\n",
        "* Encode categorical variables\n",
        "* Aggregate data to get runs scored in each over\n",
        "* Split data into training and testing sets"
      ]
    },
    {
      "cell_type": "code",
      "execution_count": null,
      "metadata": {
        "colab": {
          "base_uri": "https://localhost:8080/"
        },
        "id": "yQhUvGplyhbe",
        "outputId": "c2ee8fb8-7089-4e77-a1d1-6487ee420093"
      },
      "outputs": [
        {
          "name": "stdout",
          "output_type": "stream",
          "text": [
            "(31577, 5) (7895, 5)\n",
            "(31577,) (7895,)\n"
          ]
        }
      ],
      "source": [
        "# Aggregate to get total runs scored in each over\n",
        "df_runs_per_over = ipl_delivery.groupby(['match_id', 'inning', 'batting_team', 'bowling_team', 'over']).agg({'runs_in_over': 'sum'}).reset_index()\n",
        "\n",
        "# Select features and target\n",
        "features = ['match_id', 'inning', 'batting_team', 'bowling_team', 'over']\n",
        "target = 'runs_in_over'\n",
        "\n",
        "# Encode categorical variables\n",
        "df_runs_per_over_encoded = df_runs_per_over.copy()\n",
        "for col in features:\n",
        "    if df_runs_per_over_encoded[col].dtype == 'object':\n",
        "        df_runs_per_over_encoded[col] = le.fit_transform(df_runs_per_over_encoded[col])\n",
        "\n",
        "# Split data into training and testing sets\n",
        "X = df_runs_per_over_encoded[features]\n",
        "y = df_runs_per_over_encoded[target]\n",
        "\n",
        "X_trainD, X_testD, y_trainD, y_testD = train_test_split(X, y, test_size=0.2, random_state=42)\n",
        "\n",
        "# Verify the splits\n",
        "print(X_trainD.shape, X_testD.shape)\n",
        "print(y_trainD.shape, y_testD.shape)\n"
      ]
    },
    {
      "cell_type": "markdown",
      "metadata": {
        "id": "y0cC2vZbIseF"
      },
      "source": [
        "Now, let's build and evaluate a simple regression model using Random Forest."
      ]
    },
    {
      "cell_type": "code",
      "execution_count": null,
      "metadata": {
        "colab": {
          "base_uri": "https://localhost:8080/"
        },
        "id": "U1XyC0YMywrl",
        "outputId": "293e8f5f-fa2d-4ed9-cce2-64d42285e8ca"
      },
      "outputs": [
        {
          "name": "stdout",
          "output_type": "stream",
          "text": [
            "Mean Absolute Error: 33.63\n",
            "Mean Squared Error: 1911.65\n",
            "Root Mean Squared Error: 43.72\n"
          ]
        }
      ],
      "source": [
        "# Initialize and train the model\n",
        "rf_regressor = RandomForestRegressor(n_estimators=100, random_state=42)\n",
        "rf_regressor.fit(X_trainD, y_trainD)\n",
        "\n",
        "# Make predictions\n",
        "y_predD = rf_regressor.predict(X_testD)\n",
        "\n",
        "# Evaluate the model\n",
        "mae = mean_absolute_error(y_testD, y_predD)\n",
        "mse = mean_squared_error(y_testD, y_predD)\n",
        "rmse = mse ** 0.5\n",
        "\n",
        "print(f\"Mean Absolute Error: {mae:.2f}\")\n",
        "print(f\"Mean Squared Error: {mse:.2f}\")\n",
        "print(f\"Root Mean Squared Error: {rmse:.2f}\")\n"
      ]
    },
    {
      "cell_type": "markdown",
      "metadata": {
        "id": "dvMCY2pG1J8e"
      },
      "source": [
        "**Reasoning:**\n",
        "\n",
        "**1.Random Forest for Classification:** Random Forest is a robust model for classification tasks and works well with categorical features.\n",
        "\n",
        "**2.Random Forest for Regression:** Similarly, Random Forest is effective for regression tasks and handles non-linear relationships well.\n",
        "\n",
        "These models should give you a good starting point. You can further tune the hyperparameters, try other algorithms, and perform cross-validation to improve performance."
      ]
    },
    {
      "cell_type": "markdown",
      "metadata": {
        "id": "1XjXos7l1sVJ"
      },
      "source": [
        "#**4 Model Evaluation and Hyperparameter Tuning**\n",
        "To improve the performance of our models, we need to evaluate them thoroughly and tune their hyperparameters. We'll start with the Random Forest model for predicting match winners and then move to the regression model for predicting runs scored in an over.\n",
        "\n",
        "6.1 Evaluating and Tuning the Classification Model (Match Winner Prediction)\n",
        "Current Performance:\n",
        "\n",
        "* Accuracy\n",
        "* Classification Report\n",
        "\n",
        "Next Steps:\n",
        "\n",
        "**Cross-Validation:** Use cross-validation to get a more robust estimate of the model's performance.\n",
        "\n",
        "**Hyperparameter Tuning:** Use GridSearchCV to find the best hyperparameters for the Random Forest model."
      ]
    },
    {
      "cell_type": "markdown",
      "metadata": {
        "id": "WTfDvkGk3Pzr"
      },
      "source": [
        "**Cross-Validation:**"
      ]
    },
    {
      "cell_type": "code",
      "execution_count": null,
      "metadata": {
        "colab": {
          "base_uri": "https://localhost:8080/"
        },
        "id": "sVNL6Tuk2saY",
        "outputId": "c3c956bb-d0be-4727-c76a-e106ace6768c"
      },
      "outputs": [
        {
          "name": "stderr",
          "output_type": "stream",
          "text": [
            "/usr/local/lib/python3.10/dist-packages/sklearn/model_selection/_split.py:700: UserWarning: The least populated class in y has only 1 members, which is less than n_splits=5.\n",
            "  warnings.warn(\n"
          ]
        },
        {
          "name": "stdout",
          "output_type": "stream",
          "text": [
            "Cross-Validation Accuracy Scores: [0.00367321 0.01203293 0.01216114 0.01190778 0.00342032]\n",
            "Mean Cross-Validation Accuracy: 0.01\n"
          ]
        }
      ],
      "source": [
        "# Perform 5-fold cross-validation\n",
        "cv_scores = cross_val_score(rf_model, X, y, cv=5)\n",
        "\n",
        "print(f\"Cross-Validation Accuracy Scores: {cv_scores}\")\n",
        "print(f\"Mean Cross-Validation Accuracy: {cv_scores.mean():.2f}\")\n"
      ]
    },
    {
      "cell_type": "code",
      "execution_count": null,
      "metadata": {
        "colab": {
          "base_uri": "https://localhost:8080/"
        },
        "id": "RIFccTJ9xmgE",
        "outputId": "41ea2adf-3167-4857-f778-d255d59675b5"
      },
      "outputs": [
        {
          "name": "stdout",
          "output_type": "stream",
          "text": [
            "Fitting 10 folds for each of 27 candidates, totalling 270 fits\n"
          ]
        },
        {
          "name": "stderr",
          "output_type": "stream",
          "text": [
            "/usr/local/lib/python3.10/dist-packages/sklearn/model_selection/_split.py:700: UserWarning: The least populated class in y has only 4 members, which is less than n_splits=10.\n",
            "  warnings.warn(\n"
          ]
        },
        {
          "name": "stdout",
          "output_type": "stream",
          "text": [
            "Best Parameters: {'max_depth': 8, 'max_features': 4, 'n_estimators': 1500}\n",
            "Best Score: 0.47\n"
          ]
        }
      ],
      "source": [
        "from sklearn.model_selection import GridSearchCV\n",
        "from sklearn.ensemble import RandomForestClassifier\n",
        "from sklearn.utils.class_weight import compute_class_weight\n",
        "import numpy as np\n",
        "\n",
        "# Compute class weights to handle class imbalance\n",
        "class_weights = compute_class_weight(class_weight='balanced', classes=np.unique(y_train), y=y_train)\n",
        "class_weights_dict = dict(zip(np.unique(y_train), class_weights))\n",
        "\n",
        "# Initialize the RandomForestClassifier with class weights\n",
        "rf = RandomForestClassifier(class_weight=class_weights_dict)\n",
        "\n",
        "# Define the refined grid of hyperparameters\n",
        "param_grid = {\n",
        "    'n_estimators': [500, 1000, 1500],\n",
        "    'max_features': [4, 5, 6],\n",
        "    'max_depth': [8, 10, 12]\n",
        "}\n",
        "\n",
        "# Set up the grid search\n",
        "grid_search = GridSearchCV(estimator=rf, param_grid=param_grid, cv=10, scoring='accuracy', n_jobs=-1, verbose=2)\n",
        "\n",
        "# Fit the grid search to the data\n",
        "grid_search.fit(X_train, y_train)\n",
        "\n",
        "# Get the best parameters and the best score\n",
        "best_params = grid_search.best_params_\n",
        "best_score = grid_search.best_score_\n",
        "\n",
        "print(f\"Best Parameters: {best_params}\")\n",
        "print(f\"Best Score: {best_score:.2f}\")\n"
      ]
    },
    {
      "cell_type": "code",
      "execution_count": null,
      "metadata": {
        "colab": {
          "background_save": true,
          "base_uri": "https://localhost:8080/"
        },
        "id": "OPQeTVCp1nu1",
        "outputId": "9bb9e35a-0fab-4f1b-b9b4-33c626856ce3"
      },
      "outputs": [
        {
          "name": "stdout",
          "output_type": "stream",
          "text": [
            "Fitting 10 folds for each of 486 candidates, totalling 4860 fits\n"
          ]
        },
        {
          "name": "stderr",
          "output_type": "stream",
          "text": [
            "/usr/local/lib/python3.10/dist-packages/sklearn/model_selection/_split.py:700: UserWarning: The least populated class in y has only 4 members, which is less than n_splits=10.\n",
            "  warnings.warn(\n"
          ]
        }
      ],
      "source": [
        "from sklearn.utils.class_weight import compute_class_weight\n",
        "from sklearn.ensemble import RandomForestClassifier\n",
        "from sklearn.model_selection import GridSearchCV\n",
        "from sklearn.metrics import classification_report, accuracy_score, precision_score, recall_score, f1_score\n",
        "import numpy as np\n",
        "\n",
        "# Compute class weights\n",
        "class_weights = compute_class_weight(class_weight='balanced', classes=np.unique(y_train), y=y_train)\n",
        "class_weights_dict = dict(zip(np.unique(y_train), class_weights))\n",
        "\n",
        "# Initialize the RandomForestClassifier with class weights\n",
        "rf = RandomForestClassifier(class_weight=class_weights_dict)\n",
        "\n",
        "# Define the grid of hyperparameters including additional parameters\n",
        "param_grid = {\n",
        "    'n_estimators': [500, 1000, 1500],\n",
        "    'max_features': [4, 5, 6],\n",
        "    'max_depth': [8, 10, 12],\n",
        "    'min_samples_split': [2, 5, 10],\n",
        "    'min_samples_leaf': [1, 2, 4],\n",
        "    'bootstrap': [True, False]\n",
        "}\n",
        "\n",
        "# Set up the grid search\n",
        "grid_search = GridSearchCV(estimator=rf, param_grid=param_grid, cv=10, scoring='accuracy', n_jobs=-1, verbose=2)\n",
        "\n",
        "# Fit the grid search to the data\n",
        "grid_search.fit(X_train, y_train)\n",
        "\n",
        "# Get the best parameters and the best score\n",
        "best_params = grid_search.best_params_\n",
        "best_score = grid_search.best_score_\n",
        "\n",
        "print(f\"Best Parameters: {best_params}\")\n",
        "print(f\"Best Score: {best_score:.2f}\")\n",
        "\n",
        "# Predict on the test set\n",
        "y_pred = grid_search.predict(X_test)\n",
        "\n",
        "# Evaluate the model\n",
        "accuracy = accuracy_score(y_test, y_pred)\n",
        "precision = precision_score(y_test, y_pred, average='weighted')\n",
        "recall = recall_score(y_test, y_pred, average='weighted')\n",
        "f1 = f1_score(y_test, y_pred, average='weighted')\n",
        "report = classification_report(y_test, y_pred)\n",
        "\n",
        "print(f\"Accuracy: {accuracy:.2f}\")\n",
        "print(f\"Precision: {precision:.2f}\")\n",
        "print(f\"Recall: {recall:.2f}\")\n",
        "print(f\"F1 Score: {f1:.2f}\")\n",
        "print(\"Classification Report:\\n\", report)\n"
      ]
    },
    {
      "cell_type": "markdown",
      "metadata": {
        "id": "LcmKo8y12-iA"
      },
      "source": [
        "**Hyperparameter Tuning**"
      ]
    },
    {
      "cell_type": "code",
      "execution_count": null,
      "metadata": {
        "colab": {
          "base_uri": "https://localhost:8080/"
        },
        "id": "HczB6IixbaBL",
        "outputId": "07447ad5-f7bb-4735-f38f-f7f42cc791ce"
      },
      "outputs": [
        {
          "name": "stdout",
          "output_type": "stream",
          "text": [
            "Fitting 10 folds for each of 40 candidates, totalling 400 fits\n"
          ]
        },
        {
          "name": "stderr",
          "output_type": "stream",
          "text": [
            "/usr/local/lib/python3.10/dist-packages/sklearn/model_selection/_split.py:700: UserWarning: The least populated class in y has only 4 members, which is less than n_splits=10.\n",
            "  warnings.warn(\n"
          ]
        },
        {
          "name": "stdout",
          "output_type": "stream",
          "text": [
            "[CV] END max_depth=None, max_features=sqrt, n_estimators=500; total time=   1.4s\n",
            "[CV] END max_depth=None, max_features=sqrt, n_estimators=500; total time=   1.3s\n",
            "[CV] END max_depth=None, max_features=sqrt, n_estimators=500; total time=   1.3s\n",
            "[CV] END max_depth=None, max_features=sqrt, n_estimators=500; total time=   1.3s\n",
            "[CV] END max_depth=None, max_features=sqrt, n_estimators=500; total time=   1.3s\n",
            "[CV] END max_depth=None, max_features=sqrt, n_estimators=500; total time=   1.3s\n",
            "[CV] END max_depth=None, max_features=sqrt, n_estimators=500; total time=   1.3s\n",
            "[CV] END max_depth=None, max_features=sqrt, n_estimators=500; total time=   2.0s\n",
            "[CV] END max_depth=None, max_features=sqrt, n_estimators=500; total time=   2.1s\n",
            "[CV] END max_depth=None, max_features=sqrt, n_estimators=500; total time=   1.5s\n",
            "[CV] END max_depth=None, max_features=sqrt, n_estimators=1000; total time=   2.6s\n",
            "[CV] END max_depth=None, max_features=sqrt, n_estimators=1000; total time=   2.6s\n",
            "[CV] END max_depth=None, max_features=sqrt, n_estimators=1000; total time=   2.6s\n",
            "[CV] END max_depth=None, max_features=sqrt, n_estimators=1000; total time=   3.4s\n",
            "[CV] END max_depth=None, max_features=sqrt, n_estimators=1000; total time=   3.4s\n",
            "[CV] END max_depth=None, max_features=sqrt, n_estimators=1000; total time=   2.6s\n",
            "[CV] END max_depth=None, max_features=sqrt, n_estimators=1000; total time=   2.5s\n",
            "[CV] END max_depth=None, max_features=sqrt, n_estimators=1000; total time=   2.5s\n",
            "[CV] END max_depth=None, max_features=sqrt, n_estimators=1000; total time=   3.4s\n",
            "[CV] END max_depth=None, max_features=sqrt, n_estimators=1000; total time=   3.5s\n",
            "[CV] END max_depth=None, max_features=log2, n_estimators=500; total time=   1.4s\n",
            "[CV] END max_depth=None, max_features=log2, n_estimators=500; total time=   1.4s\n",
            "[CV] END max_depth=None, max_features=log2, n_estimators=500; total time=   1.4s\n",
            "[CV] END max_depth=None, max_features=log2, n_estimators=500; total time=   1.4s\n",
            "[CV] END max_depth=None, max_features=log2, n_estimators=500; total time=   1.4s\n",
            "[CV] END max_depth=None, max_features=log2, n_estimators=500; total time=   1.4s\n",
            "[CV] END max_depth=None, max_features=log2, n_estimators=500; total time=   2.0s\n",
            "[CV] END max_depth=None, max_features=log2, n_estimators=500; total time=   2.3s\n",
            "[CV] END max_depth=None, max_features=log2, n_estimators=500; total time=   1.7s\n",
            "[CV] END max_depth=None, max_features=log2, n_estimators=500; total time=   1.5s\n",
            "[CV] END max_depth=None, max_features=log2, n_estimators=1000; total time=   2.9s\n",
            "[CV] END max_depth=None, max_features=log2, n_estimators=1000; total time=   2.8s\n",
            "[CV] END max_depth=None, max_features=log2, n_estimators=1000; total time=   3.5s\n",
            "[CV] END max_depth=None, max_features=log2, n_estimators=1000; total time=   3.6s\n",
            "[CV] END max_depth=None, max_features=log2, n_estimators=1000; total time=   2.8s\n",
            "[CV] END max_depth=None, max_features=log2, n_estimators=1000; total time=   2.9s\n",
            "[CV] END max_depth=None, max_features=log2, n_estimators=1000; total time=   2.8s\n",
            "[CV] END max_depth=None, max_features=log2, n_estimators=1000; total time=   4.5s\n",
            "[CV] END max_depth=None, max_features=log2, n_estimators=1000; total time=   3.0s\n",
            "[CV] END max_depth=None, max_features=log2, n_estimators=1000; total time=   2.9s\n",
            "[CV] END ...max_depth=None, max_features=5, n_estimators=500; total time=   1.6s\n",
            "[CV] END ...max_depth=None, max_features=5, n_estimators=500; total time=   1.6s\n",
            "[CV] END ...max_depth=None, max_features=5, n_estimators=500; total time=   2.0s\n",
            "[CV] END ...max_depth=None, max_features=5, n_estimators=500; total time=   2.5s\n",
            "[CV] END ...max_depth=None, max_features=5, n_estimators=500; total time=   1.9s\n",
            "[CV] END ...max_depth=None, max_features=5, n_estimators=500; total time=   1.7s\n",
            "[CV] END ...max_depth=None, max_features=5, n_estimators=500; total time=   1.7s\n",
            "[CV] END ...max_depth=None, max_features=5, n_estimators=500; total time=   1.6s\n",
            "[CV] END ...max_depth=None, max_features=5, n_estimators=500; total time=   1.6s\n",
            "[CV] END ...max_depth=None, max_features=5, n_estimators=500; total time=   1.6s\n",
            "[CV] END ..max_depth=None, max_features=5, n_estimators=1000; total time=   4.7s\n",
            "[CV] END ..max_depth=None, max_features=5, n_estimators=1000; total time=   3.7s\n",
            "[CV] END ..max_depth=None, max_features=5, n_estimators=1000; total time=   3.3s\n",
            "[CV] END ..max_depth=None, max_features=5, n_estimators=1000; total time=   3.3s\n",
            "[CV] END ..max_depth=None, max_features=5, n_estimators=1000; total time=   4.6s\n",
            "[CV] END ..max_depth=None, max_features=5, n_estimators=1000; total time=   3.3s\n",
            "[CV] END ..max_depth=None, max_features=5, n_estimators=1000; total time=   3.2s\n",
            "[CV] END ..max_depth=None, max_features=5, n_estimators=1000; total time=   3.2s\n",
            "[CV] END ..max_depth=None, max_features=5, n_estimators=1000; total time=   4.7s\n",
            "[CV] END ..max_depth=None, max_features=5, n_estimators=1000; total time=   3.3s\n",
            "[CV] END ..max_depth=None, max_features=10, n_estimators=500; total time=   2.0s\n",
            "[CV] END ..max_depth=None, max_features=10, n_estimators=500; total time=   2.0s\n",
            "[CV] END ..max_depth=None, max_features=10, n_estimators=500; total time=   2.0s\n",
            "[CV] END ..max_depth=None, max_features=10, n_estimators=500; total time=   2.5s\n",
            "[CV] END ..max_depth=None, max_features=10, n_estimators=500; total time=   2.9s\n",
            "[CV] END ..max_depth=None, max_features=10, n_estimators=500; total time=   1.9s\n",
            "[CV] END ..max_depth=None, max_features=10, n_estimators=500; total time=   1.9s\n",
            "[CV] END ..max_depth=None, max_features=10, n_estimators=500; total time=   1.9s\n",
            "[CV] END ..max_depth=None, max_features=10, n_estimators=500; total time=   2.0s\n",
            "[CV] END ..max_depth=None, max_features=10, n_estimators=500; total time=   1.9s\n",
            "[CV] END .max_depth=None, max_features=10, n_estimators=1000; total time=   6.4s\n",
            "[CV] END .max_depth=None, max_features=10, n_estimators=1000; total time=   4.8s\n",
            "[CV] END .max_depth=None, max_features=10, n_estimators=1000; total time=   3.8s\n",
            "[CV] END .max_depth=None, max_features=10, n_estimators=1000; total time=   4.6s\n",
            "[CV] END .max_depth=None, max_features=10, n_estimators=1000; total time=   4.5s\n",
            "[CV] END .max_depth=None, max_features=10, n_estimators=1000; total time=   3.8s\n",
            "[CV] END .max_depth=None, max_features=10, n_estimators=1000; total time=   3.7s\n",
            "[CV] END .max_depth=None, max_features=10, n_estimators=1000; total time=   5.3s\n",
            "[CV] END .max_depth=None, max_features=10, n_estimators=1000; total time=   3.8s\n",
            "[CV] END .max_depth=None, max_features=10, n_estimators=1000; total time=   3.8s\n",
            "[CV] END ..max_depth=10, max_features=sqrt, n_estimators=500; total time=   1.1s\n",
            "[CV] END ..max_depth=10, max_features=sqrt, n_estimators=500; total time=   1.4s\n",
            "[CV] END ..max_depth=10, max_features=sqrt, n_estimators=500; total time=   1.8s\n",
            "[CV] END ..max_depth=10, max_features=sqrt, n_estimators=500; total time=   1.8s\n",
            "[CV] END ..max_depth=10, max_features=sqrt, n_estimators=500; total time=   1.2s\n",
            "[CV] END ..max_depth=10, max_features=sqrt, n_estimators=500; total time=   1.1s\n",
            "[CV] END ..max_depth=10, max_features=sqrt, n_estimators=500; total time=   1.1s\n",
            "[CV] END ..max_depth=10, max_features=sqrt, n_estimators=500; total time=   1.1s\n",
            "[CV] END ..max_depth=10, max_features=sqrt, n_estimators=500; total time=   1.2s\n",
            "[CV] END ..max_depth=10, max_features=sqrt, n_estimators=500; total time=   1.1s\n",
            "[CV] END .max_depth=10, max_features=sqrt, n_estimators=1000; total time=   2.2s\n",
            "[CV] END .max_depth=10, max_features=sqrt, n_estimators=1000; total time=   2.7s\n",
            "[CV] END .max_depth=10, max_features=sqrt, n_estimators=1000; total time=   3.4s\n",
            "[CV] END .max_depth=10, max_features=sqrt, n_estimators=1000; total time=   2.2s\n",
            "[CV] END .max_depth=10, max_features=sqrt, n_estimators=1000; total time=   2.2s\n",
            "[CV] END .max_depth=10, max_features=sqrt, n_estimators=1000; total time=   2.2s\n",
            "[CV] END .max_depth=10, max_features=sqrt, n_estimators=1000; total time=   2.2s\n",
            "[CV] END .max_depth=10, max_features=sqrt, n_estimators=1000; total time=   3.0s\n",
            "[CV] END .max_depth=10, max_features=sqrt, n_estimators=1000; total time=   3.2s\n",
            "[CV] END .max_depth=10, max_features=sqrt, n_estimators=1000; total time=   2.2s\n",
            "[CV] END ..max_depth=10, max_features=log2, n_estimators=500; total time=   1.2s\n",
            "[CV] END ..max_depth=10, max_features=log2, n_estimators=500; total time=   1.2s\n",
            "[CV] END ..max_depth=10, max_features=log2, n_estimators=500; total time=   1.2s\n",
            "[CV] END ..max_depth=10, max_features=log2, n_estimators=500; total time=   1.2s\n",
            "[CV] END ..max_depth=10, max_features=log2, n_estimators=500; total time=   1.2s\n",
            "[CV] END ..max_depth=10, max_features=log2, n_estimators=500; total time=   1.2s\n",
            "[CV] END ..max_depth=10, max_features=log2, n_estimators=500; total time=   1.9s\n",
            "[CV] END ..max_depth=10, max_features=log2, n_estimators=500; total time=   2.0s\n",
            "[CV] END ..max_depth=10, max_features=log2, n_estimators=500; total time=   1.3s\n",
            "[CV] END ..max_depth=10, max_features=log2, n_estimators=500; total time=   1.2s\n",
            "[CV] END .max_depth=10, max_features=log2, n_estimators=1000; total time=   2.4s\n",
            "[CV] END .max_depth=10, max_features=log2, n_estimators=1000; total time=   2.4s\n",
            "[CV] END .max_depth=10, max_features=log2, n_estimators=1000; total time=   2.4s\n",
            "[CV] END .max_depth=10, max_features=log2, n_estimators=1000; total time=   4.5s\n",
            "[CV] END .max_depth=10, max_features=log2, n_estimators=1000; total time=   5.8s\n",
            "[CV] END .max_depth=10, max_features=log2, n_estimators=1000; total time=   4.8s\n",
            "[CV] END .max_depth=10, max_features=log2, n_estimators=1000; total time=   8.6s\n",
            "[CV] END .max_depth=10, max_features=log2, n_estimators=1000; total time=   5.4s\n",
            "[CV] END .max_depth=10, max_features=log2, n_estimators=1000; total time=   2.8s\n",
            "[CV] END .max_depth=10, max_features=log2, n_estimators=1000; total time=   3.9s\n",
            "[CV] END .....max_depth=10, max_features=5, n_estimators=500; total time=   1.4s\n",
            "[CV] END .....max_depth=10, max_features=5, n_estimators=500; total time=   1.4s\n",
            "[CV] END .....max_depth=10, max_features=5, n_estimators=500; total time=   1.4s\n",
            "[CV] END .....max_depth=10, max_features=5, n_estimators=500; total time=   1.4s\n",
            "[CV] END .....max_depth=10, max_features=5, n_estimators=500; total time=   1.4s\n",
            "[CV] END .....max_depth=10, max_features=5, n_estimators=500; total time=   1.4s\n",
            "[CV] END .....max_depth=10, max_features=5, n_estimators=500; total time=   1.4s\n",
            "[CV] END .....max_depth=10, max_features=5, n_estimators=500; total time=   2.3s\n",
            "[CV] END .....max_depth=10, max_features=5, n_estimators=500; total time=   2.3s\n",
            "[CV] END .....max_depth=10, max_features=5, n_estimators=500; total time=   1.5s\n",
            "[CV] END ....max_depth=10, max_features=5, n_estimators=1000; total time=   2.8s\n",
            "[CV] END ....max_depth=10, max_features=5, n_estimators=1000; total time=   2.8s\n",
            "[CV] END ....max_depth=10, max_features=5, n_estimators=1000; total time=   2.8s\n",
            "[CV] END ....max_depth=10, max_features=5, n_estimators=1000; total time=   4.3s\n",
            "[CV] END ....max_depth=10, max_features=5, n_estimators=1000; total time=   3.1s\n",
            "[CV] END ....max_depth=10, max_features=5, n_estimators=1000; total time=   2.9s\n",
            "[CV] END ....max_depth=10, max_features=5, n_estimators=1000; total time=   2.7s\n",
            "[CV] END ....max_depth=10, max_features=5, n_estimators=1000; total time=   3.2s\n",
            "[CV] END ....max_depth=10, max_features=5, n_estimators=1000; total time=   3.9s\n",
            "[CV] END ....max_depth=10, max_features=5, n_estimators=1000; total time=   2.7s\n",
            "[CV] END ....max_depth=10, max_features=10, n_estimators=500; total time=   1.6s\n",
            "[CV] END ....max_depth=10, max_features=10, n_estimators=500; total time=   1.7s\n",
            "[CV] END ....max_depth=10, max_features=10, n_estimators=500; total time=   1.7s\n",
            "[CV] END ....max_depth=10, max_features=10, n_estimators=500; total time=   1.8s\n",
            "[CV] END ....max_depth=10, max_features=10, n_estimators=500; total time=   2.6s\n",
            "[CV] END ....max_depth=10, max_features=10, n_estimators=500; total time=   2.2s\n",
            "[CV] END ....max_depth=10, max_features=10, n_estimators=500; total time=   1.6s\n",
            "[CV] END ....max_depth=10, max_features=10, n_estimators=500; total time=   1.6s\n",
            "[CV] END ....max_depth=10, max_features=10, n_estimators=500; total time=   1.6s\n",
            "[CV] END ....max_depth=10, max_features=10, n_estimators=500; total time=   1.7s\n",
            "[CV] END ...max_depth=10, max_features=10, n_estimators=1000; total time=   3.7s\n",
            "[CV] END ...max_depth=10, max_features=10, n_estimators=1000; total time=   4.5s\n",
            "[CV] END ...max_depth=10, max_features=10, n_estimators=1000; total time=   3.4s\n",
            "[CV] END ...max_depth=10, max_features=10, n_estimators=1000; total time=   4.1s\n",
            "[CV] END ...max_depth=10, max_features=10, n_estimators=1000; total time=   5.6s\n",
            "[CV] END ...max_depth=10, max_features=10, n_estimators=1000; total time=   4.4s\n",
            "[CV] END ...max_depth=10, max_features=10, n_estimators=1000; total time=   3.3s\n",
            "[CV] END ...max_depth=10, max_features=10, n_estimators=1000; total time=   3.3s\n",
            "[CV] END ...max_depth=10, max_features=10, n_estimators=1000; total time=   4.7s\n",
            "[CV] END ...max_depth=10, max_features=10, n_estimators=1000; total time=   3.5s\n",
            "[CV] END ..max_depth=20, max_features=sqrt, n_estimators=500; total time=   1.2s\n",
            "[CV] END ..max_depth=20, max_features=sqrt, n_estimators=500; total time=   1.2s\n",
            "[CV] END ..max_depth=20, max_features=sqrt, n_estimators=500; total time=   1.2s\n",
            "[CV] END ..max_depth=20, max_features=sqrt, n_estimators=500; total time=   1.2s\n",
            "[CV] END ..max_depth=20, max_features=sqrt, n_estimators=500; total time=   1.3s\n",
            "[CV] END ..max_depth=20, max_features=sqrt, n_estimators=500; total time=   1.5s\n",
            "[CV] END ..max_depth=20, max_features=sqrt, n_estimators=500; total time=   2.0s\n",
            "[CV] END ..max_depth=20, max_features=sqrt, n_estimators=500; total time=   2.0s\n",
            "[CV] END ..max_depth=20, max_features=sqrt, n_estimators=500; total time=   1.2s\n",
            "[CV] END ..max_depth=20, max_features=sqrt, n_estimators=500; total time=   1.2s\n",
            "[CV] END .max_depth=20, max_features=sqrt, n_estimators=1000; total time=   2.5s\n",
            "[CV] END .max_depth=20, max_features=sqrt, n_estimators=1000; total time=   2.5s\n",
            "[CV] END .max_depth=20, max_features=sqrt, n_estimators=1000; total time=   2.5s\n",
            "[CV] END .max_depth=20, max_features=sqrt, n_estimators=1000; total time=   4.0s\n",
            "[CV] END .max_depth=20, max_features=sqrt, n_estimators=1000; total time=   2.6s\n",
            "[CV] END .max_depth=20, max_features=sqrt, n_estimators=1000; total time=   2.5s\n",
            "[CV] END .max_depth=20, max_features=sqrt, n_estimators=1000; total time=   2.5s\n",
            "[CV] END .max_depth=20, max_features=sqrt, n_estimators=1000; total time=   2.5s\n",
            "[CV] END .max_depth=20, max_features=sqrt, n_estimators=1000; total time=   3.9s\n",
            "[CV] END .max_depth=20, max_features=sqrt, n_estimators=1000; total time=   2.7s\n",
            "[CV] END ..max_depth=20, max_features=log2, n_estimators=500; total time=   1.3s\n",
            "[CV] END ..max_depth=20, max_features=log2, n_estimators=500; total time=   1.3s\n",
            "[CV] END ..max_depth=20, max_features=log2, n_estimators=500; total time=   1.3s\n",
            "[CV] END ..max_depth=20, max_features=log2, n_estimators=500; total time=   1.3s\n",
            "[CV] END ..max_depth=20, max_features=log2, n_estimators=500; total time=   1.3s\n",
            "[CV] END ..max_depth=20, max_features=log2, n_estimators=500; total time=   1.4s\n",
            "[CV] END ..max_depth=20, max_features=log2, n_estimators=500; total time=   2.4s\n",
            "[CV] END ..max_depth=20, max_features=log2, n_estimators=500; total time=   2.0s\n",
            "[CV] END ..max_depth=20, max_features=log2, n_estimators=500; total time=   1.3s\n",
            "[CV] END ..max_depth=20, max_features=log2, n_estimators=500; total time=   1.4s\n",
            "[CV] END .max_depth=20, max_features=log2, n_estimators=1000; total time=   2.7s\n",
            "[CV] END .max_depth=20, max_features=log2, n_estimators=1000; total time=   2.7s\n",
            "[CV] END .max_depth=20, max_features=log2, n_estimators=1000; total time=   3.3s\n",
            "[CV] END .max_depth=20, max_features=log2, n_estimators=1000; total time=   3.7s\n",
            "[CV] END .max_depth=20, max_features=log2, n_estimators=1000; total time=   2.7s\n",
            "[CV] END .max_depth=20, max_features=log2, n_estimators=1000; total time=   2.7s\n",
            "[CV] END .max_depth=20, max_features=log2, n_estimators=1000; total time=   2.7s\n",
            "[CV] END .max_depth=20, max_features=log2, n_estimators=1000; total time=   3.8s\n",
            "[CV] END .max_depth=20, max_features=log2, n_estimators=1000; total time=   3.2s\n",
            "[CV] END .max_depth=20, max_features=log2, n_estimators=1000; total time=   2.8s\n",
            "[CV] END .....max_depth=20, max_features=5, n_estimators=500; total time=   1.6s\n",
            "[CV] END .....max_depth=20, max_features=5, n_estimators=500; total time=   2.0s\n",
            "[CV] END .....max_depth=20, max_features=5, n_estimators=500; total time=   1.6s\n",
            "[CV] END .....max_depth=20, max_features=5, n_estimators=500; total time=   2.3s\n",
            "[CV] END .....max_depth=20, max_features=5, n_estimators=500; total time=   2.4s\n",
            "[CV] END .....max_depth=20, max_features=5, n_estimators=500; total time=   1.5s\n",
            "[CV] END .....max_depth=20, max_features=5, n_estimators=500; total time=   1.6s\n",
            "[CV] END .....max_depth=20, max_features=5, n_estimators=500; total time=   1.5s\n",
            "[CV] END .....max_depth=20, max_features=5, n_estimators=500; total time=   1.5s\n",
            "[CV] END .....max_depth=20, max_features=5, n_estimators=500; total time=   1.5s\n",
            "[CV] END ....max_depth=20, max_features=5, n_estimators=1000; total time=   3.6s\n",
            "[CV] END ....max_depth=20, max_features=5, n_estimators=1000; total time=   4.3s\n",
            "[CV] END ....max_depth=20, max_features=5, n_estimators=1000; total time=   3.1s\n",
            "[CV] END ....max_depth=20, max_features=5, n_estimators=1000; total time=   3.0s\n",
            "[CV] END ....max_depth=20, max_features=5, n_estimators=1000; total time=   3.1s\n",
            "[CV] END ....max_depth=20, max_features=5, n_estimators=1000; total time=   4.7s\n",
            "[CV] END ....max_depth=20, max_features=5, n_estimators=1000; total time=   3.1s\n",
            "[CV] END ....max_depth=20, max_features=5, n_estimators=1000; total time=   3.1s\n",
            "[CV] END ....max_depth=20, max_features=5, n_estimators=1000; total time=   3.0s\n",
            "[CV] END ....max_depth=20, max_features=5, n_estimators=1000; total time=   4.3s\n",
            "[CV] END ....max_depth=20, max_features=10, n_estimators=500; total time=   2.1s\n",
            "[CV] END ....max_depth=20, max_features=10, n_estimators=500; total time=   1.9s\n",
            "[CV] END ....max_depth=20, max_features=10, n_estimators=500; total time=   2.1s\n",
            "[CV] END ....max_depth=20, max_features=10, n_estimators=500; total time=   1.9s\n",
            "[CV] END ....max_depth=20, max_features=10, n_estimators=500; total time=   1.8s\n",
            "[CV] END ....max_depth=20, max_features=10, n_estimators=500; total time=   2.4s\n",
            "[CV] END ....max_depth=20, max_features=10, n_estimators=500; total time=   2.8s\n",
            "[CV] END ....max_depth=20, max_features=10, n_estimators=500; total time=   1.9s\n",
            "[CV] END ....max_depth=20, max_features=10, n_estimators=500; total time=   1.8s\n",
            "[CV] END ....max_depth=20, max_features=10, n_estimators=500; total time=   1.8s\n",
            "[CV] END ...max_depth=20, max_features=10, n_estimators=1000; total time=   3.6s\n",
            "[CV] END ...max_depth=20, max_features=10, n_estimators=1000; total time=   5.1s\n",
            "[CV] END ...max_depth=20, max_features=10, n_estimators=1000; total time=   3.6s\n",
            "[CV] END ...max_depth=20, max_features=10, n_estimators=1000; total time=   3.7s\n",
            "[CV] END ...max_depth=20, max_features=10, n_estimators=1000; total time=   4.2s\n",
            "[CV] END ...max_depth=20, max_features=10, n_estimators=1000; total time=   4.6s\n",
            "[CV] END ...max_depth=20, max_features=10, n_estimators=1000; total time=   5.1s\n",
            "[CV] END ...max_depth=20, max_features=10, n_estimators=1000; total time=   4.4s\n",
            "[CV] END ...max_depth=20, max_features=10, n_estimators=1000; total time=   5.2s\n",
            "[CV] END ...max_depth=20, max_features=10, n_estimators=1000; total time=   3.7s\n",
            "[CV] END ..max_depth=30, max_features=sqrt, n_estimators=500; total time=   1.2s\n",
            "[CV] END ..max_depth=30, max_features=sqrt, n_estimators=500; total time=   1.3s\n",
            "[CV] END ..max_depth=30, max_features=sqrt, n_estimators=500; total time=   1.3s\n",
            "[CV] END ..max_depth=30, max_features=sqrt, n_estimators=500; total time=   1.9s\n",
            "[CV] END ..max_depth=30, max_features=sqrt, n_estimators=500; total time=   1.9s\n",
            "[CV] END ..max_depth=30, max_features=sqrt, n_estimators=500; total time=   1.6s\n",
            "[CV] END ..max_depth=30, max_features=sqrt, n_estimators=500; total time=   1.2s\n",
            "[CV] END ..max_depth=30, max_features=sqrt, n_estimators=500; total time=   1.2s\n",
            "[CV] END ..max_depth=30, max_features=sqrt, n_estimators=500; total time=   1.2s\n",
            "[CV] END ..max_depth=30, max_features=sqrt, n_estimators=500; total time=   1.2s\n",
            "[CV] END .max_depth=30, max_features=sqrt, n_estimators=1000; total time=   2.5s\n",
            "[CV] END .max_depth=30, max_features=sqrt, n_estimators=1000; total time=   2.8s\n",
            "[CV] END .max_depth=30, max_features=sqrt, n_estimators=1000; total time=   3.7s\n",
            "[CV] END .max_depth=30, max_features=sqrt, n_estimators=1000; total time=   2.5s\n",
            "[CV] END .max_depth=30, max_features=sqrt, n_estimators=1000; total time=   2.4s\n",
            "[CV] END .max_depth=30, max_features=sqrt, n_estimators=1000; total time=   2.5s\n",
            "[CV] END .max_depth=30, max_features=sqrt, n_estimators=1000; total time=   2.6s\n",
            "[CV] END .max_depth=30, max_features=sqrt, n_estimators=1000; total time=   3.9s\n",
            "[CV] END .max_depth=30, max_features=sqrt, n_estimators=1000; total time=   2.5s\n",
            "[CV] END .max_depth=30, max_features=sqrt, n_estimators=1000; total time=   2.4s\n",
            "[CV] END ..max_depth=30, max_features=log2, n_estimators=500; total time=   1.4s\n",
            "[CV] END ..max_depth=30, max_features=log2, n_estimators=500; total time=   1.3s\n",
            "[CV] END ..max_depth=30, max_features=log2, n_estimators=500; total time=   1.3s\n",
            "[CV] END ..max_depth=30, max_features=log2, n_estimators=500; total time=   1.4s\n",
            "[CV] END ..max_depth=30, max_features=log2, n_estimators=500; total time=   2.0s\n",
            "[CV] END ..max_depth=30, max_features=log2, n_estimators=500; total time=   2.1s\n",
            "[CV] END ..max_depth=30, max_features=log2, n_estimators=500; total time=   1.4s\n",
            "[CV] END ..max_depth=30, max_features=log2, n_estimators=500; total time=   1.3s\n",
            "[CV] END ..max_depth=30, max_features=log2, n_estimators=500; total time=   1.3s\n",
            "[CV] END ..max_depth=30, max_features=log2, n_estimators=500; total time=   1.3s\n",
            "[CV] END .max_depth=30, max_features=log2, n_estimators=1000; total time=   2.7s\n",
            "[CV] END .max_depth=30, max_features=log2, n_estimators=1000; total time=   3.0s\n",
            "[CV] END .max_depth=30, max_features=log2, n_estimators=1000; total time=   4.2s\n",
            "[CV] END .max_depth=30, max_features=log2, n_estimators=1000; total time=   2.7s\n",
            "[CV] END .max_depth=30, max_features=log2, n_estimators=1000; total time=   2.7s\n",
            "[CV] END .max_depth=30, max_features=log2, n_estimators=1000; total time=   2.8s\n",
            "[CV] END .max_depth=30, max_features=log2, n_estimators=1000; total time=   3.4s\n",
            "[CV] END .max_depth=30, max_features=log2, n_estimators=1000; total time=   3.7s\n",
            "[CV] END .max_depth=30, max_features=log2, n_estimators=1000; total time=   2.7s\n",
            "[CV] END .max_depth=30, max_features=log2, n_estimators=1000; total time=   2.7s\n",
            "[CV] END .....max_depth=30, max_features=5, n_estimators=500; total time=   1.5s\n",
            "[CV] END .....max_depth=30, max_features=5, n_estimators=500; total time=   1.5s\n",
            "[CV] END .....max_depth=30, max_features=5, n_estimators=500; total time=   2.2s\n",
            "[CV] END .....max_depth=30, max_features=5, n_estimators=500; total time=   2.4s\n",
            "[CV] END .....max_depth=30, max_features=5, n_estimators=500; total time=   1.7s\n",
            "[CV] END .....max_depth=30, max_features=5, n_estimators=500; total time=   1.6s\n",
            "[CV] END .....max_depth=30, max_features=5, n_estimators=500; total time=   1.6s\n",
            "[CV] END .....max_depth=30, max_features=5, n_estimators=500; total time=   1.5s\n",
            "[CV] END .....max_depth=30, max_features=5, n_estimators=500; total time=   1.6s\n",
            "[CV] END .....max_depth=30, max_features=5, n_estimators=500; total time=   1.7s\n",
            "[CV] END ....max_depth=30, max_features=5, n_estimators=1000; total time=   4.7s\n",
            "[CV] END ....max_depth=30, max_features=5, n_estimators=1000; total time=   3.4s\n",
            "[CV] END ....max_depth=30, max_features=5, n_estimators=1000; total time=   3.2s\n",
            "[CV] END ....max_depth=30, max_features=5, n_estimators=1000; total time=   3.2s\n",
            "[CV] END ....max_depth=30, max_features=5, n_estimators=1000; total time=   4.6s\n",
            "[CV] END ....max_depth=30, max_features=5, n_estimators=1000; total time=   3.5s\n",
            "[CV] END ....max_depth=30, max_features=5, n_estimators=1000; total time=   3.2s\n",
            "[CV] END ....max_depth=30, max_features=5, n_estimators=1000; total time=   3.2s\n",
            "[CV] END ....max_depth=30, max_features=5, n_estimators=1000; total time=   4.5s\n",
            "[CV] END ....max_depth=30, max_features=5, n_estimators=1000; total time=   3.4s\n",
            "[CV] END ....max_depth=30, max_features=10, n_estimators=500; total time=   1.9s\n",
            "[CV] END ....max_depth=30, max_features=10, n_estimators=500; total time=   1.9s\n",
            "[CV] END ....max_depth=30, max_features=10, n_estimators=500; total time=   1.9s\n",
            "[CV] END ....max_depth=30, max_features=10, n_estimators=500; total time=   2.1s\n",
            "[CV] END ....max_depth=30, max_features=10, n_estimators=500; total time=   3.0s\n",
            "[CV] END ....max_depth=30, max_features=10, n_estimators=500; total time=   2.3s\n",
            "[CV] END ....max_depth=30, max_features=10, n_estimators=500; total time=   1.9s\n",
            "[CV] END ....max_depth=30, max_features=10, n_estimators=500; total time=   1.9s\n",
            "[CV] END ....max_depth=30, max_features=10, n_estimators=500; total time=   1.9s\n",
            "[CV] END ....max_depth=30, max_features=10, n_estimators=500; total time=   2.0s\n",
            "[CV] END ...max_depth=30, max_features=10, n_estimators=1000; total time=   5.4s\n",
            "[CV] END ...max_depth=30, max_features=10, n_estimators=1000; total time=   3.8s\n",
            "[CV] END ...max_depth=30, max_features=10, n_estimators=1000; total time=   3.8s\n",
            "[CV] END ...max_depth=30, max_features=10, n_estimators=1000; total time=   4.4s\n",
            "[CV] END ...max_depth=30, max_features=10, n_estimators=1000; total time=   4.7s\n",
            "[CV] END ...max_depth=30, max_features=10, n_estimators=1000; total time=   3.8s\n",
            "[CV] END ...max_depth=30, max_features=10, n_estimators=1000; total time=   3.7s\n",
            "[CV] END ...max_depth=30, max_features=10, n_estimators=1000; total time=   5.5s\n",
            "[CV] END ...max_depth=30, max_features=10, n_estimators=1000; total time=   5.3s\n",
            "[CV] END ...max_depth=30, max_features=10, n_estimators=1000; total time=   3.9s\n",
            "[CV] END ..max_depth=50, max_features=sqrt, n_estimators=500; total time=   2.1s\n",
            "[CV] END ..max_depth=50, max_features=sqrt, n_estimators=500; total time=   2.1s\n",
            "[CV] END ..max_depth=50, max_features=sqrt, n_estimators=500; total time=   1.2s\n",
            "[CV] END ..max_depth=50, max_features=sqrt, n_estimators=500; total time=   1.2s\n",
            "[CV] END ..max_depth=50, max_features=sqrt, n_estimators=500; total time=   1.2s\n",
            "[CV] END ..max_depth=50, max_features=sqrt, n_estimators=500; total time=   1.3s\n",
            "[CV] END ..max_depth=50, max_features=sqrt, n_estimators=500; total time=   1.2s\n",
            "[CV] END ..max_depth=50, max_features=sqrt, n_estimators=500; total time=   1.3s\n",
            "[CV] END ..max_depth=50, max_features=sqrt, n_estimators=500; total time=   1.2s\n",
            "[CV] END ..max_depth=50, max_features=sqrt, n_estimators=500; total time=   1.3s\n",
            "[CV] END .max_depth=50, max_features=sqrt, n_estimators=1000; total time=   4.2s\n",
            "[CV] END .max_depth=50, max_features=sqrt, n_estimators=1000; total time=   2.8s\n",
            "[CV] END .max_depth=50, max_features=sqrt, n_estimators=1000; total time=   2.5s\n",
            "[CV] END .max_depth=50, max_features=sqrt, n_estimators=1000; total time=   2.5s\n",
            "[CV] END .max_depth=50, max_features=sqrt, n_estimators=1000; total time=   2.5s\n",
            "[CV] END .max_depth=50, max_features=sqrt, n_estimators=1000; total time=   3.8s\n",
            "[CV] END .max_depth=50, max_features=sqrt, n_estimators=1000; total time=   2.8s\n",
            "[CV] END .max_depth=50, max_features=sqrt, n_estimators=1000; total time=   2.5s\n",
            "[CV] END .max_depth=50, max_features=sqrt, n_estimators=1000; total time=   2.4s\n",
            "[CV] END .max_depth=50, max_features=sqrt, n_estimators=1000; total time=   2.5s\n",
            "[CV] END ..max_depth=50, max_features=log2, n_estimators=500; total time=   1.9s\n",
            "[CV] END ..max_depth=50, max_features=log2, n_estimators=500; total time=   2.3s\n",
            "[CV] END ..max_depth=50, max_features=log2, n_estimators=500; total time=   1.5s\n",
            "[CV] END ..max_depth=50, max_features=log2, n_estimators=500; total time=   1.5s\n",
            "[CV] END ..max_depth=50, max_features=log2, n_estimators=500; total time=   1.4s\n",
            "[CV] END ..max_depth=50, max_features=log2, n_estimators=500; total time=   1.3s\n",
            "[CV] END ..max_depth=50, max_features=log2, n_estimators=500; total time=   1.4s\n",
            "[CV] END ..max_depth=50, max_features=log2, n_estimators=500; total time=   1.3s\n",
            "[CV] END ..max_depth=50, max_features=log2, n_estimators=500; total time=   1.4s\n",
            "[CV] END ..max_depth=50, max_features=log2, n_estimators=500; total time=   1.8s\n",
            "[CV] END .max_depth=50, max_features=log2, n_estimators=1000; total time=   4.1s\n",
            "[CV] END .max_depth=50, max_features=log2, n_estimators=1000; total time=   2.7s\n",
            "[CV] END .max_depth=50, max_features=log2, n_estimators=1000; total time=   2.7s\n",
            "[CV] END .max_depth=50, max_features=log2, n_estimators=1000; total time=   2.7s\n",
            "[CV] END .max_depth=50, max_features=log2, n_estimators=1000; total time=   3.6s\n",
            "[CV] END .max_depth=50, max_features=log2, n_estimators=1000; total time=   3.7s\n",
            "[CV] END .max_depth=50, max_features=log2, n_estimators=1000; total time=   2.7s\n",
            "[CV] END .max_depth=50, max_features=log2, n_estimators=1000; total time=   2.7s\n",
            "[CV] END .max_depth=50, max_features=log2, n_estimators=1000; total time=   2.7s\n",
            "[CV] END .max_depth=50, max_features=log2, n_estimators=1000; total time=   3.8s\n",
            "[CV] END .....max_depth=50, max_features=5, n_estimators=500; total time=   2.1s\n",
            "[CV] END .....max_depth=50, max_features=5, n_estimators=500; total time=   1.5s\n",
            "[CV] END .....max_depth=50, max_features=5, n_estimators=500; total time=   1.5s\n",
            "[CV] END .....max_depth=50, max_features=5, n_estimators=500; total time=   1.5s\n",
            "[CV] END .....max_depth=50, max_features=5, n_estimators=500; total time=   1.6s\n",
            "[CV] END .....max_depth=50, max_features=5, n_estimators=500; total time=   1.5s\n",
            "[CV] END .....max_depth=50, max_features=5, n_estimators=500; total time=   1.6s\n",
            "[CV] END .....max_depth=50, max_features=5, n_estimators=500; total time=   2.3s\n",
            "[CV] END .....max_depth=50, max_features=5, n_estimators=500; total time=   2.4s\n",
            "[CV] END .....max_depth=50, max_features=5, n_estimators=500; total time=   1.6s\n",
            "[CV] END ....max_depth=50, max_features=5, n_estimators=1000; total time=   3.1s\n",
            "[CV] END ....max_depth=50, max_features=5, n_estimators=1000; total time=   3.1s\n",
            "[CV] END ....max_depth=50, max_features=5, n_estimators=1000; total time=   3.6s\n",
            "[CV] END ....max_depth=50, max_features=5, n_estimators=1000; total time=   4.2s\n",
            "[CV] END ....max_depth=50, max_features=5, n_estimators=1000; total time=   3.1s\n",
            "[CV] END ....max_depth=50, max_features=5, n_estimators=1000; total time=   3.1s\n",
            "[CV] END ....max_depth=50, max_features=5, n_estimators=1000; total time=   3.3s\n",
            "[CV] END ....max_depth=50, max_features=5, n_estimators=1000; total time=   4.5s\n",
            "[CV] END ....max_depth=50, max_features=5, n_estimators=1000; total time=   3.2s\n",
            "[CV] END ....max_depth=50, max_features=5, n_estimators=1000; total time=   3.2s\n",
            "[CV] END ....max_depth=50, max_features=10, n_estimators=500; total time=   1.9s\n",
            "[CV] END ....max_depth=50, max_features=10, n_estimators=500; total time=   2.3s\n",
            "[CV] END ....max_depth=50, max_features=10, n_estimators=500; total time=   3.0s\n",
            "[CV] END ....max_depth=50, max_features=10, n_estimators=500; total time=   2.0s\n",
            "[CV] END ....max_depth=50, max_features=10, n_estimators=500; total time=   1.9s\n",
            "[CV] END ....max_depth=50, max_features=10, n_estimators=500; total time=   1.9s\n",
            "[CV] END ....max_depth=50, max_features=10, n_estimators=500; total time=   1.9s\n",
            "[CV] END ....max_depth=50, max_features=10, n_estimators=500; total time=   1.9s\n",
            "[CV] END ....max_depth=50, max_features=10, n_estimators=500; total time=   2.5s\n",
            "[CV] END ....max_depth=50, max_features=10, n_estimators=500; total time=   2.8s\n",
            "[CV] END ...max_depth=50, max_features=10, n_estimators=1000; total time=   3.8s\n",
            "[CV] END ...max_depth=50, max_features=10, n_estimators=1000; total time=   3.6s\n",
            "[CV] END ...max_depth=50, max_features=10, n_estimators=1000; total time=   4.4s\n",
            "[CV] END ...max_depth=50, max_features=10, n_estimators=1000; total time=   4.7s\n",
            "[CV] END ...max_depth=50, max_features=10, n_estimators=1000; total time=   3.7s\n",
            "[CV] END ...max_depth=50, max_features=10, n_estimators=1000; total time=   3.6s\n",
            "[CV] END ...max_depth=50, max_features=10, n_estimators=1000; total time=   5.3s\n",
            "[CV] END ...max_depth=50, max_features=10, n_estimators=1000; total time=   4.0s\n",
            "[CV] END ...max_depth=50, max_features=10, n_estimators=1000; total time=   5.0s\n",
            "[CV] END ...max_depth=50, max_features=10, n_estimators=1000; total time=   5.3s\n",
            "Best Parameters: {'max_depth': 10, 'max_features': 5, 'n_estimators': 1000}\n",
            "Best Score: 0.51\n"
          ]
        }
      ],
      "source": [
        "# Initialize the RandomForestClassifier\n",
        "rf = RandomForestClassifier()\n",
        "\n",
        "# Define the grid of hyperparameters\n",
        "param_grid = {\n",
        "    'n_estimators': [500, 1000],\n",
        "    'max_features': ['sqrt', 'log2', 5, 10],\n",
        "    'max_depth': [None, 10, 20, 30, 50]\n",
        "}\n",
        "\n",
        "# Set up the grid search\n",
        "# Use n_jobs=1 to disable parallelism and prevent memory issues\n",
        "grid_search = GridSearchCV(estimator=rf, param_grid=param_grid, cv=10, scoring='accuracy', n_jobs=1, verbose=2)\n",
        "\n",
        "# Fit the grid search to the data (X_train and y_train are your training features and labels)\n",
        "grid_search.fit(X_train, y_train)\n",
        "\n",
        "# Get the best parameters and the best score\n",
        "best_params = grid_search.best_params_\n",
        "best_score = grid_search.best_score_\n",
        "\n",
        "print(f\"Best Parameters: {best_params}\")\n",
        "print(f\"Best Score: {best_score:.2f}\")"
      ]
    },
    {
      "cell_type": "code",
      "execution_count": null,
      "metadata": {
        "colab": {
          "base_uri": "https://localhost:8080/"
        },
        "id": "1SOc993N2y6R",
        "outputId": "a7cadbed-adad-41d3-bbb1-570c09b42776"
      },
      "outputs": [
        {
          "name": "stdout",
          "output_type": "stream",
          "text": [
            "Fitting 3 folds for each of 216 candidates, totalling 648 fits\n"
          ]
        },
        {
          "name": "stderr",
          "output_type": "stream",
          "text": [
            "/usr/local/lib/python3.10/dist-packages/sklearn/model_selection/_split.py:700: UserWarning: The least populated class in y has only 1 members, which is less than n_splits=3.\n",
            "  warnings.warn(\n",
            "/usr/local/lib/python3.10/dist-packages/joblib/externals/loky/process_executor.py:752: UserWarning: A worker stopped while some jobs were given to the executor. This can be caused by a too short worker timeout or by a memory leak.\n",
            "  warnings.warn(\n"
          ]
        },
        {
          "name": "stdout",
          "output_type": "stream",
          "text": [
            "Best Parameters: {'bootstrap': False, 'max_depth': 10, 'min_samples_leaf': 2, 'min_samples_split': 10, 'n_estimators': 100}\n",
            "Best Score: 0.06\n"
          ]
        }
      ],
      "source": [
        "# Define the parameter grid\n",
        "param_grid = {\n",
        "    'n_estimators': [100, 200, 300],\n",
        "    'max_depth': [None, 10, 20, 30],\n",
        "    'min_samples_split': [2, 5, 10],\n",
        "    'min_samples_leaf': [1, 2, 4],\n",
        "    'bootstrap': [True, False]\n",
        "}\n",
        "\n",
        "# Initialize the GridSearchCV object\n",
        "grid_search = GridSearchCV(estimator=rf_model, param_grid=param_grid, cv=3, n_jobs=-1, verbose=2)\n",
        "\n",
        "# Fit the grid search to the data\n",
        "grid_search.fit(X_train, y_train)\n",
        "\n",
        "# Print the best parameters and best score\n",
        "print(f\"Best Parameters: {grid_search.best_params_}\")\n",
        "print(f\"Best Score: {grid_search.best_score_:.2f}\")\n"
      ]
    },
    {
      "cell_type": "markdown",
      "metadata": {
        "id": "1xH9pSIk4Fm1"
      },
      "source": [
        "**Evaluating the Tuned Model**"
      ]
    },
    {
      "cell_type": "code",
      "execution_count": null,
      "metadata": {
        "colab": {
          "base_uri": "https://localhost:8080/"
        },
        "id": "Oj-phtR64GT1",
        "outputId": "c1ee0972-2dea-4a43-ef92-61ab0648eb64"
      },
      "outputs": [
        {
          "name": "stdout",
          "output_type": "stream",
          "text": [
            "Tuned Model Accuracy: 0.06\n",
            "Tuned Model Classification Report:\n",
            "               precision    recall  f1-score   support\n",
            "\n",
            "           0       0.00      0.00      0.00         5\n",
            "           1       0.00      0.00      0.00         2\n",
            "           2       0.00      0.00      0.00         1\n",
            "           3       0.00      0.00      0.00         1\n",
            "           4       0.00      0.00      0.00         1\n",
            "           5       0.00      0.00      0.00         1\n",
            "           6       0.00      0.00      0.00        14\n",
            "           7       0.00      0.00      0.00         4\n",
            "           8       0.00      0.00      0.00         3\n",
            "           9       0.00      0.00      0.00         2\n",
            "          10       0.00      0.00      0.00         4\n",
            "          11       0.00      0.00      0.00         0\n",
            "          12       0.00      0.00      0.00        31\n",
            "          14       0.00      0.00      0.00         3\n",
            "          15       0.00      0.00      0.00         2\n",
            "          16       0.00      0.00      0.00         1\n",
            "          18       0.00      0.00      0.00        55\n",
            "          19       0.00      0.00      0.00         1\n",
            "          20       0.00      0.00      0.00         3\n",
            "          21       0.00      0.00      0.00         9\n",
            "          22       0.00      0.00      0.00         1\n",
            "          24       0.00      0.00      0.00        78\n",
            "          25       0.00      0.00      0.00         1\n",
            "          26       0.00      0.00      0.00         1\n",
            "          27       0.00      0.00      0.00         1\n",
            "          28       0.00      0.00      0.00         8\n",
            "          30       0.00      0.00      0.00        87\n",
            "          32       0.00      0.00      0.00         4\n",
            "          33       0.00      0.00      0.00         1\n",
            "          35       0.00      0.00      0.00         9\n",
            "          36       0.06      0.01      0.02       189\n",
            "          38       0.00      0.00      0.00         1\n",
            "          39       0.00      0.00      0.00         4\n",
            "          40       0.00      0.00      0.00         2\n",
            "          42       0.04      0.01      0.02       233\n",
            "          44       0.00      0.00      0.00         4\n",
            "          45       0.00      0.00      0.00         4\n",
            "          48       0.04      0.01      0.02       254\n",
            "          49       0.00      0.00      0.00        20\n",
            "          51       0.00      0.00      0.00         1\n",
            "          52       0.00      0.00      0.00         1\n",
            "          54       0.05      0.06      0.06       259\n",
            "          55       0.00      0.00      0.00         1\n",
            "          56       0.00      0.00      0.00        42\n",
            "          57       0.00      0.00      0.00         2\n",
            "          60       0.06      0.08      0.07       338\n",
            "          63       0.00      0.00      0.00        33\n",
            "          64       0.00      0.00      0.00         4\n",
            "          65       0.00      0.00      0.00         2\n",
            "          66       0.07      0.09      0.08       339\n",
            "          68       0.00      0.00      0.00         3\n",
            "          70       0.00      0.00      0.00        45\n",
            "          72       0.07      0.10      0.08       371\n",
            "          76       0.00      0.00      0.00         2\n",
            "          77       0.00      0.00      0.00        56\n",
            "          78       0.07      0.10      0.08       406\n",
            "          80       0.00      0.00      0.00         7\n",
            "          84       0.07      0.41      0.11       471\n",
            "          85       0.00      0.00      0.00         1\n",
            "          88       0.00      0.00      0.00         7\n",
            "          90       0.10      0.11      0.11       388\n",
            "          91       0.00      0.00      0.00        68\n",
            "          93       0.00      0.00      0.00         1\n",
            "          95       0.00      0.00      0.00         1\n",
            "          96       0.05      0.09      0.07       329\n",
            "          98       0.00      0.00      0.00        67\n",
            "          99       0.00      0.00      0.00         2\n",
            "         100       0.00      0.00      0.00         1\n",
            "         102       0.05      0.05      0.05       332\n",
            "         104       0.00      0.00      0.00         7\n",
            "         105       0.00      0.00      0.00        65\n",
            "         108       0.07      0.05      0.06       324\n",
            "         110       0.00      0.00      0.00         1\n",
            "         112       0.00      0.00      0.00        86\n",
            "         114       0.08      0.04      0.06       314\n",
            "         115       0.00      0.00      0.00         1\n",
            "         116       0.00      0.00      0.00         1\n",
            "         117       0.00      0.00      0.00         2\n",
            "         119       0.00      0.00      0.00        70\n",
            "         120       0.02      0.01      0.01       250\n",
            "         124       0.00      0.00      0.00         2\n",
            "         126       0.06      0.09      0.08       301\n",
            "         128       0.00      0.00      0.00        10\n",
            "         130       0.00      0.00      0.00         2\n",
            "         132       0.04      0.01      0.02       201\n",
            "         133       0.00      0.00      0.00        54\n",
            "         135       0.00      0.00      0.00         1\n",
            "         136       0.00      0.00      0.00        10\n",
            "         138       0.00      0.00      0.00       177\n",
            "         140       0.00      0.00      0.00        59\n",
            "         144       0.00      0.00      0.00       158\n",
            "         145       0.00      0.00      0.00         1\n",
            "         147       0.00      0.00      0.00        62\n",
            "         150       0.10      0.02      0.03       129\n",
            "         152       0.00      0.00      0.00         8\n",
            "         153       0.00      0.00      0.00         2\n",
            "         154       0.00      0.00      0.00        56\n",
            "         156       0.20      0.01      0.02        97\n",
            "         160       0.00      0.00      0.00         6\n",
            "         161       0.00      0.00      0.00        35\n",
            "         162       0.25      0.01      0.03        75\n",
            "         168       0.08      0.01      0.02       137\n",
            "         170       0.00      0.00      0.00         1\n",
            "         171       0.00      0.00      0.00         1\n",
            "         174       0.00      0.00      0.00        54\n",
            "         175       0.00      0.00      0.00        24\n",
            "         176       0.00      0.00      0.00        14\n",
            "         180       0.00      0.00      0.00        52\n",
            "         182       0.00      0.00      0.00        26\n",
            "         184       0.00      0.00      0.00        10\n",
            "         185       0.00      0.00      0.00         0\n",
            "         186       0.00      0.00      0.00        40\n",
            "         189       0.00      0.00      0.00        27\n",
            "         192       0.00      0.00      0.00        41\n",
            "         196       0.00      0.00      0.00        22\n",
            "         198       0.00      0.00      0.00        26\n",
            "         200       0.00      0.00      0.00         4\n",
            "         203       0.00      0.00      0.00        19\n",
            "         204       0.00      0.00      0.00        14\n",
            "         208       0.00      0.00      0.00         1\n",
            "         210       0.00      0.00      0.00        25\n",
            "         216       0.00      0.00      0.00        16\n",
            "         217       0.00      0.00      0.00        10\n",
            "         222       0.00      0.00      0.00         4\n",
            "         224       0.00      0.00      0.00        17\n",
            "         228       0.00      0.00      0.00         8\n",
            "         231       0.00      0.00      0.00         6\n",
            "         232       0.00      0.00      0.00         3\n",
            "         234       0.00      0.00      0.00         9\n",
            "         238       0.00      0.00      0.00         8\n",
            "         240       0.00      0.00      0.00         7\n",
            "         243       0.00      0.00      0.00         2\n",
            "         245       0.00      0.00      0.00         9\n",
            "         246       0.00      0.00      0.00         1\n",
            "         248       0.00      0.00      0.00         1\n",
            "         252       0.00      0.00      0.00        16\n",
            "         256       0.00      0.00      0.00         1\n",
            "         259       0.00      0.00      0.00         6\n",
            "         264       0.00      0.00      0.00         2\n",
            "         266       0.00      0.00      0.00         3\n",
            "         272       0.00      0.00      0.00         1\n",
            "         273       0.00      0.00      0.00         5\n",
            "         276       0.00      0.00      0.00         1\n",
            "         280       0.00      0.00      0.00         3\n",
            "         287       0.00      0.00      0.00         2\n",
            "         288       0.00      0.00      0.00         5\n",
            "         294       0.00      0.00      0.00         3\n",
            "         296       0.00      0.00      0.00         2\n",
            "         297       0.00      0.00      0.00         1\n",
            "         304       0.00      0.00      0.00         2\n",
            "         308       0.00      0.00      0.00         1\n",
            "         312       0.00      0.00      0.00         3\n",
            "         315       0.00      0.00      0.00         1\n",
            "         320       0.00      0.00      0.00         1\n",
            "         322       0.00      0.00      0.00         1\n",
            "         329       0.00      0.00      0.00         1\n",
            "         333       0.00      0.00      0.00         1\n",
            "         336       0.00      0.00      0.00         1\n",
            "         459       0.00      0.00      0.00         1\n",
            "\n",
            "    accuracy                           0.06      7895\n",
            "   macro avg       0.01      0.01      0.01      7895\n",
            "weighted avg       0.05      0.06      0.04      7895\n",
            "\n"
          ]
        },
        {
          "name": "stderr",
          "output_type": "stream",
          "text": [
            "/usr/local/lib/python3.10/dist-packages/sklearn/metrics/_classification.py:1344: UndefinedMetricWarning: Precision and F-score are ill-defined and being set to 0.0 in labels with no predicted samples. Use `zero_division` parameter to control this behavior.\n",
            "  _warn_prf(average, modifier, msg_start, len(result))\n",
            "/usr/local/lib/python3.10/dist-packages/sklearn/metrics/_classification.py:1344: UndefinedMetricWarning: Recall and F-score are ill-defined and being set to 0.0 in labels with no true samples. Use `zero_division` parameter to control this behavior.\n",
            "  _warn_prf(average, modifier, msg_start, len(result))\n",
            "/usr/local/lib/python3.10/dist-packages/sklearn/metrics/_classification.py:1344: UndefinedMetricWarning: Precision and F-score are ill-defined and being set to 0.0 in labels with no predicted samples. Use `zero_division` parameter to control this behavior.\n",
            "  _warn_prf(average, modifier, msg_start, len(result))\n",
            "/usr/local/lib/python3.10/dist-packages/sklearn/metrics/_classification.py:1344: UndefinedMetricWarning: Recall and F-score are ill-defined and being set to 0.0 in labels with no true samples. Use `zero_division` parameter to control this behavior.\n",
            "  _warn_prf(average, modifier, msg_start, len(result))\n",
            "/usr/local/lib/python3.10/dist-packages/sklearn/metrics/_classification.py:1344: UndefinedMetricWarning: Precision and F-score are ill-defined and being set to 0.0 in labels with no predicted samples. Use `zero_division` parameter to control this behavior.\n",
            "  _warn_prf(average, modifier, msg_start, len(result))\n",
            "/usr/local/lib/python3.10/dist-packages/sklearn/metrics/_classification.py:1344: UndefinedMetricWarning: Recall and F-score are ill-defined and being set to 0.0 in labels with no true samples. Use `zero_division` parameter to control this behavior.\n",
            "  _warn_prf(average, modifier, msg_start, len(result))\n"
          ]
        }
      ],
      "source": [
        "# Use the best estimator from the grid search\n",
        "best_rf_model = grid_search.best_estimator_\n",
        "\n",
        "# Make predictions\n",
        "y_pred_tuned = best_rf_model.predict(X_test)\n",
        "\n",
        "# Evaluate the model\n",
        "accuracy_tuned = accuracy_score(y_test, y_pred_tuned)\n",
        "report_tuned = classification_report(y_test, y_pred_tuned)\n",
        "\n",
        "print(f\"Tuned Model Accuracy: {accuracy_tuned:.2f}\")\n",
        "print(\"Tuned Model Classification Report:\\n\", report_tuned)\n"
      ]
    },
    {
      "cell_type": "markdown",
      "metadata": {
        "id": "THzSNiLd4Y_l"
      },
      "source": [
        "**6.2 Evaluating and Tuning the Regression Model (Runs Prediction)\n",
        "Current Performance:**\n",
        "\n",
        "* Mean Absolute Error (MAE)\n",
        "* Mean Squared Error (MSE)\n",
        "* Root Mean Squared Error (RMSE)\n",
        "\n",
        "**Next Steps:**\n",
        "\n",
        "**Cross-Validation:** Use cross-validation to get a more robust estimate of the model's performance.\n",
        "\n",
        "**Hyperparameter Tuning:** Use GridSearchCV to find the best hyperparameters for the Random Forest regressor."
      ]
    },
    {
      "cell_type": "markdown",
      "metadata": {
        "id": "0mQz3XZI9gBj"
      },
      "source": [
        "**Cross-Validation:**"
      ]
    },
    {
      "cell_type": "code",
      "execution_count": null,
      "metadata": {
        "colab": {
          "base_uri": "https://localhost:8080/"
        },
        "id": "fB9Tazny9cqi",
        "outputId": "757a12f1-72e0-441b-dbf4-886a22cea2dd"
      },
      "outputs": [
        {
          "name": "stdout",
          "output_type": "stream",
          "text": [
            "Cross-Validation MAE Scores: [37.58654592 34.94910956 37.39657715 38.01015835 39.13053078]\n",
            "Mean Cross-Validation MAE: 37.41\n"
          ]
        }
      ],
      "source": [
        "# Perform 5-fold cross-validation\n",
        "cv_scores_reg = cross_val_score(rf_regressor, X, y, cv=5, scoring='neg_mean_absolute_error')\n",
        "\n",
        "print(f\"Cross-Validation MAE Scores: {-cv_scores_reg}\")\n",
        "print(f\"Mean Cross-Validation MAE: {-cv_scores_reg.mean():.2f}\")\n"
      ]
    },
    {
      "cell_type": "markdown",
      "metadata": {
        "id": "KWL0Ki_N96XN"
      },
      "source": [
        "**Hyperparameter Tuning:**"
      ]
    },
    {
      "cell_type": "code",
      "execution_count": null,
      "metadata": {
        "colab": {
          "base_uri": "https://localhost:8080/"
        },
        "id": "yn5AiNep97F4",
        "outputId": "389d6462-a923-4fcc-fd45-0d38f7cd49da"
      },
      "outputs": [
        {
          "name": "stdout",
          "output_type": "stream",
          "text": [
            "Fitting 3 folds for each of 216 candidates, totalling 648 fits\n",
            "Best Parameters (Regressor): {'bootstrap': True, 'max_depth': 20, 'min_samples_leaf': 2, 'min_samples_split': 10, 'n_estimators': 300}\n",
            "Best Score (Regressor): 33.56\n"
          ]
        }
      ],
      "source": [
        "# Define the parameter grid for the regressor\n",
        "param_grid_reg = {\n",
        "    'n_estimators': [100, 200, 300],\n",
        "    'max_depth': [None, 10, 20, 30],\n",
        "    'min_samples_split': [2, 5, 10],\n",
        "    'min_samples_leaf': [1, 2, 4],\n",
        "    'bootstrap': [True, False]\n",
        "}\n",
        "\n",
        "# Initialize the GridSearchCV object for the regressor\n",
        "grid_search_reg = GridSearchCV(estimator=rf_regressor, param_grid=param_grid_reg, cv=3, n_jobs=-1, verbose=2, scoring='neg_mean_absolute_error')\n",
        "\n",
        "# Fit the grid search to the data\n",
        "grid_search_reg.fit(X_train, y_train)\n",
        "\n",
        "\n",
        "# Print the best parameters and best score\n",
        "print(f\"Best Parameters (Regressor): {grid_search_reg.best_params_}\")\n",
        "print(f\"Best Score (Regressor): {-grid_search_reg.best_score_:.2f}\")\n"
      ]
    },
    {
      "cell_type": "markdown",
      "metadata": {
        "id": "T_VYb3Hs-G3Y"
      },
      "source": [
        "**Evaluating the Tuned Regressor**"
      ]
    },
    {
      "cell_type": "code",
      "execution_count": null,
      "metadata": {
        "colab": {
          "base_uri": "https://localhost:8080/"
        },
        "id": "q9ZtM781-Hly",
        "outputId": "fe754f92-52da-47b5-d5c7-c45147978494"
      },
      "outputs": [
        {
          "name": "stdout",
          "output_type": "stream",
          "text": [
            "Tuned Model MAE: 33.13\n",
            "Tuned Model MSE: 1863.11\n",
            "Tuned Model RMSE: 43.16\n"
          ]
        }
      ],
      "source": [
        "# Use the best estimator from the grid search\n",
        "best_rf_regressor = grid_search_reg.best_estimator_\n",
        "\n",
        "# Make predictions\n",
        "y_pred_reg_tuned = best_rf_regressor.predict(X_test)\n",
        "\n",
        "# Evaluate the model\n",
        "mae_tuned = mean_absolute_error(y_test, y_pred_reg_tuned)\n",
        "mse_tuned = mean_squared_error(y_test, y_pred_reg_tuned)\n",
        "rmse_tuned = mse_tuned ** 0.5\n",
        "\n",
        "print(f\"Tuned Model MAE: {mae_tuned:.2f}\")\n",
        "print(f\"Tuned Model MSE: {mse_tuned:.2f}\")\n",
        "print(f\"Tuned Model RMSE: {rmse_tuned:.2f}\")\n"
      ]
    },
    {
      "cell_type": "markdown",
      "metadata": {
        "id": "vJJ0uWse-guf"
      },
      "source": [
        "**Reasoning**:\n",
        "* Cross-Validation: Provides a more robust estimate of model performance by averaging results from multiple folds.\n",
        "* GridSearchCV: Helps find the best combination of hyperparameters to optimize model performance.\n",
        "* Evaluation: Post-tuning evaluation helps compare the tuned model with the initial model to verify improvements.\n",
        "\n",
        "These steps will enhance your models and provide more reliable predictions. If you need further refinements or specific analyses, let me know how you'd like to proceed!"
      ]
    },
    {
      "cell_type": "markdown",
      "metadata": {
        "id": "zcC2iHKQ-ttt"
      },
      "source": [
        "# **5 Model Interpretation and Feature Importance**\n",
        "After tuning the models, it is essential to interpret the results and understand the feature importance. This step helps in identifying the key factors that influence the predictions and provides insights into the data."
      ]
    },
    {
      "cell_type": "markdown",
      "metadata": {
        "id": "treaq3F8_hdq"
      },
      "source": [
        "**7.1 Feature Importance for Classification Model**\n",
        "\n",
        "For the Random Forest classification model, we can use the feature importance scores to understand which features contribute most to predicting the match winner."
      ]
    },
    {
      "cell_type": "code",
      "execution_count": null,
      "metadata": {
        "colab": {
          "base_uri": "https://localhost:8080/",
          "height": 564
        },
        "id": "XHM7bEcf_XEW",
        "outputId": "766e2cf5-e5b7-449e-bdf5-5ad3535fecfa"
      },
      "outputs": [
        {
          "data": {
            "image/png": "[encoded data removed]",
            "text/plain": [
              "<Figure size 1200x600 with 1 Axes>"
            ]
          },
          "metadata": {},
          "output_type": "display_data"
        }
      ],
      "source": [
        "# Get feature importances from the best model\n",
        "feature_importances = best_rf_model.feature_importances_\n",
        "\n",
        "# Create a DataFrame for visualization\n",
        "feature_importance_df = pd.DataFrame({\n",
        "    'Feature': features,\n",
        "    'Importance': feature_importances\n",
        "}).sort_values(by='Importance', ascending=False)\n",
        "\n",
        "# Plot feature importances\n",
        "plt.figure(figsize=(12, 6))\n",
        "sns.barplot(x='Importance', y='Feature', data=feature_importance_df)\n",
        "plt.title('Feature Importance for Match Winner Prediction')\n",
        "plt.show()\n"
      ]
    },
    {
      "cell_type": "markdown",
      "metadata": {
        "id": "Kd4LRW1d_v-t"
      },
      "source": [
        "**7.2 Feature Importance for Regression Model**\n",
        "\n",
        "Similarly, for the Random Forest regression model, we can examine the feature importance scores to identify the key factors that influence the total runs scored in an over."
      ]
    },
    {
      "cell_type": "code",
      "execution_count": null,
      "metadata": {
        "colab": {
          "base_uri": "https://localhost:8080/",
          "height": 564
        },
        "id": "rzHowg-W_3VJ",
        "outputId": "8a55b3d3-9f3b-4665-b69e-90091f6c441c"
      },
      "outputs": [
        {
          "data": {
            "image/png": "[encoded data removed]",
            "text/plain": [
              "<Figure size 1200x600 with 1 Axes>"
            ]
          },
          "metadata": {},
          "output_type": "display_data"
        }
      ],
      "source": [
        "# Get feature importances from the best regressor model\n",
        "feature_importances_reg = best_rf_regressor.feature_importances_\n",
        "\n",
        "# Create a DataFrame for visualization\n",
        "feature_importance_reg_df = pd.DataFrame({\n",
        "    'Feature': features,\n",
        "    'Importance': feature_importances_reg\n",
        "}).sort_values(by='Importance', ascending=False)\n",
        "\n",
        "# Plot feature importances\n",
        "plt.figure(figsize=(12, 6))\n",
        "sns.barplot(x='Importance', y='Feature', data=feature_importance_reg_df)\n",
        "plt.title('Feature Importance for Runs Prediction')\n",
        "plt.show()\n"
      ]
    },
    {
      "cell_type": "markdown",
      "metadata": {
        "id": "7RCZciIYCQ_5"
      },
      "source": [
        "#**6 Deployment**\n",
        "Once the models are trained, tuned, and evaluated, the next step is to deploy them for making predictions on new data. This involves saving the models and creating functions to load and use them for predictions.\n",
        "\n",
        "**8.1 Saving the Models**\n",
        "\n",
        "We can use joblib to save the trained models."
      ]
    },
    {
      "cell_type": "code",
      "execution_count": null,
      "metadata": {
        "colab": {
          "base_uri": "https://localhost:8080/"
        },
        "id": "Ca2lsM5PCqYc",
        "outputId": "615ea087-c9aa-4503-97a8-b63901618736"
      },
      "outputs": [
        {
          "data": {
            "text/plain": [
              "['best_rf_regressor.pkl']"
            ]
          },
          "execution_count": 25,
          "metadata": {},
          "output_type": "execute_result"
        }
      ],
      "source": [
        "import joblib\n",
        "\n",
        "# Save the best classification model\n",
        "joblib.dump(best_rf_model, 'best_rf_model.pkl')\n",
        "\n",
        "# Save the best regression model\n",
        "joblib.dump(best_rf_regressor, 'best_rf_regressor.pkl')\n"
      ]
    },
    {
      "cell_type": "markdown",
      "metadata": {
        "id": "YTIdmLyNCt4y"
      },
      "source": [
        "**8.2 Loading and Using the Models**\n",
        "\n",
        "To make predictions using the saved models, we can load them and create prediction functions"
      ]
    },
    {
      "cell_type": "code",
      "execution_count": null,
      "metadata": {
        "colab": {
          "base_uri": "https://localhost:8080/",
          "height": 442
        },
        "collapsed": true,
        "id": "VTndzikwCuc5",
        "outputId": "40dc2187-b5df-4669-9def-5149c75713bd"
      },
      "outputs": [
        {
          "name": "stdout",
          "output_type": "stream",
          "text": [
            "Predicted Match Winner: Error: Input data does not contain any of the required features.\n"
          ]
        },
        {
          "ename": "ValueError",
          "evalue": "y contains previously unseen labels: 1",
          "output_type": "error",
          "traceback": [
            "\u001b[0;31m---------------------------------------------------------------------------\u001b[0m",
            "\u001b[0;31mKeyError\u001b[0m                                  Traceback (most recent call last)",
            "\u001b[0;32m/usr/local/lib/python3.10/dist-packages/sklearn/utils/_encode.py\u001b[0m in \u001b[0;36m_encode\u001b[0;34m(values, uniques, check_unknown)\u001b[0m\n\u001b[1;32m    223\u001b[0m         \u001b[0;32mtry\u001b[0m\u001b[0;34m:\u001b[0m\u001b[0;34m\u001b[0m\u001b[0;34m\u001b[0m\u001b[0m\n\u001b[0;32m--> 224\u001b[0;31m             \u001b[0;32mreturn\u001b[0m \u001b[0m_map_to_integer\u001b[0m\u001b[0;34m(\u001b[0m\u001b[0mvalues\u001b[0m\u001b[0;34m,\u001b[0m \u001b[0muniques\u001b[0m\u001b[0;34m)\u001b[0m\u001b[0;34m\u001b[0m\u001b[0;34m\u001b[0m\u001b[0m\n\u001b[0m\u001b[1;32m    225\u001b[0m         \u001b[0;32mexcept\u001b[0m \u001b[0mKeyError\u001b[0m \u001b[0;32mas\u001b[0m \u001b[0me\u001b[0m\u001b[0;34m:\u001b[0m\u001b[0;34m\u001b[0m\u001b[0;34m\u001b[0m\u001b[0m\n",
            "\u001b[0;32m/usr/local/lib/python3.10/dist-packages/sklearn/utils/_encode.py\u001b[0m in \u001b[0;36m_map_to_integer\u001b[0;34m(values, uniques)\u001b[0m\n\u001b[1;32m    163\u001b[0m     \u001b[0mtable\u001b[0m \u001b[0;34m=\u001b[0m \u001b[0m_nandict\u001b[0m\u001b[0;34m(\u001b[0m\u001b[0;34m{\u001b[0m\u001b[0mval\u001b[0m\u001b[0;34m:\u001b[0m \u001b[0mi\u001b[0m \u001b[0;32mfor\u001b[0m \u001b[0mi\u001b[0m\u001b[0;34m,\u001b[0m \u001b[0mval\u001b[0m \u001b[0;32min\u001b[0m \u001b[0menumerate\u001b[0m\u001b[0;34m(\u001b[0m\u001b[0muniques\u001b[0m\u001b[0;34m)\u001b[0m\u001b[0;34m}\u001b[0m\u001b[0;34m)\u001b[0m\u001b[0;34m\u001b[0m\u001b[0;34m\u001b[0m\u001b[0m\n\u001b[0;32m--> 164\u001b[0;31m     \u001b[0;32mreturn\u001b[0m \u001b[0mnp\u001b[0m\u001b[0;34m.\u001b[0m\u001b[0marray\u001b[0m\u001b[0;34m(\u001b[0m\u001b[0;34m[\u001b[0m\u001b[0mtable\u001b[0m\u001b[0;34m[\u001b[0m\u001b[0mv\u001b[0m\u001b[0;34m]\u001b[0m \u001b[0;32mfor\u001b[0m \u001b[0mv\u001b[0m \u001b[0;32min\u001b[0m \u001b[0mvalues\u001b[0m\u001b[0;34m]\u001b[0m\u001b[0;34m)\u001b[0m\u001b[0;34m\u001b[0m\u001b[0;34m\u001b[0m\u001b[0m\n\u001b[0m\u001b[1;32m    165\u001b[0m \u001b[0;34m\u001b[0m\u001b[0m\n",
            "\u001b[0;32m/usr/local/lib/python3.10/dist-packages/sklearn/utils/_encode.py\u001b[0m in \u001b[0;36m<listcomp>\u001b[0;34m(.0)\u001b[0m\n\u001b[1;32m    163\u001b[0m     \u001b[0mtable\u001b[0m \u001b[0;34m=\u001b[0m \u001b[0m_nandict\u001b[0m\u001b[0;34m(\u001b[0m\u001b[0;34m{\u001b[0m\u001b[0mval\u001b[0m\u001b[0;34m:\u001b[0m \u001b[0mi\u001b[0m \u001b[0;32mfor\u001b[0m \u001b[0mi\u001b[0m\u001b[0;34m,\u001b[0m \u001b[0mval\u001b[0m \u001b[0;32min\u001b[0m \u001b[0menumerate\u001b[0m\u001b[0;34m(\u001b[0m\u001b[0muniques\u001b[0m\u001b[0;34m)\u001b[0m\u001b[0;34m}\u001b[0m\u001b[0;34m)\u001b[0m\u001b[0;34m\u001b[0m\u001b[0;34m\u001b[0m\u001b[0m\n\u001b[0;32m--> 164\u001b[0;31m     \u001b[0;32mreturn\u001b[0m \u001b[0mnp\u001b[0m\u001b[0;34m.\u001b[0m\u001b[0marray\u001b[0m\u001b[0;34m(\u001b[0m\u001b[0;34m[\u001b[0m\u001b[0mtable\u001b[0m\u001b[0;34m[\u001b[0m\u001b[0mv\u001b[0m\u001b[0;34m]\u001b[0m \u001b[0;32mfor\u001b[0m \u001b[0mv\u001b[0m \u001b[0;32min\u001b[0m \u001b[0mvalues\u001b[0m\u001b[0;34m]\u001b[0m\u001b[0;34m)\u001b[0m\u001b[0;34m\u001b[0m\u001b[0;34m\u001b[0m\u001b[0m\n\u001b[0m\u001b[1;32m    165\u001b[0m \u001b[0;34m\u001b[0m\u001b[0m\n",
            "\u001b[0;32m/usr/local/lib/python3.10/dist-packages/sklearn/utils/_encode.py\u001b[0m in \u001b[0;36m__missing__\u001b[0;34m(self, key)\u001b[0m\n\u001b[1;32m    157\u001b[0m             \u001b[0;32mreturn\u001b[0m \u001b[0mself\u001b[0m\u001b[0;34m.\u001b[0m\u001b[0mnan_value\u001b[0m\u001b[0;34m\u001b[0m\u001b[0;34m\u001b[0m\u001b[0m\n\u001b[0;32m--> 158\u001b[0;31m         \u001b[0;32mraise\u001b[0m \u001b[0mKeyError\u001b[0m\u001b[0;34m(\u001b[0m\u001b[0mkey\u001b[0m\u001b[0;34m)\u001b[0m\u001b[0;34m\u001b[0m\u001b[0;34m\u001b[0m\u001b[0m\n\u001b[0m\u001b[1;32m    159\u001b[0m \u001b[0;34m\u001b[0m\u001b[0m\n",
            "\u001b[0;31mKeyError\u001b[0m: 1",
            "\nDuring handling of the above exception, another exception occurred:\n",
            "\u001b[0;31mValueError\u001b[0m                                Traceback (most recent call last)",
            "\u001b[0;32m<ipython-input-33-9c021c9eca31>\u001b[0m in \u001b[0;36m<cell line: 65>\u001b[0;34m()\u001b[0m\n\u001b[1;32m     63\u001b[0m \u001b[0;31m# Make sure 'match_details' and 'over_details' contain the correct features used during training\u001b[0m\u001b[0;34m\u001b[0m\u001b[0;34m\u001b[0m\u001b[0m\n\u001b[1;32m     64\u001b[0m \u001b[0mprint\u001b[0m\u001b[0;34m(\u001b[0m\u001b[0;34mf\"Predicted Match Winner: {predict_match_winner(match_details, features, le)}\"\u001b[0m\u001b[0;34m)\u001b[0m\u001b[0;34m\u001b[0m\u001b[0;34m\u001b[0m\u001b[0m\n\u001b[0;32m---> 65\u001b[0;31m \u001b[0mprint\u001b[0m\u001b[0;34m(\u001b[0m\u001b[0;34mf\"Predicted Runs in Over: {predict_runs_in_over(over_details, features, le):.2f}\"\u001b[0m\u001b[0;34m)\u001b[0m\u001b[0;34m\u001b[0m\u001b[0;34m\u001b[0m\u001b[0m\n\u001b[0m",
            "\u001b[0;32m<ipython-input-33-9c021c9eca31>\u001b[0m in \u001b[0;36mpredict_runs_in_over\u001b[0;34m(over_details, features, le)\u001b[0m\n\u001b[1;32m     47\u001b[0m     \u001b[0;32mfor\u001b[0m \u001b[0mcol\u001b[0m \u001b[0;32min\u001b[0m \u001b[0mfeatures\u001b[0m\u001b[0;34m:\u001b[0m\u001b[0;34m\u001b[0m\u001b[0;34m\u001b[0m\u001b[0m\n\u001b[1;32m     48\u001b[0m         \u001b[0;32mif\u001b[0m \u001b[0mcol\u001b[0m \u001b[0;34m!=\u001b[0m \u001b[0;34m'over'\u001b[0m \u001b[0;32mand\u001b[0m \u001b[0mcol\u001b[0m \u001b[0;32min\u001b[0m \u001b[0mover_details\u001b[0m\u001b[0;34m:\u001b[0m\u001b[0;34m\u001b[0m\u001b[0;34m\u001b[0m\u001b[0m\n\u001b[0;32m---> 49\u001b[0;31m             \u001b[0mover_details_encoded\u001b[0m\u001b[0;34m[\u001b[0m\u001b[0mcol\u001b[0m\u001b[0;34m]\u001b[0m \u001b[0;34m=\u001b[0m \u001b[0mle\u001b[0m\u001b[0;34m.\u001b[0m\u001b[0mtransform\u001b[0m\u001b[0;34m(\u001b[0m\u001b[0;34m[\u001b[0m\u001b[0mover_details\u001b[0m\u001b[0;34m[\u001b[0m\u001b[0mcol\u001b[0m\u001b[0;34m]\u001b[0m\u001b[0;34m]\u001b[0m\u001b[0;34m)\u001b[0m\u001b[0;34m[\u001b[0m\u001b[0;36m0\u001b[0m\u001b[0;34m]\u001b[0m\u001b[0;34m\u001b[0m\u001b[0;34m\u001b[0m\u001b[0m\n\u001b[0m\u001b[1;32m     50\u001b[0m     \u001b[0mover_details_df\u001b[0m \u001b[0;34m=\u001b[0m \u001b[0mpd\u001b[0m\u001b[0;34m.\u001b[0m\u001b[0mDataFrame\u001b[0m\u001b[0;34m(\u001b[0m\u001b[0;34m[\u001b[0m\u001b[0mover_details_encoded\u001b[0m\u001b[0;34m]\u001b[0m\u001b[0;34m)\u001b[0m\u001b[0;34m\u001b[0m\u001b[0;34m\u001b[0m\u001b[0m\n\u001b[1;32m     51\u001b[0m     \u001b[0;31m# Select only the features that are in the DataFrame\u001b[0m\u001b[0;34m\u001b[0m\u001b[0;34m\u001b[0m\u001b[0m\n",
            "\u001b[0;32m/usr/local/lib/python3.10/dist-packages/sklearn/utils/_set_output.py\u001b[0m in \u001b[0;36mwrapped\u001b[0;34m(self, X, *args, **kwargs)\u001b[0m\n\u001b[1;32m    138\u001b[0m     \u001b[0;34m@\u001b[0m\u001b[0mwraps\u001b[0m\u001b[0;34m(\u001b[0m\u001b[0mf\u001b[0m\u001b[0;34m)\u001b[0m\u001b[0;34m\u001b[0m\u001b[0;34m\u001b[0m\u001b[0m\n\u001b[1;32m    139\u001b[0m     \u001b[0;32mdef\u001b[0m \u001b[0mwrapped\u001b[0m\u001b[0;34m(\u001b[0m\u001b[0mself\u001b[0m\u001b[0;34m,\u001b[0m \u001b[0mX\u001b[0m\u001b[0;34m,\u001b[0m \u001b[0;34m*\u001b[0m\u001b[0margs\u001b[0m\u001b[0;34m,\u001b[0m \u001b[0;34m**\u001b[0m\u001b[0mkwargs\u001b[0m\u001b[0;34m)\u001b[0m\u001b[0;34m:\u001b[0m\u001b[0;34m\u001b[0m\u001b[0;34m\u001b[0m\u001b[0m\n\u001b[0;32m--> 140\u001b[0;31m         \u001b[0mdata_to_wrap\u001b[0m \u001b[0;34m=\u001b[0m \u001b[0mf\u001b[0m\u001b[0;34m(\u001b[0m\u001b[0mself\u001b[0m\u001b[0;34m,\u001b[0m \u001b[0mX\u001b[0m\u001b[0;34m,\u001b[0m \u001b[0;34m*\u001b[0m\u001b[0margs\u001b[0m\u001b[0;34m,\u001b[0m \u001b[0;34m**\u001b[0m\u001b[0mkwargs\u001b[0m\u001b[0;34m)\u001b[0m\u001b[0;34m\u001b[0m\u001b[0;34m\u001b[0m\u001b[0m\n\u001b[0m\u001b[1;32m    141\u001b[0m         \u001b[0;32mif\u001b[0m \u001b[0misinstance\u001b[0m\u001b[0;34m(\u001b[0m\u001b[0mdata_to_wrap\u001b[0m\u001b[0;34m,\u001b[0m \u001b[0mtuple\u001b[0m\u001b[0;34m)\u001b[0m\u001b[0;34m:\u001b[0m\u001b[0;34m\u001b[0m\u001b[0;34m\u001b[0m\u001b[0m\n\u001b[1;32m    142\u001b[0m             \u001b[0;31m# only wrap the first output for cross decomposition\u001b[0m\u001b[0;34m\u001b[0m\u001b[0;34m\u001b[0m\u001b[0m\n",
            "\u001b[0;32m/usr/local/lib/python3.10/dist-packages/sklearn/preprocessing/_label.py\u001b[0m in \u001b[0;36mtransform\u001b[0;34m(self, y)\u001b[0m\n\u001b[1;32m    137\u001b[0m             \u001b[0;32mreturn\u001b[0m \u001b[0mnp\u001b[0m\u001b[0;34m.\u001b[0m\u001b[0marray\u001b[0m\u001b[0;34m(\u001b[0m\u001b[0;34m[\u001b[0m\u001b[0;34m]\u001b[0m\u001b[0;34m)\u001b[0m\u001b[0;34m\u001b[0m\u001b[0;34m\u001b[0m\u001b[0m\n\u001b[1;32m    138\u001b[0m \u001b[0;34m\u001b[0m\u001b[0m\n\u001b[0;32m--> 139\u001b[0;31m         \u001b[0;32mreturn\u001b[0m \u001b[0m_encode\u001b[0m\u001b[0;34m(\u001b[0m\u001b[0my\u001b[0m\u001b[0;34m,\u001b[0m \u001b[0muniques\u001b[0m\u001b[0;34m=\u001b[0m\u001b[0mself\u001b[0m\u001b[0;34m.\u001b[0m\u001b[0mclasses_\u001b[0m\u001b[0;34m)\u001b[0m\u001b[0;34m\u001b[0m\u001b[0;34m\u001b[0m\u001b[0m\n\u001b[0m\u001b[1;32m    140\u001b[0m \u001b[0;34m\u001b[0m\u001b[0m\n\u001b[1;32m    141\u001b[0m     \u001b[0;32mdef\u001b[0m \u001b[0minverse_transform\u001b[0m\u001b[0;34m(\u001b[0m\u001b[0mself\u001b[0m\u001b[0;34m,\u001b[0m \u001b[0my\u001b[0m\u001b[0;34m)\u001b[0m\u001b[0;34m:\u001b[0m\u001b[0;34m\u001b[0m\u001b[0;34m\u001b[0m\u001b[0m\n",
            "\u001b[0;32m/usr/local/lib/python3.10/dist-packages/sklearn/utils/_encode.py\u001b[0m in \u001b[0;36m_encode\u001b[0;34m(values, uniques, check_unknown)\u001b[0m\n\u001b[1;32m    224\u001b[0m             \u001b[0;32mreturn\u001b[0m \u001b[0m_map_to_integer\u001b[0m\u001b[0;34m(\u001b[0m\u001b[0mvalues\u001b[0m\u001b[0;34m,\u001b[0m \u001b[0muniques\u001b[0m\u001b[0;34m)\u001b[0m\u001b[0;34m\u001b[0m\u001b[0;34m\u001b[0m\u001b[0m\n\u001b[1;32m    225\u001b[0m         \u001b[0;32mexcept\u001b[0m \u001b[0mKeyError\u001b[0m \u001b[0;32mas\u001b[0m \u001b[0me\u001b[0m\u001b[0;34m:\u001b[0m\u001b[0;34m\u001b[0m\u001b[0;34m\u001b[0m\u001b[0m\n\u001b[0;32m--> 226\u001b[0;31m             \u001b[0;32mraise\u001b[0m \u001b[0mValueError\u001b[0m\u001b[0;34m(\u001b[0m\u001b[0;34mf\"y contains previously unseen labels: {str(e)}\"\u001b[0m\u001b[0;34m)\u001b[0m\u001b[0;34m\u001b[0m\u001b[0;34m\u001b[0m\u001b[0m\n\u001b[0m\u001b[1;32m    227\u001b[0m     \u001b[0;32melse\u001b[0m\u001b[0;34m:\u001b[0m\u001b[0;34m\u001b[0m\u001b[0;34m\u001b[0m\u001b[0m\n\u001b[1;32m    228\u001b[0m         \u001b[0;32mif\u001b[0m \u001b[0mcheck_unknown\u001b[0m\u001b[0;34m:\u001b[0m\u001b[0;34m\u001b[0m\u001b[0;34m\u001b[0m\u001b[0m\n",
            "\u001b[0;31mValueError\u001b[0m: y contains previously unseen labels: 1"
          ]
        }
      ],
      "source": [
        "# Load the models\n",
        "loaded_rf_model = joblib.load('best_rf_model.pkl')\n",
        "loaded_rf_regressor = joblib.load('best_rf_regressor.pkl')\n",
        "\n",
        "# Function to predict match winner\n",
        "def predict_match_winner(match_details):\n",
        "    match_details_encoded = match_details.copy()\n",
        "    for col in features:\n",
        "        match_details_encoded[col] = le.transform([match_details[col]])[0]\n",
        "    match_details_df = pd.DataFrame([match_details_encoded])\n",
        "    prediction = loaded_rf_model.predict(match_details_df)\n",
        "    return le.inverse_transform(prediction)[0]\n",
        "\n",
        "# Function to predict runs in an over\n",
        "def predict_runs_in_over(over_details):\n",
        "    over_details_encoded = over_details.copy()\n",
        "    for col in features:\n",
        "        if col != 'over':\n",
        "            over_details_encoded[col] = le.transform([over_details[col]])[0]\n",
        "    over_details_df = pd.DataFrame([over_details_encoded])\n",
        "    prediction = loaded_rf_regressor.predict(over_details_df)\n",
        "    return prediction[0]\n",
        "\n",
        "# Example usage\n",
        "match_details = {\n",
        "    'season': '2020',\n",
        "    'city': 'Mumbai',\n",
        "    'venue': 'Wankhede Stadium',\n",
        "    'team1': 'Mumbai Indians',\n",
        "    'team2': 'Chennai Super Kings',\n",
        "    'toss_winner': 'Mumbai Indians',\n",
        "    'toss_decision': 'bat',\n",
        "    'match_type': 'League'\n",
        "}\n",
        "\n",
        "over_details = {\n",
        "    'match_id': 1,\n",
        "    'inning': 1,\n",
        "    'batting_team': 'Mumbai Indians',\n",
        "    'bowling_team': 'Chennai Super Kings',\n",
        "    'over': 5\n",
        "}\n",
        "\n",
        "print(f\"Predicted Match Winner: {predict_match_winner(match_details)}\")\n",
        "print(f\"Predicted Runs in Over: {predict_runs_in_over(over_details):.2f}\")\n"
      ]
    },
    {
      "cell_type": "markdown",
      "metadata": {
        "id": "t5_Bs_kXHBiM"
      },
      "source": [
        "**Reasoning:**\n",
        "\n",
        "**Feature Importance:** Understanding which features are most important helps in interpreting the model and provides insights into the data.\n",
        "\n",
        "**Model Deployment:** Saving and loading models allows you to use them for making predictions on new data, enabling practical application of your work.\n",
        "\n",
        "**Prediction Functions:** Creating functions for prediction makes it easy to use the models in different scenarios and integrates them into applications.\n",
        "\n",
        "These steps complete the process of building, tuning, interpreting, and deploying machine learning models using IPL data. If you need further refinement or additional analyses, please let me know!"
      ]
    },
    {
      "cell_type": "markdown",
      "metadata": {
        "id": "MAjvDadl8Uw9"
      },
      "source": [
        "#ipl"
      ]
    }
  ],
  "metadata": {
    "accelerator": "TPU",
    "colab": {
      "collapsed_sections": [
        "8ouqyHYx599E",
        "EMmN5OBG5yro",
        "GZCCTB4405Cp",
        "CCqOLCOJ0st_"
      ],
      "gpuType": "V28",
      "provenance": []
    },
    "kernelspec": {
      "display_name": "Python 3",
      "name": "python3"
    },
    "language_info": {
      "codemirror_mode": {
        "name": "ipython",
        "version": 3
      },
      "file_extension": ".py",
      "mimetype": "text/x-python",
      "name": "python",
      "nbconvert_exporter": "python",
      "pygments_lexer": "ipython3",
      "version": "3.10.13"
    }
  },
  "nbformat": 4,
  "nbformat_minor": 0
}